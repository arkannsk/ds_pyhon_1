{
 "cells": [
  {
   "cell_type": "code",
   "execution_count": 1,
   "metadata": {
    "collapsed": true
   },
   "outputs": [],
   "source": [
    "import numpy as np\n",
    "import pandas as pd\n",
    "import random\n",
    "\n",
    "from sklearn.model_selection import train_test_split, cross_val_score\n",
    "from sklearn.ensemble import GradientBoostingRegressor\n",
    "from sklearn.metrics import r2_score as r2\n",
    "from sklearn.model_selection import KFold\n",
    "\n",
    "from datetime import datetime\n",
    "\n",
    "import matplotlib\n",
    "import matplotlib.pyplot as plt\n",
    "import seaborn as sns\n",
    "%matplotlib inline"
   ]
  },
  {
   "cell_type": "code",
   "execution_count": 2,
   "metadata": {
    "pycharm": {
     "name": "#%%\n"
    }
   },
   "outputs": [],
   "source": [
    "import warnings\n",
    "warnings.filterwarnings('ignore')"
   ]
  },
  {
   "cell_type": "code",
   "execution_count": 3,
   "metadata": {
    "pycharm": {
     "name": "#%%\n"
    }
   },
   "outputs": [],
   "source": [
    "matplotlib.rcParams.update({'font.size': 14})"
   ]
  },
  {
   "cell_type": "markdown",
   "source": [
    "## План\n",
    "\n",
    " + [1. EDA](#EDA)\n",
    " + [2. Обработка выбросов и заполнение пропусков](#Processing)\n",
    " + [3. Построение новых признаков](#NewFeature)\n",
    " + [4. Построение модели](#Model)\n",
    " + [5. Прогнозирование на тестовом датасете](#Finish)"
   ],
   "metadata": {
    "collapsed": false,
    "pycharm": {
     "name": "#%% md\n"
    }
   }
  },
  {
   "cell_type": "markdown",
   "metadata": {},
   "source": [
    "#### Пути к файлам"
   ]
  },
  {
   "cell_type": "code",
   "execution_count": 4,
   "metadata": {
    "pycharm": {
     "name": "#%%\n"
    }
   },
   "outputs": [],
   "source": [
    "TRAIN_DATASET_PATH = './input/train.csv'\n",
    "TEST_DATASET_PATH = './input/test.csv'\n",
    "SUBMIT_FILE_PATH = './input/sample_submission.csv'\n",
    "\n",
    "OUTPUT_FILE = './output/result.csv'"
   ]
  },
  {
   "cell_type": "markdown",
   "metadata": {},
   "source": [
    "## Загрузка данных\n",
    "\n",
    "### Описание датасета\n",
    "\n",
    "- **Id** - идентификационный номер квартиры\n",
    "- **DistrictId** - идентификационный номер района\n",
    "- **Rooms** - количество комнат\n",
    "- **Square** - площадь\n",
    "- **LifeSquare** - жилая площадь\n",
    "- **KitchenSquare** - площадь кухни\n",
    "- **Floor** - этаж\n",
    "- **HouseFloor** - количество этажей в доме\n",
    "- **HouseYear** - год постройки дома\n",
    "- **Ecology_1, Ecology_2, Ecology_3** - экологические показатели местности\n",
    "- **Social_1, Social_2, Social_3** - социальные показатели местности\n",
    "- **Healthcare_1, Helthcare_2** - показатели местности, связанные с охраной здоровья\n",
    "- **Shops_1, Shops_2** - показатели, связанные с наличием магазинов, торговых центров\n",
    "- **Price** - цена квартиры\n"
   ]
  },
  {
   "cell_type": "code",
   "execution_count": 5,
   "metadata": {
    "pycharm": {
     "name": "#%%\n"
    }
   },
   "outputs": [
    {
     "name": "stdout",
     "output_type": "stream",
     "text": [
      "<class 'pandas.core.frame.DataFrame'>\n",
      "RangeIndex: 10000 entries, 0 to 9999\n",
      "Data columns (total 20 columns):\n",
      " #   Column         Non-Null Count  Dtype  \n",
      "---  ------         --------------  -----  \n",
      " 0   Id             10000 non-null  int64  \n",
      " 1   DistrictId     10000 non-null  int64  \n",
      " 2   Rooms          10000 non-null  float64\n",
      " 3   Square         10000 non-null  float64\n",
      " 4   LifeSquare     7887 non-null   float64\n",
      " 5   KitchenSquare  10000 non-null  float64\n",
      " 6   Floor          10000 non-null  int64  \n",
      " 7   HouseFloor     10000 non-null  float64\n",
      " 8   HouseYear      10000 non-null  int64  \n",
      " 9   Ecology_1      10000 non-null  float64\n",
      " 10  Ecology_2      10000 non-null  object \n",
      " 11  Ecology_3      10000 non-null  object \n",
      " 12  Social_1       10000 non-null  int64  \n",
      " 13  Social_2       10000 non-null  int64  \n",
      " 14  Social_3       10000 non-null  int64  \n",
      " 15  Healthcare_1   5202 non-null   float64\n",
      " 16  Helthcare_2    10000 non-null  int64  \n",
      " 17  Shops_1        10000 non-null  int64  \n",
      " 18  Shops_2        10000 non-null  object \n",
      " 19  Price          10000 non-null  float64\n",
      "dtypes: float64(8), int64(9), object(3)\n",
      "memory usage: 1.5+ MB\n"
     ]
    }
   ],
   "source": [
    "train_df = pd.read_csv(TRAIN_DATASET_PATH)\n",
    "train_df.info()\n"
   ]
  },
  {
   "cell_type": "markdown",
   "source": [
    "\n",
    "Приведение типов"
   ],
   "metadata": {
    "collapsed": false
   }
  },
  {
   "cell_type": "code",
   "execution_count": 6,
   "outputs": [
    {
     "data": {
      "text/plain": "Id                object\nDistrictId        object\nRooms            float64\nSquare           float64\nLifeSquare       float64\nKitchenSquare    float64\nFloor              int64\nHouseFloor       float64\nHouseYear          int64\nEcology_1        float64\nEcology_2         object\nEcology_3         object\nSocial_1           int64\nSocial_2           int64\nSocial_3           int64\nHealthcare_1     float64\nHelthcare_2        int64\nShops_1            int64\nShops_2           object\nPrice            float64\ndtype: object"
     },
     "execution_count": 6,
     "metadata": {},
     "output_type": "execute_result"
    }
   ],
   "source": [
    "train_df['Id'] = train_df['Id'].astype(str)\n",
    "train_df['DistrictId'] = train_df['DistrictId'].astype(str)\n",
    "\n",
    "train_df.dtypes"
   ],
   "metadata": {
    "collapsed": false,
    "pycharm": {
     "name": "#%%\n"
    }
   }
  },
  {
   "cell_type": "markdown",
   "source": [
    "### 1. EDA\n",
    "<a name =\"EDA\"></a>\n",
    "\n",
    "#### Целевая переменная"
   ],
   "metadata": {
    "collapsed": false
   }
  },
  {
   "cell_type": "code",
   "execution_count": 7,
   "outputs": [
    {
     "data": {
      "text/plain": "<Figure size 1152x576 with 1 Axes>",
      "image/png": "[encoded data removed]"
     },
     "metadata": {
      "needs_background": "light"
     },
     "output_type": "display_data"
    }
   ],
   "source": [
    "plt.figure(figsize = (16, 8))\n",
    "\n",
    "train_df['Price'].hist(bins=40)\n",
    "plt.ylabel('Count')\n",
    "plt.xlabel('Price')\n",
    "\n",
    "plt.title('Target distribution')\n",
    "plt.show()\n"
   ],
   "metadata": {
    "collapsed": false,
    "pycharm": {
     "name": "#%%\n"
    }
   }
  },
  {
   "cell_type": "markdown",
   "source": [
    "#### Количественные переменные"
   ],
   "metadata": {
    "collapsed": false
   }
  },
  {
   "cell_type": "code",
   "execution_count": 8,
   "outputs": [
    {
     "data": {
      "text/plain": "              Rooms        Square   LifeSquare  KitchenSquare         Floor  \\\ncount  10000.000000  10000.000000  7887.000000   10000.000000  10000.000000   \nmean       1.890500     56.315775    37.199645       6.273300      8.526700   \nstd        0.839512     21.058732    86.241209      28.560917      5.241148   \nmin        0.000000      1.136859     0.370619       0.000000      1.000000   \n25%        1.000000     41.774881    22.769832       1.000000      4.000000   \n50%        2.000000     52.513310    32.781260       6.000000      7.000000   \n75%        2.000000     65.900625    45.128803       9.000000     12.000000   \nmax       19.000000    641.065193  7480.592129    2014.000000     42.000000   \n\n         HouseFloor     HouseYear     Ecology_1      Social_1      Social_2  \\\ncount  10000.000000  1.000000e+04  10000.000000  10000.000000  10000.000000   \nmean      12.609400  3.990166e+03      0.118858     24.687000   5352.157400   \nstd        6.775974  2.005003e+05      0.119025     17.532614   4006.799803   \nmin        0.000000  1.910000e+03      0.000000      0.000000    168.000000   \n25%        9.000000  1.974000e+03      0.017647      6.000000   1564.000000   \n50%       13.000000  1.977000e+03      0.075424     25.000000   5285.000000   \n75%       17.000000  2.001000e+03      0.195781     36.000000   7227.000000   \nmax      117.000000  2.005201e+07      0.521867     74.000000  19083.000000   \n\n           Social_3  Healthcare_1   Helthcare_2       Shops_1          Price  \ncount  10000.000000   5202.000000  10000.000000  10000.000000   10000.000000  \nmean       8.039200   1142.904460      1.319500      4.231300  214138.857399  \nstd       23.831875   1021.517264      1.493601      4.806341   92872.293865  \nmin        0.000000      0.000000      0.000000      0.000000   59174.778028  \n25%        0.000000    350.000000      0.000000      1.000000  153872.633942  \n50%        2.000000    900.000000      1.000000      3.000000  192269.644879  \n75%        5.000000   1548.000000      2.000000      6.000000  249135.462171  \nmax      141.000000   4849.000000      6.000000     23.000000  633233.466570  ",
      "text/html": "<div>\n<style scoped>\n    .dataframe tbody tr th:only-of-type {\n        vertical-align: middle;\n    }\n\n    .dataframe tbody tr th {\n        vertical-align: top;\n    }\n\n    .dataframe thead th {\n        text-align: right;\n    }\n</style>\n<table border=\"1\" class=\"dataframe\">\n  <thead>\n    <tr style=\"text-align: right;\">\n      <th></th>\n      <th>Rooms</th>\n      <th>Square</th>\n      <th>LifeSquare</th>\n      <th>KitchenSquare</th>\n      <th>Floor</th>\n      <th>HouseFloor</th>\n      <th>HouseYear</th>\n      <th>Ecology_1</th>\n      <th>Social_1</th>\n      <th>Social_2</th>\n      <th>Social_3</th>\n      <th>Healthcare_1</th>\n      <th>Helthcare_2</th>\n      <th>Shops_1</th>\n      <th>Price</th>\n    </tr>\n  </thead>\n  <tbody>\n    <tr>\n      <th>count</th>\n      <td>10000.000000</td>\n      <td>10000.000000</td>\n      <td>7887.000000</td>\n      <td>10000.000000</td>\n      <td>10000.000000</td>\n      <td>10000.000000</td>\n      <td>1.000000e+04</td>\n      <td>10000.000000</td>\n      <td>10000.000000</td>\n      <td>10000.000000</td>\n      <td>10000.000000</td>\n      <td>5202.000000</td>\n      <td>10000.000000</td>\n      <td>10000.000000</td>\n      <td>10000.000000</td>\n    </tr>\n    <tr>\n      <th>mean</th>\n      <td>1.890500</td>\n      <td>56.315775</td>\n      <td>37.199645</td>\n      <td>6.273300</td>\n      <td>8.526700</td>\n      <td>12.609400</td>\n      <td>3.990166e+03</td>\n      <td>0.118858</td>\n      <td>24.687000</td>\n      <td>5352.157400</td>\n      <td>8.039200</td>\n      <td>1142.904460</td>\n      <td>1.319500</td>\n      <td>4.231300</td>\n      <td>214138.857399</td>\n    </tr>\n    <tr>\n      <th>std</th>\n      <td>0.839512</td>\n      <td>21.058732</td>\n      <td>86.241209</td>\n      <td>28.560917</td>\n      <td>5.241148</td>\n      <td>6.775974</td>\n      <td>2.005003e+05</td>\n      <td>0.119025</td>\n      <td>17.532614</td>\n      <td>4006.799803</td>\n      <td>23.831875</td>\n      <td>1021.517264</td>\n      <td>1.493601</td>\n      <td>4.806341</td>\n      <td>92872.293865</td>\n    </tr>\n    <tr>\n      <th>min</th>\n      <td>0.000000</td>\n      <td>1.136859</td>\n      <td>0.370619</td>\n      <td>0.000000</td>\n      <td>1.000000</td>\n      <td>0.000000</td>\n      <td>1.910000e+03</td>\n      <td>0.000000</td>\n      <td>0.000000</td>\n      <td>168.000000</td>\n      <td>0.000000</td>\n      <td>0.000000</td>\n      <td>0.000000</td>\n      <td>0.000000</td>\n      <td>59174.778028</td>\n    </tr>\n    <tr>\n      <th>25%</th>\n      <td>1.000000</td>\n      <td>41.774881</td>\n      <td>22.769832</td>\n      <td>1.000000</td>\n      <td>4.000000</td>\n      <td>9.000000</td>\n      <td>1.974000e+03</td>\n      <td>0.017647</td>\n      <td>6.000000</td>\n      <td>1564.000000</td>\n      <td>0.000000</td>\n      <td>350.000000</td>\n      <td>0.000000</td>\n      <td>1.000000</td>\n      <td>153872.633942</td>\n    </tr>\n    <tr>\n      <th>50%</th>\n      <td>2.000000</td>\n      <td>52.513310</td>\n      <td>32.781260</td>\n      <td>6.000000</td>\n      <td>7.000000</td>\n      <td>13.000000</td>\n      <td>1.977000e+03</td>\n      <td>0.075424</td>\n      <td>25.000000</td>\n      <td>5285.000000</td>\n      <td>2.000000</td>\n      <td>900.000000</td>\n      <td>1.000000</td>\n      <td>3.000000</td>\n      <td>192269.644879</td>\n    </tr>\n    <tr>\n      <th>75%</th>\n      <td>2.000000</td>\n      <td>65.900625</td>\n      <td>45.128803</td>\n      <td>9.000000</td>\n      <td>12.000000</td>\n      <td>17.000000</td>\n      <td>2.001000e+03</td>\n      <td>0.195781</td>\n      <td>36.000000</td>\n      <td>7227.000000</td>\n      <td>5.000000</td>\n      <td>1548.000000</td>\n      <td>2.000000</td>\n      <td>6.000000</td>\n      <td>249135.462171</td>\n    </tr>\n    <tr>\n      <th>max</th>\n      <td>19.000000</td>\n      <td>641.065193</td>\n      <td>7480.592129</td>\n      <td>2014.000000</td>\n      <td>42.000000</td>\n      <td>117.000000</td>\n      <td>2.005201e+07</td>\n      <td>0.521867</td>\n      <td>74.000000</td>\n      <td>19083.000000</td>\n      <td>141.000000</td>\n      <td>4849.000000</td>\n      <td>6.000000</td>\n      <td>23.000000</td>\n      <td>633233.466570</td>\n    </tr>\n  </tbody>\n</table>\n</div>"
     },
     "execution_count": 8,
     "metadata": {},
     "output_type": "execute_result"
    }
   ],
   "source": [
    "train_df.describe()"
   ],
   "metadata": {
    "collapsed": false,
    "pycharm": {
     "name": "#%%\n"
    }
   }
  },
  {
   "cell_type": "markdown",
   "source": [
    "#### Номинативные переменные"
   ],
   "metadata": {
    "collapsed": false
   }
  },
  {
   "cell_type": "code",
   "source": [
    "train_df.select_dtypes(include='object').columns.tolist()"
   ],
   "metadata": {
    "collapsed": false,
    "pycharm": {
     "name": "#%%\n"
    }
   },
   "execution_count": 9,
   "outputs": [
    {
     "data": {
      "text/plain": "['Id', 'DistrictId', 'Ecology_2', 'Ecology_3', 'Shops_2']"
     },
     "execution_count": 9,
     "metadata": {},
     "output_type": "execute_result"
    }
   ]
  },
  {
   "cell_type": "code",
   "execution_count": 10,
   "outputs": [
    {
     "data": {
      "text/plain": "27     851\n1      652\n23     565\n6      511\n9      294\n      ... \n117      1\n196      1\n174      1\n209      1\n199      1\nName: DistrictId, Length: 205, dtype: int64"
     },
     "execution_count": 10,
     "metadata": {},
     "output_type": "execute_result"
    }
   ],
   "source": [
    "train_df['DistrictId'].value_counts()"
   ],
   "metadata": {
    "collapsed": false,
    "pycharm": {
     "name": "#%%\n"
    }
   }
  },
  {
   "cell_type": "code",
   "execution_count": 11,
   "outputs": [
    {
     "data": {
      "text/plain": "B    9903\nA      97\nName: Ecology_2, dtype: int64"
     },
     "execution_count": 11,
     "metadata": {},
     "output_type": "execute_result"
    }
   ],
   "source": [
    "train_df['Ecology_2'].value_counts()"
   ],
   "metadata": {
    "collapsed": false,
    "pycharm": {
     "name": "#%%\n"
    }
   }
  },
  {
   "cell_type": "code",
   "execution_count": 12,
   "outputs": [
    {
     "data": {
      "text/plain": "B    9725\nA     275\nName: Ecology_3, dtype: int64"
     },
     "execution_count": 12,
     "metadata": {},
     "output_type": "execute_result"
    }
   ],
   "source": [
    "train_df['Ecology_3'].value_counts()"
   ],
   "metadata": {
    "collapsed": false,
    "pycharm": {
     "name": "#%%\n"
    }
   }
  },
  {
   "cell_type": "code",
   "execution_count": 13,
   "outputs": [
    {
     "data": {
      "text/plain": "B    9175\nA     825\nName: Shops_2, dtype: int64"
     },
     "execution_count": 13,
     "metadata": {},
     "output_type": "execute_result"
    }
   ],
   "source": [
    "train_df['Shops_2'].value_counts()"
   ],
   "metadata": {
    "collapsed": false,
    "pycharm": {
     "name": "#%%\n"
    }
   }
  },
  {
   "cell_type": "markdown",
   "source": [
    "## 2. Обработка выбросов и заполнение пропусков\n",
    "<a name =\"Processing\"></a>\n",
    "**Rooms**"
   ],
   "metadata": {
    "collapsed": false
   }
  },
  {
   "cell_type": "code",
   "execution_count": 14,
   "outputs": [
    {
     "data": {
      "text/plain": "2.0     3880\n1.0     3705\n3.0     2235\n4.0      150\n5.0       18\n0.0        8\n10.0       2\n6.0        1\n19.0       1\nName: Rooms, dtype: int64"
     },
     "execution_count": 14,
     "metadata": {},
     "output_type": "execute_result"
    }
   ],
   "source": [
    "train_df['Rooms'].value_counts()"
   ],
   "metadata": {
    "collapsed": false,
    "pycharm": {
     "name": "#%%\n"
    }
   }
  },
  {
   "cell_type": "code",
   "execution_count": 15,
   "outputs": [
    {
     "data": {
      "text/plain": "      Id DistrictId  Rooms      Square  LifeSquare  KitchenSquare  Floor  \\\n0  11809         27    3.0  115.027311         NaN           10.0      4   \n1   3013         22    1.0   39.832524   23.169223            8.0      7   \n2   8215          1    3.0   78.342215   47.671972           10.0      2   \n3   2352          1    1.0   40.409907         NaN            1.0     10   \n4  13866         94    2.0   64.285067   38.562517            9.0     16   \n\n   HouseFloor  HouseYear  Ecology_1  ... Ecology_3 Social_1  Social_2  \\\n0        10.0       2014   0.075424  ...         B       11      3097   \n1         8.0       1966   0.118537  ...         B       30      6207   \n2        17.0       1988   0.025609  ...         B       33      5261   \n3        22.0       1977   0.007122  ...         B        1       264   \n4        16.0       1972   0.282798  ...         B       33      8667   \n\n   Social_3  Healthcare_1  Helthcare_2  Shops_1  Shops_2          Price  \\\n0         0           NaN            0        0        B  305018.871089   \n1         1        1183.0            1        0        B  177734.553407   \n2         0         240.0            3        1        B  282078.720850   \n3         0           NaN            0        1        B  168106.007630   \n4         2           NaN            0        6        B  343995.102962   \n\n   Rooms_outlier  \n0              0  \n1              0  \n2              0  \n3              0  \n4              0  \n\n[5 rows x 21 columns]",
      "text/html": "<div>\n<style scoped>\n    .dataframe tbody tr th:only-of-type {\n        vertical-align: middle;\n    }\n\n    .dataframe tbody tr th {\n        vertical-align: top;\n    }\n\n    .dataframe thead th {\n        text-align: right;\n    }\n</style>\n<table border=\"1\" class=\"dataframe\">\n  <thead>\n    <tr style=\"text-align: right;\">\n      <th></th>\n      <th>Id</th>\n      <th>DistrictId</th>\n      <th>Rooms</th>\n      <th>Square</th>\n      <th>LifeSquare</th>\n      <th>KitchenSquare</th>\n      <th>Floor</th>\n      <th>HouseFloor</th>\n      <th>HouseYear</th>\n      <th>Ecology_1</th>\n      <th>...</th>\n      <th>Ecology_3</th>\n      <th>Social_1</th>\n      <th>Social_2</th>\n      <th>Social_3</th>\n      <th>Healthcare_1</th>\n      <th>Helthcare_2</th>\n      <th>Shops_1</th>\n      <th>Shops_2</th>\n      <th>Price</th>\n      <th>Rooms_outlier</th>\n    </tr>\n  </thead>\n  <tbody>\n    <tr>\n      <th>0</th>\n      <td>11809</td>\n      <td>27</td>\n      <td>3.0</td>\n      <td>115.027311</td>\n      <td>NaN</td>\n      <td>10.0</td>\n      <td>4</td>\n      <td>10.0</td>\n      <td>2014</td>\n      <td>0.075424</td>\n      <td>...</td>\n      <td>B</td>\n      <td>11</td>\n      <td>3097</td>\n      <td>0</td>\n      <td>NaN</td>\n      <td>0</td>\n      <td>0</td>\n      <td>B</td>\n      <td>305018.871089</td>\n      <td>0</td>\n    </tr>\n    <tr>\n      <th>1</th>\n      <td>3013</td>\n      <td>22</td>\n      <td>1.0</td>\n      <td>39.832524</td>\n      <td>23.169223</td>\n      <td>8.0</td>\n      <td>7</td>\n      <td>8.0</td>\n      <td>1966</td>\n      <td>0.118537</td>\n      <td>...</td>\n      <td>B</td>\n      <td>30</td>\n      <td>6207</td>\n      <td>1</td>\n      <td>1183.0</td>\n      <td>1</td>\n      <td>0</td>\n      <td>B</td>\n      <td>177734.553407</td>\n      <td>0</td>\n    </tr>\n    <tr>\n      <th>2</th>\n      <td>8215</td>\n      <td>1</td>\n      <td>3.0</td>\n      <td>78.342215</td>\n      <td>47.671972</td>\n      <td>10.0</td>\n      <td>2</td>\n      <td>17.0</td>\n      <td>1988</td>\n      <td>0.025609</td>\n      <td>...</td>\n      <td>B</td>\n      <td>33</td>\n      <td>5261</td>\n      <td>0</td>\n      <td>240.0</td>\n      <td>3</td>\n      <td>1</td>\n      <td>B</td>\n      <td>282078.720850</td>\n      <td>0</td>\n    </tr>\n    <tr>\n      <th>3</th>\n      <td>2352</td>\n      <td>1</td>\n      <td>1.0</td>\n      <td>40.409907</td>\n      <td>NaN</td>\n      <td>1.0</td>\n      <td>10</td>\n      <td>22.0</td>\n      <td>1977</td>\n      <td>0.007122</td>\n      <td>...</td>\n      <td>B</td>\n      <td>1</td>\n      <td>264</td>\n      <td>0</td>\n      <td>NaN</td>\n      <td>0</td>\n      <td>1</td>\n      <td>B</td>\n      <td>168106.007630</td>\n      <td>0</td>\n    </tr>\n    <tr>\n      <th>4</th>\n      <td>13866</td>\n      <td>94</td>\n      <td>2.0</td>\n      <td>64.285067</td>\n      <td>38.562517</td>\n      <td>9.0</td>\n      <td>16</td>\n      <td>16.0</td>\n      <td>1972</td>\n      <td>0.282798</td>\n      <td>...</td>\n      <td>B</td>\n      <td>33</td>\n      <td>8667</td>\n      <td>2</td>\n      <td>NaN</td>\n      <td>0</td>\n      <td>6</td>\n      <td>B</td>\n      <td>343995.102962</td>\n      <td>0</td>\n    </tr>\n  </tbody>\n</table>\n<p>5 rows × 21 columns</p>\n</div>"
     },
     "execution_count": 15,
     "metadata": {},
     "output_type": "execute_result"
    }
   ],
   "source": [
    "train_df['Rooms_outlier'] = 0\n",
    "\n",
    "train_df.loc[(train_df['Rooms'] == 0) | (train_df['Rooms'] >= 6), 'Rooms_outlier'] = 1\n",
    "train_df.head()"
   ],
   "metadata": {
    "collapsed": false,
    "pycharm": {
     "name": "#%%\n"
    }
   }
  },
  {
   "cell_type": "code",
   "execution_count": 16,
   "outputs": [
    {
     "data": {
      "text/plain": "2.0    3884\n1.0    3713\n3.0    2235\n4.0     150\n5.0      18\nName: Rooms, dtype: int64"
     },
     "execution_count": 16,
     "metadata": {},
     "output_type": "execute_result"
    }
   ],
   "source": [
    "train_df.loc[train_df['Rooms'] == 0, 'Rooms'] = 1\n",
    "train_df.loc[train_df['Rooms'] >= 6, 'Rooms'] = train_df['Rooms'].median()\n",
    "\n",
    "train_df['Rooms'].value_counts()"
   ],
   "metadata": {
    "collapsed": false,
    "pycharm": {
     "name": "#%%\n"
    }
   }
  },
  {
   "cell_type": "markdown",
   "source": [
    "**KitchenSquare**"
   ],
   "metadata": {
    "collapsed": false
   }
  },
  {
   "cell_type": "code",
   "execution_count": 17,
   "outputs": [
    {
     "data": {
      "text/plain": "1.0       2460\n8.0       1306\n5.0       1169\n10.0      1075\n6.0       1038\n9.0        843\n0.0        697\n7.0        609\n12.0       249\n11.0       233\n13.0        67\n14.0        51\n4.0         39\n15.0        31\n3.0         22\n16.0        16\n20.0        14\n17.0        12\n19.0        11\n18.0         6\n2.0          4\n22.0         3\n112.0        2\n51.0         2\n58.0         2\n37.0         2\n32.0         2\n41.0         2\n43.0         2\n30.0         2\n25.0         2\n39.0         1\n23.0         1\n123.0        1\n40.0         1\n48.0         1\n21.0         1\n72.0         1\n27.0         1\n63.0         1\n1970.0       1\n29.0         1\n66.0         1\n2014.0       1\n31.0         1\n78.0         1\n35.0         1\n42.0         1\n73.0         1\n60.0         1\n84.0         1\n26.0         1\n54.0         1\n36.0         1\n53.0         1\n96.0         1\n62.0         1\n75.0         1\nName: KitchenSquare, dtype: int64"
     },
     "execution_count": 17,
     "metadata": {},
     "output_type": "execute_result"
    }
   ],
   "source": [
    "train_df['KitchenSquare'].value_counts()"
   ],
   "metadata": {
    "collapsed": false,
    "pycharm": {
     "name": "#%%\n"
    }
   }
  },
  {
   "cell_type": "code",
   "execution_count": 18,
   "outputs": [
    {
     "data": {
      "text/plain": "(13.0, 0.0)"
     },
     "execution_count": 18,
     "metadata": {},
     "output_type": "execute_result"
    }
   ],
   "source": [
    "train_df['KitchenSquare'].quantile(.975), train_df['KitchenSquare'].quantile(.025)\n"
   ],
   "metadata": {
    "collapsed": false,
    "pycharm": {
     "name": "#%%\n"
    }
   }
  },
  {
   "cell_type": "code",
   "execution_count": 19,
   "outputs": [],
   "source": [
    "condition = (train_df['KitchenSquare'].isna()) \\\n",
    "             | (train_df['KitchenSquare'] > train_df['KitchenSquare'].quantile(.975))\n",
    "\n",
    "train_df.loc[condition, 'KitchenSquare'] = train_df['KitchenSquare'].median()\n",
    "\n",
    "train_df.loc[train_df['KitchenSquare'] < 3, 'KitchenSquare'] = 3"
   ],
   "metadata": {
    "collapsed": false,
    "pycharm": {
     "name": "#%%\n"
    }
   }
  },
  {
   "cell_type": "code",
   "execution_count": 20,
   "outputs": [
    {
     "data": {
      "text/plain": "3.0     3183\n8.0     1306\n6.0     1227\n5.0     1169\n10.0    1075\n9.0      843\n7.0      609\n12.0     249\n11.0     233\n13.0      67\n4.0       39\nName: KitchenSquare, dtype: int64"
     },
     "execution_count": 20,
     "metadata": {},
     "output_type": "execute_result"
    }
   ],
   "source": [
    "train_df['KitchenSquare'].value_counts()"
   ],
   "metadata": {
    "collapsed": false,
    "pycharm": {
     "name": "#%%\n"
    }
   }
  },
  {
   "cell_type": "markdown",
   "source": [
    "**HouseFloor, Floor**"
   ],
   "metadata": {
    "collapsed": false
   }
  },
  {
   "cell_type": "code",
   "execution_count": 21,
   "outputs": [
    {
     "data": {
      "text/plain": "array([  0.,   1.,   2.,   3.,   4.,   5.,   6.,   7.,   8.,   9.,  10.,\n        11.,  12.,  13.,  14.,  15.,  16.,  17.,  18.,  19.,  20.,  21.,\n        22.,  23.,  24.,  25.,  26.,  27.,  28.,  29.,  30.,  31.,  32.,\n        36.,  37.,  38.,  39.,  40.,  44.,  45.,  47.,  48.,  99., 117.])"
     },
     "execution_count": 21,
     "metadata": {},
     "output_type": "execute_result"
    }
   ],
   "source": [
    "train_df['HouseFloor'].sort_values().unique()"
   ],
   "metadata": {
    "collapsed": false,
    "pycharm": {
     "name": "#%%\n"
    }
   }
  },
  {
   "cell_type": "code",
   "execution_count": 22,
   "outputs": [
    {
     "data": {
      "text/plain": "array([ 1,  2,  3,  4,  5,  6,  7,  8,  9, 10, 11, 12, 13, 14, 15, 16, 17,\n       18, 19, 20, 21, 22, 23, 24, 25, 26, 27, 28, 31, 32, 33, 37, 42])"
     },
     "execution_count": 22,
     "metadata": {},
     "output_type": "execute_result"
    }
   ],
   "source": [
    "train_df['Floor'].sort_values().unique()"
   ],
   "metadata": {
    "collapsed": false,
    "pycharm": {
     "name": "#%%\n"
    }
   }
  },
  {
   "cell_type": "code",
   "execution_count": 23,
   "outputs": [
    {
     "data": {
      "text/plain": "1825"
     },
     "execution_count": 23,
     "metadata": {},
     "output_type": "execute_result"
    }
   ],
   "source": [
    "# Этаж больше чем этажность дома\n",
    "(train_df['Floor'] > train_df['HouseFloor']).sum()\n"
   ],
   "metadata": {
    "collapsed": false,
    "pycharm": {
     "name": "#%%\n"
    }
   }
  },
  {
   "cell_type": "code",
   "execution_count": 24,
   "outputs": [],
   "source": [
    "train_df['HouseFloor_outlier'] = 0\n",
    "train_df.loc[train_df['HouseFloor'] == 0, 'HouseFloor_outlier'] = 1\n",
    "train_df.loc[train_df['Floor'] > train_df['HouseFloor'], 'HouseFloor_outlier'] = 1\n"
   ],
   "metadata": {
    "collapsed": false,
    "pycharm": {
     "name": "#%%\n"
    }
   }
  },
  {
   "cell_type": "code",
   "execution_count": 25,
   "outputs": [],
   "source": [
    "train_df.loc[train_df['HouseFloor'] == 0, 'HouseFloor'] = train_df['HouseFloor'].median()"
   ],
   "metadata": {
    "collapsed": false,
    "pycharm": {
     "name": "#%%\n"
    }
   }
  },
  {
   "cell_type": "code",
   "execution_count": 26,
   "outputs": [
    {
     "data": {
      "text/plain": "Int64Index([  17,   19,   21,   25,   26,   33,   34,   37,   39,   44,\n            ...\n            9913, 9921, 9930, 9931, 9938, 9953, 9960, 9968, 9970, 9975],\n           dtype='int64', length=1610)"
     },
     "execution_count": 26,
     "metadata": {},
     "output_type": "execute_result"
    }
   ],
   "source": [
    "floor_outliers = train_df.loc[train_df['Floor'] > train_df['HouseFloor']].index\n",
    "floor_outliers"
   ],
   "metadata": {
    "collapsed": false,
    "pycharm": {
     "name": "#%%\n"
    }
   }
  },
  {
   "cell_type": "code",
   "execution_count": 27,
   "outputs": [],
   "source": [
    "train_df.loc[floor_outliers, 'Floor'] = train_df.loc[floor_outliers, 'HouseFloor']\\\n",
    "                                                .apply(lambda x: random.randint(1, x))"
   ],
   "metadata": {
    "collapsed": false,
    "pycharm": {
     "name": "#%%\n"
    }
   }
  },
  {
   "cell_type": "code",
   "execution_count": 28,
   "outputs": [
    {
     "data": {
      "text/plain": "0"
     },
     "execution_count": 28,
     "metadata": {},
     "output_type": "execute_result"
    }
   ],
   "source": [
    "(train_df['Floor'] > train_df['HouseFloor']).sum()"
   ],
   "metadata": {
    "collapsed": false,
    "pycharm": {
     "name": "#%%\n"
    }
   }
  },
  {
   "cell_type": "markdown",
   "source": [
    "**HouseYear**"
   ],
   "metadata": {
    "collapsed": false
   }
  },
  {
   "cell_type": "code",
   "execution_count": 29,
   "outputs": [
    {
     "data": {
      "text/plain": "9163    20052011\n8828        4968\n7721        2020\n9122        2020\n7955        2020\n          ...   \n7610        1916\n6250        1914\n2066        1912\n2795        1912\n6794        1910\nName: HouseYear, Length: 10000, dtype: int64"
     },
     "execution_count": 29,
     "metadata": {},
     "output_type": "execute_result"
    }
   ],
   "source": [
    "train_df['HouseYear'].sort_values(ascending=False)"
   ],
   "metadata": {
    "collapsed": false,
    "pycharm": {
     "name": "#%%\n"
    }
   }
  },
  {
   "cell_type": "code",
   "execution_count": 30,
   "outputs": [],
   "source": [
    "train_df.loc[train_df['HouseYear'] > 2020, 'HouseYear'] = 2020"
   ],
   "metadata": {
    "collapsed": false,
    "pycharm": {
     "name": "#%%\n"
    }
   }
  },
  {
   "cell_type": "markdown",
   "source": [
    "**Square**\n",
    "##### Минимальная площадь квартир по Москве 11.2 кв.м. http://www.thewaveofdecor.ru/2019/11/%D0%BA%D0%B2%D0%B0%D1%80%D1%82%D0%B8%D1%80%D0%B0-11-%D0%BC%D0%B5%D1%82%D1%80%D0%BE%D0%B2-%D0%BC%D0%B8%D1%84-%D0%B8%D0%BB%D0%B8-%D1%80%D0%B5%D0%B0%D0%BB%D1%8C%D0%BD%D0%BE%D1%81%D1%82%D1%8C.html/\n",
    "##### Будем ориентироваться на эти значения как на минимальные при выбросах"
   ],
   "metadata": {
    "collapsed": false,
    "pycharm": {
     "name": "#%% md\n"
    }
   }
  },
  {
   "cell_type": "code",
   "execution_count": 31,
   "outputs": [
    {
     "data": {
      "text/plain": "12"
     },
     "execution_count": 31,
     "metadata": {},
     "output_type": "execute_result"
    }
   ],
   "source": [
    "train_df.loc[train_df['Square'] < 11.2, 'Square'].count()"
   ],
   "metadata": {
    "collapsed": false,
    "pycharm": {
     "name": "#%%\n"
    }
   }
  },
  {
   "cell_type": "code",
   "execution_count": 32,
   "outputs": [],
   "source": [
    "train_df.loc[train_df['Square'] < 11.2, 'Square'] = 11.2"
   ],
   "metadata": {
    "collapsed": false,
    "pycharm": {
     "name": "#%%\n"
    }
   }
  },
  {
   "cell_type": "markdown",
   "source": [
    "**LifeSquare**"
   ],
   "metadata": {
    "collapsed": false
   }
  },
  {
   "cell_type": "code",
   "execution_count": 33,
   "outputs": [
    {
     "data": {
      "text/plain": "2113"
     },
     "execution_count": 33,
     "metadata": {},
     "output_type": "execute_result"
    }
   ],
   "source": [
    "train_df['LifeSquare'].isna().sum()"
   ],
   "metadata": {
    "collapsed": false,
    "pycharm": {
     "name": "#%%\n"
    }
   }
  },
  {
   "cell_type": "code",
   "execution_count": 34,
   "outputs": [],
   "source": [
    "train_df['LifeSquare_nan'] = train_df['LifeSquare'].isna() * 1\n",
    "\n",
    "condition = (train_df['LifeSquare'].isna()) \\\n",
    "             & (~train_df['Square'].isna()) \\\n",
    "             & (~train_df['KitchenSquare'].isna())\n",
    "\n",
    "train_df.loc[condition, 'LifeSquare'] = train_df.loc[condition, 'Square'] \\\n",
    "                                            - train_df.loc[condition, 'KitchenSquare'] - 3"
   ],
   "metadata": {
    "collapsed": false,
    "pycharm": {
     "name": "#%%\n"
    }
   }
  },
  {
   "cell_type": "code",
   "execution_count": 35,
   "outputs": [
    {
     "data": {
      "text/plain": "count    10000.000000\nmean        40.734674\nstd         77.610357\nmin          0.370619\n25%         25.285992\n50%         35.527336\n75%         48.706162\nmax       7480.592129\nName: LifeSquare, dtype: float64"
     },
     "execution_count": 35,
     "metadata": {},
     "output_type": "execute_result"
    }
   ],
   "source": [
    "train_df['LifeSquare'].describe()"
   ],
   "metadata": {
    "collapsed": false,
    "pycharm": {
     "name": "#%%\n"
    }
   }
  },
  {
   "cell_type": "code",
   "execution_count": 36,
   "outputs": [
    {
     "data": {
      "text/plain": "         Id DistrictId  Rooms     Square  LifeSquare  KitchenSquare  Floor  \\\n33      847         74    2.0  73.314975   74.131261            3.0      5   \n64     3992          1    3.0  87.200625   87.730225            3.0     21   \n77    11771         45    1.0  38.467276   39.624493            3.0      6   \n100   13343         74    2.0  79.937665   82.931595            3.0      8   \n111   13875         20    1.0  28.438794   32.514021            6.0      6   \n...     ...        ...    ...        ...         ...            ...    ...   \n9960  16258         48    3.0  96.056784   98.152802            3.0      1   \n9962  14175         14    1.0  42.029175   44.682167           10.0      4   \n9979   2201          6    1.0  40.043234   41.984322            3.0      3   \n9987  11665          1    2.0  62.690057   64.602939           10.0     19   \n9993   9289          1    3.0  84.486078   88.931509            3.0      4   \n\n      HouseFloor  HouseYear  Ecology_1  ... Social_2 Social_3  Healthcare_1  \\\n33           6.0       1977   0.075779  ...     1437        3           NaN   \n64          22.0       1977   0.007122  ...      264        0           NaN   \n77           9.0       1977   0.195781  ...     5212        6           NaN   \n100         21.0       1977   0.075779  ...     1437        3           NaN   \n111         10.0       2014   0.019509  ...     7687       11         176.0   \n...          ...        ...        ...  ...      ...      ...           ...   \n9960         1.0       2017   0.041125  ...     9515        5           NaN   \n9962         4.0       2018   0.238617  ...     3889        6         705.0   \n9979        17.0       2014   0.243205  ...     1564        0         540.0   \n9987        22.0       2018   0.007122  ...      264        0           NaN   \n9993        22.0       2016   0.007122  ...      264        0           NaN   \n\n      Helthcare_2  Shops_1  Shops_2          Price  Rooms_outlier  \\\n33              0        2        B  254005.381863              0   \n64              0        1        B  300180.365669              0   \n77              3        2        B  247440.530601              0   \n100             0        2        B  226808.747168              0   \n111             5        5        B  199248.114376              0   \n...           ...      ...      ...            ...            ...   \n9960            1       10        B  524365.550705              0   \n9962            3        6        B   87556.385617              0   \n9979            0        0        B  134888.083598              0   \n9987            0        1        B  203908.192698              0   \n9993            0        1        B  264213.558631              0   \n\n     HouseFloor_outlier  LifeSquare_nan  \n33                    1               0  \n64                    0               0  \n77                    1               0  \n100                   0               0  \n111                   0               0  \n...                 ...             ...  \n9960                  1               0  \n9962                  0               0  \n9979                  0               0  \n9987                  0               0  \n9993                  0               0  \n\n[475 rows x 23 columns]",
      "text/html": "<div>\n<style scoped>\n    .dataframe tbody tr th:only-of-type {\n        vertical-align: middle;\n    }\n\n    .dataframe tbody tr th {\n        vertical-align: top;\n    }\n\n    .dataframe thead th {\n        text-align: right;\n    }\n</style>\n<table border=\"1\" class=\"dataframe\">\n  <thead>\n    <tr style=\"text-align: right;\">\n      <th></th>\n      <th>Id</th>\n      <th>DistrictId</th>\n      <th>Rooms</th>\n      <th>Square</th>\n      <th>LifeSquare</th>\n      <th>KitchenSquare</th>\n      <th>Floor</th>\n      <th>HouseFloor</th>\n      <th>HouseYear</th>\n      <th>Ecology_1</th>\n      <th>...</th>\n      <th>Social_2</th>\n      <th>Social_3</th>\n      <th>Healthcare_1</th>\n      <th>Helthcare_2</th>\n      <th>Shops_1</th>\n      <th>Shops_2</th>\n      <th>Price</th>\n      <th>Rooms_outlier</th>\n      <th>HouseFloor_outlier</th>\n      <th>LifeSquare_nan</th>\n    </tr>\n  </thead>\n  <tbody>\n    <tr>\n      <th>33</th>\n      <td>847</td>\n      <td>74</td>\n      <td>2.0</td>\n      <td>73.314975</td>\n      <td>74.131261</td>\n      <td>3.0</td>\n      <td>5</td>\n      <td>6.0</td>\n      <td>1977</td>\n      <td>0.075779</td>\n      <td>...</td>\n      <td>1437</td>\n      <td>3</td>\n      <td>NaN</td>\n      <td>0</td>\n      <td>2</td>\n      <td>B</td>\n      <td>254005.381863</td>\n      <td>0</td>\n      <td>1</td>\n      <td>0</td>\n    </tr>\n    <tr>\n      <th>64</th>\n      <td>3992</td>\n      <td>1</td>\n      <td>3.0</td>\n      <td>87.200625</td>\n      <td>87.730225</td>\n      <td>3.0</td>\n      <td>21</td>\n      <td>22.0</td>\n      <td>1977</td>\n      <td>0.007122</td>\n      <td>...</td>\n      <td>264</td>\n      <td>0</td>\n      <td>NaN</td>\n      <td>0</td>\n      <td>1</td>\n      <td>B</td>\n      <td>300180.365669</td>\n      <td>0</td>\n      <td>0</td>\n      <td>0</td>\n    </tr>\n    <tr>\n      <th>77</th>\n      <td>11771</td>\n      <td>45</td>\n      <td>1.0</td>\n      <td>38.467276</td>\n      <td>39.624493</td>\n      <td>3.0</td>\n      <td>6</td>\n      <td>9.0</td>\n      <td>1977</td>\n      <td>0.195781</td>\n      <td>...</td>\n      <td>5212</td>\n      <td>6</td>\n      <td>NaN</td>\n      <td>3</td>\n      <td>2</td>\n      <td>B</td>\n      <td>247440.530601</td>\n      <td>0</td>\n      <td>1</td>\n      <td>0</td>\n    </tr>\n    <tr>\n      <th>100</th>\n      <td>13343</td>\n      <td>74</td>\n      <td>2.0</td>\n      <td>79.937665</td>\n      <td>82.931595</td>\n      <td>3.0</td>\n      <td>8</td>\n      <td>21.0</td>\n      <td>1977</td>\n      <td>0.075779</td>\n      <td>...</td>\n      <td>1437</td>\n      <td>3</td>\n      <td>NaN</td>\n      <td>0</td>\n      <td>2</td>\n      <td>B</td>\n      <td>226808.747168</td>\n      <td>0</td>\n      <td>0</td>\n      <td>0</td>\n    </tr>\n    <tr>\n      <th>111</th>\n      <td>13875</td>\n      <td>20</td>\n      <td>1.0</td>\n      <td>28.438794</td>\n      <td>32.514021</td>\n      <td>6.0</td>\n      <td>6</td>\n      <td>10.0</td>\n      <td>2014</td>\n      <td>0.019509</td>\n      <td>...</td>\n      <td>7687</td>\n      <td>11</td>\n      <td>176.0</td>\n      <td>5</td>\n      <td>5</td>\n      <td>B</td>\n      <td>199248.114376</td>\n      <td>0</td>\n      <td>0</td>\n      <td>0</td>\n    </tr>\n    <tr>\n      <th>...</th>\n      <td>...</td>\n      <td>...</td>\n      <td>...</td>\n      <td>...</td>\n      <td>...</td>\n      <td>...</td>\n      <td>...</td>\n      <td>...</td>\n      <td>...</td>\n      <td>...</td>\n      <td>...</td>\n      <td>...</td>\n      <td>...</td>\n      <td>...</td>\n      <td>...</td>\n      <td>...</td>\n      <td>...</td>\n      <td>...</td>\n      <td>...</td>\n      <td>...</td>\n      <td>...</td>\n    </tr>\n    <tr>\n      <th>9960</th>\n      <td>16258</td>\n      <td>48</td>\n      <td>3.0</td>\n      <td>96.056784</td>\n      <td>98.152802</td>\n      <td>3.0</td>\n      <td>1</td>\n      <td>1.0</td>\n      <td>2017</td>\n      <td>0.041125</td>\n      <td>...</td>\n      <td>9515</td>\n      <td>5</td>\n      <td>NaN</td>\n      <td>1</td>\n      <td>10</td>\n      <td>B</td>\n      <td>524365.550705</td>\n      <td>0</td>\n      <td>1</td>\n      <td>0</td>\n    </tr>\n    <tr>\n      <th>9962</th>\n      <td>14175</td>\n      <td>14</td>\n      <td>1.0</td>\n      <td>42.029175</td>\n      <td>44.682167</td>\n      <td>10.0</td>\n      <td>4</td>\n      <td>4.0</td>\n      <td>2018</td>\n      <td>0.238617</td>\n      <td>...</td>\n      <td>3889</td>\n      <td>6</td>\n      <td>705.0</td>\n      <td>3</td>\n      <td>6</td>\n      <td>B</td>\n      <td>87556.385617</td>\n      <td>0</td>\n      <td>0</td>\n      <td>0</td>\n    </tr>\n    <tr>\n      <th>9979</th>\n      <td>2201</td>\n      <td>6</td>\n      <td>1.0</td>\n      <td>40.043234</td>\n      <td>41.984322</td>\n      <td>3.0</td>\n      <td>3</td>\n      <td>17.0</td>\n      <td>2014</td>\n      <td>0.243205</td>\n      <td>...</td>\n      <td>1564</td>\n      <td>0</td>\n      <td>540.0</td>\n      <td>0</td>\n      <td>0</td>\n      <td>B</td>\n      <td>134888.083598</td>\n      <td>0</td>\n      <td>0</td>\n      <td>0</td>\n    </tr>\n    <tr>\n      <th>9987</th>\n      <td>11665</td>\n      <td>1</td>\n      <td>2.0</td>\n      <td>62.690057</td>\n      <td>64.602939</td>\n      <td>10.0</td>\n      <td>19</td>\n      <td>22.0</td>\n      <td>2018</td>\n      <td>0.007122</td>\n      <td>...</td>\n      <td>264</td>\n      <td>0</td>\n      <td>NaN</td>\n      <td>0</td>\n      <td>1</td>\n      <td>B</td>\n      <td>203908.192698</td>\n      <td>0</td>\n      <td>0</td>\n      <td>0</td>\n    </tr>\n    <tr>\n      <th>9993</th>\n      <td>9289</td>\n      <td>1</td>\n      <td>3.0</td>\n      <td>84.486078</td>\n      <td>88.931509</td>\n      <td>3.0</td>\n      <td>4</td>\n      <td>22.0</td>\n      <td>2016</td>\n      <td>0.007122</td>\n      <td>...</td>\n      <td>264</td>\n      <td>0</td>\n      <td>NaN</td>\n      <td>0</td>\n      <td>1</td>\n      <td>B</td>\n      <td>264213.558631</td>\n      <td>0</td>\n      <td>0</td>\n      <td>0</td>\n    </tr>\n  </tbody>\n</table>\n<p>475 rows × 23 columns</p>\n</div>"
     },
     "execution_count": 36,
     "metadata": {},
     "output_type": "execute_result"
    }
   ],
   "source": [
    "# Жилая площадь не может быть больше общей\n",
    "condition = (~train_df['LifeSquare'].isna()) \\\n",
    "             & (~train_df['Square'].isna()) \\\n",
    "             & (~train_df['KitchenSquare'].isna()) \\\n",
    "             & (train_df['LifeSquare'] > train_df['Square'])\n",
    "train_df.loc[condition]"
   ],
   "metadata": {
    "collapsed": false,
    "pycharm": {
     "name": "#%%\n"
    }
   }
  },
  {
   "cell_type": "code",
   "execution_count": 37,
   "outputs": [
    {
     "data": {
      "text/plain": "count    10000.000000\nmean        39.614766\nstd         21.269647\nmin          0.370619\n25%         25.207291\n50%         35.296055\n75%         48.475670\nmax        638.163193\nName: LifeSquare, dtype: float64"
     },
     "execution_count": 37,
     "metadata": {},
     "output_type": "execute_result"
    }
   ],
   "source": [
    "train_df.loc[condition, 'LifeSquare'] = train_df.loc[condition, 'Square'] - train_df.loc[condition, 'KitchenSquare']\n",
    "train_df['LifeSquare'].describe()"
   ],
   "metadata": {
    "collapsed": false,
    "pycharm": {
     "name": "#%%\n"
    }
   }
  },
  {
   "cell_type": "code",
   "execution_count": 38,
   "outputs": [
    {
     "data": {
      "text/plain": "count    10000.000000\nmean        39.623672\nstd         21.254004\nmin          0.795539\n25%         25.207291\n50%         35.296055\n75%         48.475670\nmax        638.163193\nName: LifeSquare, dtype: float64"
     },
     "execution_count": 38,
     "metadata": {},
     "output_type": "execute_result"
    }
   ],
   "source": [
    "# По нормам жилищного кодекса ст. 105-106, жилая площадь не может быть меньше 6 кв. м\n",
    "# для маленьких квартир, будем считать что комната совмещена с кухней\n",
    "\n",
    "train_df.loc[(train_df['LifeSquare'] + train_df['KitchenSquare']) < 6, 'LifeSquare'] = 6 - train_df['KitchenSquare']\n",
    "train_df['LifeSquare'].describe()"
   ],
   "metadata": {
    "collapsed": false,
    "pycharm": {
     "name": "#%%\n"
    }
   }
  },
  {
   "cell_type": "markdown",
   "source": [
    "**Healthcare_1**"
   ],
   "metadata": {
    "collapsed": false,
    "pycharm": {
     "name": "#%% md\n"
    }
   }
  },
  {
   "cell_type": "code",
   "execution_count": 39,
   "outputs": [
    {
     "data": {
      "text/plain": "{'0': 2073.5833333333335,\n '1': 228.7719298245614,\n '10': nan,\n '100': 770.0,\n '101': 1427.1134020618556,\n '102': 705.0,\n '103': 2219.0526315789475,\n '104': 1630.909090909091,\n '105': 2861.5,\n '106': 2943.0,\n '107': 700.0,\n '108': 60.44444444444444,\n '109': 421.0731707317073,\n '11': 1298.6166666666666,\n '110': 1322.0,\n '111': 1623.469387755102,\n '112': nan,\n '113': 253.65853658536585,\n '114': 1686.6666666666667,\n '115': 2009.0,\n '116': 2123.6363636363635,\n '117': nan,\n '118': 1711.5384615384614,\n '119': 1322.0,\n '12': nan,\n '120': 3284.846153846154,\n '121': 605.88,\n '122': 1322.0,\n '123': 1039.53125,\n '124': 1812.4545454545455,\n '125': 1687.4,\n '126': 1183.0,\n '127': nan,\n '128': 30.0,\n '129': 1256.923076923077,\n '13': 1406.0,\n '130': 1658.896551724138,\n '131': nan,\n '132': 2059.0,\n '133': 3593.2,\n '134': 2105.277777777778,\n '135': 2301.0,\n '136': 176.0,\n '137': 538.3333333333334,\n '138': 2967.75,\n '139': 1894.0,\n '14': 1869.1176470588234,\n '140': 705.0,\n '141': 4129.0,\n '142': 800.0,\n '143': 75.0,\n '144': 1575.0,\n '145': 2715.0,\n '146': 2500.0,\n '147': 2857.0,\n '148': 3855.0,\n '149': nan,\n '15': nan,\n '150': 1340.0,\n '151': nan,\n '152': 1940.0,\n '153': 1322.0,\n '154': nan,\n '155': 4849.0,\n '156': 2228.4,\n '157': 4702.0,\n '158': 1251.0,\n '159': 2114.0,\n '16': 2300.0,\n '160': 810.0,\n '161': 4129.0,\n '162': 100.0,\n '163': 2301.0,\n '164': nan,\n '165': 1340.0,\n '166': 100.0,\n '167': 881.1111111111111,\n '168': 2300.0,\n '169': 286.8421052631579,\n '17': 1176.301886792453,\n '170': 1450.0,\n '171': 930.3333333333334,\n '172': 1786.0,\n '173': nan,\n '174': 1046.0,\n '175': 1721.3333333333333,\n '176': nan,\n '177': 2672.0,\n '178': 628.0,\n '179': 1389.0,\n '18': nan,\n '180': 562.0,\n '181': 1942.0,\n '182': 2890.0,\n '183': 562.0,\n '184': 562.0,\n '185': 240.0,\n '186': 2301.0,\n '187': nan,\n '188': 1786.0,\n '189': 1046.0,\n '19': 990.0,\n '190': 4702.0,\n '191': nan,\n '192': 2333.4,\n '193': 2857.0,\n '194': 100.0,\n '195': 2890.0,\n '196': 4702.0,\n '199': 1815.0,\n '2': 1435.2542372881355,\n '20': 176.0,\n '200': nan,\n '201': nan,\n '202': 4702.0,\n '205': nan,\n '207': 1815.0,\n '208': nan,\n '209': 2729.0,\n '21': 247.55769230769232,\n '22': 1223.8309859154929,\n '23': 0.0,\n '24': 1970.0,\n '25': nan,\n '26': 2553.4754098360654,\n '27': nan,\n '28': 1174.2884615384614,\n '29': 1783.4,\n '3': 644.1463414634146,\n '30': 1046.0,\n '31': 830.0,\n '32': 350.0,\n '33': 848.8888888888889,\n '34': nan,\n '35': nan,\n '36': nan,\n '37': 316.8333333333333,\n '38': 520.0,\n '39': 730.0,\n '4': 2082.909090909091,\n '40': 1771.4545454545455,\n '41': 580.875,\n '42': nan,\n '43': 1614.2222222222222,\n '44': 905.979797979798,\n '45': nan,\n '46': 1308.84375,\n '47': 279.8775510204082,\n '48': 2620.0,\n '49': 1340.0,\n '5': 2643.0,\n '50': 1744.75,\n '51': 2890.0,\n '52': 750.0,\n '53': 785.683908045977,\n '54': 645.0,\n '55': 2078.0,\n '56': 2620.0,\n '57': 1288.2727272727273,\n '58': 999.11875,\n '59': 389.1641791044776,\n '6': 540.0,\n '60': 2017.0,\n '61': 80.0,\n '62': 2300.0,\n '63': 705.0,\n '64': 350.0,\n '65': nan,\n '66': 2747.7741935483873,\n '67': nan,\n '68': nan,\n '69': 2764.0,\n '7': 1576.4044943820224,\n '70': 3300.0,\n '71': 778.0,\n '72': 1994.0,\n '73': 1940.0,\n '74': 832.258064516129,\n '75': 1130.5454545454545,\n '76': 1786.0,\n '77': 240.0,\n '78': 165.0,\n '79': 358.19354838709677,\n '8': 913.4661016949152,\n '80': 810.0,\n '81': 2242.5555555555557,\n '82': 562.0,\n '83': nan,\n '84': 2452.05,\n '85': 2300.0,\n '86': 4508.0,\n '87': 810.0,\n '88': nan,\n '89': 212.31578947368422,\n '9': 30.0,\n '90': 2142.3055555555557,\n '91': 1322.0,\n '92': nan,\n '93': 30.0,\n '94': nan,\n '95': 3085.0,\n '96': nan,\n '97': 1575.0,\n '98': 3855.0,\n '99': 1750.659793814433}"
     },
     "execution_count": 39,
     "metadata": {},
     "output_type": "execute_result"
    }
   ],
   "source": [
    "healthcare_district_med = train_df.groupby(['DistrictId'])['Healthcare_1'].agg('mean').to_dict()\n",
    "healthcare_district_med"
   ],
   "metadata": {
    "collapsed": false,
    "pycharm": {
     "name": "#%%\n"
    }
   }
  },
  {
   "cell_type": "code",
   "execution_count": 40,
   "outputs": [],
   "source": [
    "train_df['Healthcare_1'].fillna(train_df.median()['Healthcare_1'], inplace=True)\n",
    "q_healthcare1 = np.quantile(train_df['Healthcare_1'], q=0.75)"
   ],
   "metadata": {
    "collapsed": false,
    "pycharm": {
     "name": "#%%\n"
    }
   }
  },
  {
   "cell_type": "code",
   "execution_count": 41,
   "outputs": [
    {
     "data": {
      "text/plain": "count    10000.000000\nmean       791.387900\nstd        275.145001\nmin          0.000000\n25%        830.000000\n50%        900.000000\n75%        990.000000\nmax        990.000000\nName: Healthcare_1, dtype: float64"
     },
     "execution_count": 41,
     "metadata": {},
     "output_type": "execute_result"
    }
   ],
   "source": [
    "train_df.loc[train_df['Healthcare_1'].isna(), 'Healthcare_1'] = train_df['DistrictId'].map(healthcare_district_med)\n",
    "train_df['Healthcare_1'].clip(upper=q_healthcare1, axis=0, inplace=True)\n",
    "\n",
    "train_df['Healthcare_1'].describe()"
   ],
   "metadata": {
    "collapsed": false,
    "pycharm": {
     "name": "#%%\n"
    }
   }
  },
  {
   "cell_type": "code",
   "execution_count": 42,
   "outputs": [
    {
     "name": "stdout",
     "output_type": "stream",
     "text": [
      "<class 'pandas.core.frame.DataFrame'>\n",
      "RangeIndex: 10000 entries, 0 to 9999\n",
      "Data columns (total 23 columns):\n",
      " #   Column              Non-Null Count  Dtype  \n",
      "---  ------              --------------  -----  \n",
      " 0   Id                  10000 non-null  object \n",
      " 1   DistrictId          10000 non-null  object \n",
      " 2   Rooms               10000 non-null  float64\n",
      " 3   Square              10000 non-null  float64\n",
      " 4   LifeSquare          10000 non-null  float64\n",
      " 5   KitchenSquare       10000 non-null  float64\n",
      " 6   Floor               10000 non-null  int64  \n",
      " 7   HouseFloor          10000 non-null  float64\n",
      " 8   HouseYear           10000 non-null  int64  \n",
      " 9   Ecology_1           10000 non-null  float64\n",
      " 10  Ecology_2           10000 non-null  object \n",
      " 11  Ecology_3           10000 non-null  object \n",
      " 12  Social_1            10000 non-null  int64  \n",
      " 13  Social_2            10000 non-null  int64  \n",
      " 14  Social_3            10000 non-null  int64  \n",
      " 15  Healthcare_1        10000 non-null  float64\n",
      " 16  Helthcare_2         10000 non-null  int64  \n",
      " 17  Shops_1             10000 non-null  int64  \n",
      " 18  Shops_2             10000 non-null  object \n",
      " 19  Price               10000 non-null  float64\n",
      " 20  Rooms_outlier       10000 non-null  int64  \n",
      " 21  HouseFloor_outlier  10000 non-null  int64  \n",
      " 22  LifeSquare_nan      10000 non-null  int64  \n",
      "dtypes: float64(8), int64(10), object(5)\n",
      "memory usage: 1.8+ MB\n"
     ]
    }
   ],
   "source": [
    "# Проверяем на пропуски\n",
    "\n",
    "train_df.info()"
   ],
   "metadata": {
    "collapsed": false,
    "pycharm": {
     "name": "#%%\n"
    }
   }
  },
  {
   "cell_type": "code",
   "execution_count": 43,
   "outputs": [],
   "source": [
    "class DataPreprocessing:\n",
    "    \"\"\"Подготовка исходных данных\"\"\"\n",
    "\n",
    "    def __init__(self):\n",
    "        \"\"\"Параметры класса\"\"\"\n",
    "        self.medians = None\n",
    "        self.kitchen_square_quantile = None\n",
    "\n",
    "    def fit(self, X):\n",
    "        \"\"\"Сохранение статистик\"\"\"\n",
    "        # Расчет медиан\n",
    "        self.medians = X.median()\n",
    "        self.kitchen_square_quantile = X['KitchenSquare'].quantile(.975)\n",
    "\n",
    "    def transform(self, X):\n",
    "        \"\"\"Трансформация данных\"\"\"\n",
    "\n",
    "\n",
    "        # Rooms\n",
    "        X['Rooms_outlier'] = 0\n",
    "        X.loc[(X['Rooms'] == 0) | (X['Rooms'] >= 6), 'Rooms_outlier'] = 1\n",
    "\n",
    "        X.loc[X['Rooms'] == 0, 'Rooms'] = 1\n",
    "        X.loc[X['Rooms'] >= 6, 'Rooms'] = self.medians['Rooms']\n",
    "\n",
    "        # KitchenSquare\n",
    "        condition = (X['KitchenSquare'].isna()) \\\n",
    "                    | (X['KitchenSquare'] > self.kitchen_square_quantile)\n",
    "\n",
    "        X.loc[condition, 'KitchenSquare'] = self.medians['KitchenSquare']\n",
    "\n",
    "        X.loc[X['KitchenSquare'] < 3, 'KitchenSquare'] = 3\n",
    "        X.loc[X['KitchenSquare'] > 20, 'KitchenSquare'] = X['KitchenSquare'].median()\n",
    "\n",
    "        # HouseFloor, Floor\n",
    "        X['HouseFloor_outlier'] = 0\n",
    "        X.loc[X['HouseFloor'] == 0, 'HouseFloor_outlier'] = 1\n",
    "        X.loc[X['Floor'] > X['HouseFloor'], 'HouseFloor_outlier'] = 1\n",
    "\n",
    "        X.loc[X['HouseFloor'] == 0, 'HouseFloor'] = self.medians['HouseFloor']\n",
    "\n",
    "        floor_outliers = X.loc[X['Floor'] > X['HouseFloor']].index\n",
    "        X.loc[floor_outliers, 'Floor'] = X.loc[floor_outliers, 'HouseFloor']\\\n",
    "                                            .apply(lambda x: random.randint(1, x))\n",
    "\n",
    "        X.loc[(X['HouseFloor'] > 50), 'HouseFloor'] = X['HouseFloor'].median()\n",
    "\n",
    "        # HouseYear\n",
    "        current_year = datetime.now().year\n",
    "\n",
    "        X['HouseYear_outlier'] = 0\n",
    "        X.loc[X['HouseYear'] > current_year, 'HouseYear_outlier'] = 1\n",
    "\n",
    "        X.loc[X['HouseYear'] > current_year, 'HouseYear'] = current_year\n",
    "\n",
    "        # Square\n",
    "        X.loc[train_df['Square'] < 11.2, 'Square'] = 11.2\n",
    "\n",
    "        # LifeSquare\n",
    "        X['LifeSquare_nan'] = X['LifeSquare'].isna() * 1\n",
    "        condition = (X['LifeSquare'].isna()) & \\\n",
    "                      (~X['Square'].isna()) & \\\n",
    "                      (~X['KitchenSquare'].isna())\n",
    "\n",
    "        X.loc[condition, 'LifeSquare'] = X.loc[condition, 'Square'] - X.loc[condition, 'KitchenSquare'] - 3\n",
    "\n",
    "        condition = (~X['LifeSquare'].isna()) \\\n",
    "             & (~X['Square'].isna()) \\\n",
    "             & (~X['KitchenSquare'].isna()) \\\n",
    "             & (X['LifeSquare'] > X['Square'])\n",
    "\n",
    "        X.loc[condition, 'LifeSquare'] = X.loc[condition, 'Square'] - X.loc[condition, 'KitchenSquare']\n",
    "        X.loc[(X['LifeSquare'] + X['KitchenSquare']) < 6, 'LifeSquare'] = 6 - X['KitchenSquare']\n",
    "\n",
    "        X.fillna(self.medians, inplace=True)\n",
    "\n",
    "        # Healthcare_1\n",
    "\n",
    "        healthcare_district_mean = X.groupby(['DistrictId'])['Healthcare_1'].agg('mean').to_dict()\n",
    "        X['Healthcare_1'].fillna(self.medians['Healthcare_1'], inplace=True)\n",
    "\n",
    "        q_healthcare1 = np.quantile(X['Healthcare_1'], q=0.90)\n",
    "\n",
    "        X.loc[X['Healthcare_1'].isna(), 'Healthcare_1'] = X['DistrictId'].map(healthcare_district_mean)\n",
    "        X['Healthcare_1'].clip(upper=q_healthcare1, axis=0, inplace=True)\n",
    "\n",
    "        return X"
   ],
   "metadata": {
    "collapsed": false,
    "pycharm": {
     "name": "#%%\n"
    }
   }
  },
  {
   "cell_type": "markdown",
   "source": [
    "## 3. Построение новых признаков\n",
    "<a name =\"NewFeature\"></a>\n",
    "\n",
    "**Dummies**"
   ],
   "metadata": {
    "collapsed": false
   }
  },
  {
   "cell_type": "code",
   "execution_count": 44,
   "outputs": [],
   "source": [
    "binary_to_numbers = {'A': 0, 'B': 1}\n",
    "\n",
    "train_df['Ecology_2'] = train_df['Ecology_2'].replace(binary_to_numbers)\n",
    "train_df['Ecology_3'] = train_df['Ecology_3'].replace(binary_to_numbers)\n",
    "train_df['Shops_2'] = train_df['Shops_2'].replace(binary_to_numbers)"
   ],
   "metadata": {
    "collapsed": false,
    "pycharm": {
     "name": "#%%\n"
    }
   }
  },
  {
   "cell_type": "markdown",
   "source": [
    "**DistrictSize, IsDistrictLarge**"
   ],
   "metadata": {
    "collapsed": false
   }
  },
  {
   "cell_type": "code",
   "execution_count": 45,
   "outputs": [
    {
     "data": {
      "text/plain": "  DistrictId  DistrictSize\n0         27           851\n1          1           652\n2         23           565\n3          6           511\n4          9           294",
      "text/html": "<div>\n<style scoped>\n    .dataframe tbody tr th:only-of-type {\n        vertical-align: middle;\n    }\n\n    .dataframe tbody tr th {\n        vertical-align: top;\n    }\n\n    .dataframe thead th {\n        text-align: right;\n    }\n</style>\n<table border=\"1\" class=\"dataframe\">\n  <thead>\n    <tr style=\"text-align: right;\">\n      <th></th>\n      <th>DistrictId</th>\n      <th>DistrictSize</th>\n    </tr>\n  </thead>\n  <tbody>\n    <tr>\n      <th>0</th>\n      <td>27</td>\n      <td>851</td>\n    </tr>\n    <tr>\n      <th>1</th>\n      <td>1</td>\n      <td>652</td>\n    </tr>\n    <tr>\n      <th>2</th>\n      <td>23</td>\n      <td>565</td>\n    </tr>\n    <tr>\n      <th>3</th>\n      <td>6</td>\n      <td>511</td>\n    </tr>\n    <tr>\n      <th>4</th>\n      <td>9</td>\n      <td>294</td>\n    </tr>\n  </tbody>\n</table>\n</div>"
     },
     "execution_count": 45,
     "metadata": {},
     "output_type": "execute_result"
    }
   ],
   "source": [
    "district_size = train_df['DistrictId'].value_counts().reset_index()\\\n",
    "                    .rename(columns={'index':'DistrictId', 'DistrictId':'DistrictSize'})\n",
    "\n",
    "district_size.head()"
   ],
   "metadata": {
    "collapsed": false,
    "pycharm": {
     "name": "#%%\n"
    }
   }
  },
  {
   "cell_type": "code",
   "execution_count": 46,
   "outputs": [
    {
     "data": {
      "text/plain": "      Id DistrictId  Rooms      Square  LifeSquare  KitchenSquare  Floor  \\\n0  11809         27    3.0  115.027311  102.027311           10.0      4   \n1   3013         22    1.0   39.832524   23.169223            8.0      7   \n2   8215          1    3.0   78.342215   47.671972           10.0      2   \n3   2352          1    1.0   40.409907   34.409907            3.0     10   \n4  13866         94    2.0   64.285067   38.562517            9.0     16   \n\n   HouseFloor  HouseYear  Ecology_1  ...  Social_3  Healthcare_1  Helthcare_2  \\\n0        10.0       2014   0.075424  ...         0         900.0            0   \n1         8.0       1966   0.118537  ...         1         990.0            1   \n2        17.0       1988   0.025609  ...         0         240.0            3   \n3        22.0       1977   0.007122  ...         0         900.0            0   \n4        16.0       1972   0.282798  ...         2         900.0            0   \n\n   Shops_1  Shops_2          Price  Rooms_outlier  HouseFloor_outlier  \\\n0        0        1  305018.871089              0                   0   \n1        0        1  177734.553407              0                   0   \n2        1        1  282078.720850              0                   0   \n3        1        1  168106.007630              0                   0   \n4        6        1  343995.102962              0                   0   \n\n   LifeSquare_nan  DistrictSize  \n0               1           851  \n1               0            78  \n2               0           652  \n3               1           652  \n4               0            89  \n\n[5 rows x 24 columns]",
      "text/html": "<div>\n<style scoped>\n    .dataframe tbody tr th:only-of-type {\n        vertical-align: middle;\n    }\n\n    .dataframe tbody tr th {\n        vertical-align: top;\n    }\n\n    .dataframe thead th {\n        text-align: right;\n    }\n</style>\n<table border=\"1\" class=\"dataframe\">\n  <thead>\n    <tr style=\"text-align: right;\">\n      <th></th>\n      <th>Id</th>\n      <th>DistrictId</th>\n      <th>Rooms</th>\n      <th>Square</th>\n      <th>LifeSquare</th>\n      <th>KitchenSquare</th>\n      <th>Floor</th>\n      <th>HouseFloor</th>\n      <th>HouseYear</th>\n      <th>Ecology_1</th>\n      <th>...</th>\n      <th>Social_3</th>\n      <th>Healthcare_1</th>\n      <th>Helthcare_2</th>\n      <th>Shops_1</th>\n      <th>Shops_2</th>\n      <th>Price</th>\n      <th>Rooms_outlier</th>\n      <th>HouseFloor_outlier</th>\n      <th>LifeSquare_nan</th>\n      <th>DistrictSize</th>\n    </tr>\n  </thead>\n  <tbody>\n    <tr>\n      <th>0</th>\n      <td>11809</td>\n      <td>27</td>\n      <td>3.0</td>\n      <td>115.027311</td>\n      <td>102.027311</td>\n      <td>10.0</td>\n      <td>4</td>\n      <td>10.0</td>\n      <td>2014</td>\n      <td>0.075424</td>\n      <td>...</td>\n      <td>0</td>\n      <td>900.0</td>\n      <td>0</td>\n      <td>0</td>\n      <td>1</td>\n      <td>305018.871089</td>\n      <td>0</td>\n      <td>0</td>\n      <td>1</td>\n      <td>851</td>\n    </tr>\n    <tr>\n      <th>1</th>\n      <td>3013</td>\n      <td>22</td>\n      <td>1.0</td>\n      <td>39.832524</td>\n      <td>23.169223</td>\n      <td>8.0</td>\n      <td>7</td>\n      <td>8.0</td>\n      <td>1966</td>\n      <td>0.118537</td>\n      <td>...</td>\n      <td>1</td>\n      <td>990.0</td>\n      <td>1</td>\n      <td>0</td>\n      <td>1</td>\n      <td>177734.553407</td>\n      <td>0</td>\n      <td>0</td>\n      <td>0</td>\n      <td>78</td>\n    </tr>\n    <tr>\n      <th>2</th>\n      <td>8215</td>\n      <td>1</td>\n      <td>3.0</td>\n      <td>78.342215</td>\n      <td>47.671972</td>\n      <td>10.0</td>\n      <td>2</td>\n      <td>17.0</td>\n      <td>1988</td>\n      <td>0.025609</td>\n      <td>...</td>\n      <td>0</td>\n      <td>240.0</td>\n      <td>3</td>\n      <td>1</td>\n      <td>1</td>\n      <td>282078.720850</td>\n      <td>0</td>\n      <td>0</td>\n      <td>0</td>\n      <td>652</td>\n    </tr>\n    <tr>\n      <th>3</th>\n      <td>2352</td>\n      <td>1</td>\n      <td>1.0</td>\n      <td>40.409907</td>\n      <td>34.409907</td>\n      <td>3.0</td>\n      <td>10</td>\n      <td>22.0</td>\n      <td>1977</td>\n      <td>0.007122</td>\n      <td>...</td>\n      <td>0</td>\n      <td>900.0</td>\n      <td>0</td>\n      <td>1</td>\n      <td>1</td>\n      <td>168106.007630</td>\n      <td>0</td>\n      <td>0</td>\n      <td>1</td>\n      <td>652</td>\n    </tr>\n    <tr>\n      <th>4</th>\n      <td>13866</td>\n      <td>94</td>\n      <td>2.0</td>\n      <td>64.285067</td>\n      <td>38.562517</td>\n      <td>9.0</td>\n      <td>16</td>\n      <td>16.0</td>\n      <td>1972</td>\n      <td>0.282798</td>\n      <td>...</td>\n      <td>2</td>\n      <td>900.0</td>\n      <td>0</td>\n      <td>6</td>\n      <td>1</td>\n      <td>343995.102962</td>\n      <td>0</td>\n      <td>0</td>\n      <td>0</td>\n      <td>89</td>\n    </tr>\n  </tbody>\n</table>\n<p>5 rows × 24 columns</p>\n</div>"
     },
     "execution_count": 46,
     "metadata": {},
     "output_type": "execute_result"
    }
   ],
   "source": [
    "train_df = train_df.merge(district_size, on='DistrictId', how='left')\n",
    "train_df.head()"
   ],
   "metadata": {
    "collapsed": false,
    "pycharm": {
     "name": "#%%\n"
    }
   }
  },
  {
   "cell_type": "code",
   "execution_count": 47,
   "outputs": [
    {
     "data": {
      "text/plain": "True     5069\nFalse    4931\nName: DistrictSize, dtype: int64"
     },
     "execution_count": 47,
     "metadata": {},
     "output_type": "execute_result"
    }
   ],
   "source": [
    "(train_df['DistrictSize'] > 100).value_counts()"
   ],
   "metadata": {
    "collapsed": false,
    "pycharm": {
     "name": "#%%\n"
    }
   }
  },
  {
   "cell_type": "code",
   "execution_count": 48,
   "outputs": [],
   "source": [
    "train_df['IsDistrictLarge'] = (train_df['DistrictSize'] > 100).astype(int)"
   ],
   "metadata": {
    "collapsed": false,
    "pycharm": {
     "name": "#%%\n"
    }
   }
  },
  {
   "cell_type": "markdown",
   "source": [
    "**MedPriceByDistrict**"
   ],
   "metadata": {
    "collapsed": false
   }
  },
  {
   "cell_type": "code",
   "execution_count": 49,
   "outputs": [
    {
     "data": {
      "text/plain": "  DistrictId  Rooms  MedPriceByDistrict\n0          0    1.0       142799.434052\n1          0    2.0       176210.812334\n2          0    3.0       300610.359425\n3          1    1.0       146735.671740\n4          1    2.0       202666.310126",
      "text/html": "<div>\n<style scoped>\n    .dataframe tbody tr th:only-of-type {\n        vertical-align: middle;\n    }\n\n    .dataframe tbody tr th {\n        vertical-align: top;\n    }\n\n    .dataframe thead th {\n        text-align: right;\n    }\n</style>\n<table border=\"1\" class=\"dataframe\">\n  <thead>\n    <tr style=\"text-align: right;\">\n      <th></th>\n      <th>DistrictId</th>\n      <th>Rooms</th>\n      <th>MedPriceByDistrict</th>\n    </tr>\n  </thead>\n  <tbody>\n    <tr>\n      <th>0</th>\n      <td>0</td>\n      <td>1.0</td>\n      <td>142799.434052</td>\n    </tr>\n    <tr>\n      <th>1</th>\n      <td>0</td>\n      <td>2.0</td>\n      <td>176210.812334</td>\n    </tr>\n    <tr>\n      <th>2</th>\n      <td>0</td>\n      <td>3.0</td>\n      <td>300610.359425</td>\n    </tr>\n    <tr>\n      <th>3</th>\n      <td>1</td>\n      <td>1.0</td>\n      <td>146735.671740</td>\n    </tr>\n    <tr>\n      <th>4</th>\n      <td>1</td>\n      <td>2.0</td>\n      <td>202666.310126</td>\n    </tr>\n  </tbody>\n</table>\n</div>"
     },
     "execution_count": 49,
     "metadata": {},
     "output_type": "execute_result"
    }
   ],
   "source": [
    "med_price_by_district = train_df.groupby(['DistrictId', 'Rooms'], as_index=False).agg({'Price':'median'})\\\n",
    "                            .rename(columns={'Price':'MedPriceByDistrict'})\n",
    "med_price_by_district.head()"
   ],
   "metadata": {
    "collapsed": false,
    "pycharm": {
     "name": "#%%\n"
    }
   }
  },
  {
   "cell_type": "code",
   "execution_count": 50,
   "outputs": [
    {
     "data": {
      "text/plain": "(667, 3)"
     },
     "execution_count": 50,
     "metadata": {},
     "output_type": "execute_result"
    }
   ],
   "source": [
    "med_price_by_district.shape"
   ],
   "metadata": {
    "collapsed": false,
    "pycharm": {
     "name": "#%%\n"
    }
   }
  },
  {
   "cell_type": "code",
   "execution_count": 51,
   "outputs": [
    {
     "data": {
      "text/plain": "      Id DistrictId  Rooms      Square  LifeSquare  KitchenSquare  Floor  \\\n0  11809         27    3.0  115.027311  102.027311           10.0      4   \n1   3013         22    1.0   39.832524   23.169223            8.0      7   \n2   8215          1    3.0   78.342215   47.671972           10.0      2   \n3   2352          1    1.0   40.409907   34.409907            3.0     10   \n4  13866         94    2.0   64.285067   38.562517            9.0     16   \n\n   HouseFloor  HouseYear  Ecology_1  ...  Helthcare_2  Shops_1  Shops_2  \\\n0        10.0       2014   0.075424  ...            0        0        1   \n1         8.0       1966   0.118537  ...            1        0        1   \n2        17.0       1988   0.025609  ...            3        1        1   \n3        22.0       1977   0.007122  ...            0        1        1   \n4        16.0       1972   0.282798  ...            0        6        1   \n\n           Price  Rooms_outlier  HouseFloor_outlier  LifeSquare_nan  \\\n0  305018.871089              0                   0               1   \n1  177734.553407              0                   0               0   \n2  282078.720850              0                   0               0   \n3  168106.007630              0                   0               1   \n4  343995.102962              0                   0               0   \n\n   DistrictSize  IsDistrictLarge  MedPriceByDistrict  \n0           851                1       213530.788443  \n1            78                0       146032.829834  \n2           652                1       244005.272380  \n3           652                1       146735.671740  \n4            89                0       201584.441255  \n\n[5 rows x 26 columns]",
      "text/html": "<div>\n<style scoped>\n    .dataframe tbody tr th:only-of-type {\n        vertical-align: middle;\n    }\n\n    .dataframe tbody tr th {\n        vertical-align: top;\n    }\n\n    .dataframe thead th {\n        text-align: right;\n    }\n</style>\n<table border=\"1\" class=\"dataframe\">\n  <thead>\n    <tr style=\"text-align: right;\">\n      <th></th>\n      <th>Id</th>\n      <th>DistrictId</th>\n      <th>Rooms</th>\n      <th>Square</th>\n      <th>LifeSquare</th>\n      <th>KitchenSquare</th>\n      <th>Floor</th>\n      <th>HouseFloor</th>\n      <th>HouseYear</th>\n      <th>Ecology_1</th>\n      <th>...</th>\n      <th>Helthcare_2</th>\n      <th>Shops_1</th>\n      <th>Shops_2</th>\n      <th>Price</th>\n      <th>Rooms_outlier</th>\n      <th>HouseFloor_outlier</th>\n      <th>LifeSquare_nan</th>\n      <th>DistrictSize</th>\n      <th>IsDistrictLarge</th>\n      <th>MedPriceByDistrict</th>\n    </tr>\n  </thead>\n  <tbody>\n    <tr>\n      <th>0</th>\n      <td>11809</td>\n      <td>27</td>\n      <td>3.0</td>\n      <td>115.027311</td>\n      <td>102.027311</td>\n      <td>10.0</td>\n      <td>4</td>\n      <td>10.0</td>\n      <td>2014</td>\n      <td>0.075424</td>\n      <td>...</td>\n      <td>0</td>\n      <td>0</td>\n      <td>1</td>\n      <td>305018.871089</td>\n      <td>0</td>\n      <td>0</td>\n      <td>1</td>\n      <td>851</td>\n      <td>1</td>\n      <td>213530.788443</td>\n    </tr>\n    <tr>\n      <th>1</th>\n      <td>3013</td>\n      <td>22</td>\n      <td>1.0</td>\n      <td>39.832524</td>\n      <td>23.169223</td>\n      <td>8.0</td>\n      <td>7</td>\n      <td>8.0</td>\n      <td>1966</td>\n      <td>0.118537</td>\n      <td>...</td>\n      <td>1</td>\n      <td>0</td>\n      <td>1</td>\n      <td>177734.553407</td>\n      <td>0</td>\n      <td>0</td>\n      <td>0</td>\n      <td>78</td>\n      <td>0</td>\n      <td>146032.829834</td>\n    </tr>\n    <tr>\n      <th>2</th>\n      <td>8215</td>\n      <td>1</td>\n      <td>3.0</td>\n      <td>78.342215</td>\n      <td>47.671972</td>\n      <td>10.0</td>\n      <td>2</td>\n      <td>17.0</td>\n      <td>1988</td>\n      <td>0.025609</td>\n      <td>...</td>\n      <td>3</td>\n      <td>1</td>\n      <td>1</td>\n      <td>282078.720850</td>\n      <td>0</td>\n      <td>0</td>\n      <td>0</td>\n      <td>652</td>\n      <td>1</td>\n      <td>244005.272380</td>\n    </tr>\n    <tr>\n      <th>3</th>\n      <td>2352</td>\n      <td>1</td>\n      <td>1.0</td>\n      <td>40.409907</td>\n      <td>34.409907</td>\n      <td>3.0</td>\n      <td>10</td>\n      <td>22.0</td>\n      <td>1977</td>\n      <td>0.007122</td>\n      <td>...</td>\n      <td>0</td>\n      <td>1</td>\n      <td>1</td>\n      <td>168106.007630</td>\n      <td>0</td>\n      <td>0</td>\n      <td>1</td>\n      <td>652</td>\n      <td>1</td>\n      <td>146735.671740</td>\n    </tr>\n    <tr>\n      <th>4</th>\n      <td>13866</td>\n      <td>94</td>\n      <td>2.0</td>\n      <td>64.285067</td>\n      <td>38.562517</td>\n      <td>9.0</td>\n      <td>16</td>\n      <td>16.0</td>\n      <td>1972</td>\n      <td>0.282798</td>\n      <td>...</td>\n      <td>0</td>\n      <td>6</td>\n      <td>1</td>\n      <td>343995.102962</td>\n      <td>0</td>\n      <td>0</td>\n      <td>0</td>\n      <td>89</td>\n      <td>0</td>\n      <td>201584.441255</td>\n    </tr>\n  </tbody>\n</table>\n<p>5 rows × 26 columns</p>\n</div>"
     },
     "execution_count": 51,
     "metadata": {},
     "output_type": "execute_result"
    }
   ],
   "source": [
    "train_df = train_df.merge(med_price_by_district, on=['DistrictId', 'Rooms'], how='left')\n",
    "train_df.head()"
   ],
   "metadata": {
    "collapsed": false,
    "pycharm": {
     "name": "#%%\n"
    }
   }
  },
  {
   "cell_type": "markdown",
   "source": [
    "**MedPriceByFloorYear**\n"
   ],
   "metadata": {
    "collapsed": false
   }
  },
  {
   "cell_type": "code",
   "execution_count": 52,
   "outputs": [],
   "source": [
    "def floor_to_cat(X):\n",
    "\n",
    "    X['floor_cat'] = 0\n",
    "\n",
    "    X.loc[X['Floor'] <= 3, 'floor_cat'] = 1\n",
    "    X.loc[(X['Floor'] > 3) & (X['Floor'] <= 5), 'floor_cat'] = 2\n",
    "    X.loc[(X['Floor'] > 5) & (X['Floor'] <= 9), 'floor_cat'] = 3\n",
    "    X.loc[(X['Floor'] > 9) & (X['Floor'] <= 15), 'floor_cat'] = 4\n",
    "    X.loc[X['Floor'] > 15, 'floor_cat'] = 5\n",
    "\n",
    "    return X\n",
    "\n",
    "\n",
    "def floor_to_cat_pandas(X):\n",
    "    bins = [0, 3, 5, 9, 15, X['Floor'].max()]\n",
    "    X['floor_cat'] = pd.cut(X['Floor'], bins=bins, labels=False)\n",
    "\n",
    "    X['floor_cat'].fillna(-1, inplace=True)\n",
    "    return X\n",
    "\n",
    "\n",
    "def year_to_cat(X):\n",
    "\n",
    "    X['year_cat'] = 0\n",
    "\n",
    "    X.loc[X['HouseYear'] <= 1941, 'year_cat'] = 1\n",
    "    X.loc[(X['HouseYear'] > 1941) & (X['HouseYear'] <= 1945), 'year_cat'] = 2\n",
    "    X.loc[(X['HouseYear'] > 1945) & (X['HouseYear'] <= 1980), 'year_cat'] = 3\n",
    "    X.loc[(X['HouseYear'] > 1980) & (X['HouseYear'] <= 2000), 'year_cat'] = 4\n",
    "    X.loc[(X['HouseYear'] > 2000) & (X['HouseYear'] <= 2010), 'year_cat'] = 5\n",
    "    X.loc[(X['HouseYear'] > 2010), 'year_cat'] = 6\n",
    "\n",
    "    return X\n",
    "\n",
    "\n",
    "def year_to_cat_pandas(X):\n",
    "    bins = [0, 1941, 1945, 1980, 2000, 2010, X['HouseYear'].max()]\n",
    "    X['year_cat'] = pd.cut(X['HouseYear'], bins=bins, labels=False)\n",
    "\n",
    "    X['year_cat'].fillna(-1, inplace=True)\n",
    "    return X"
   ],
   "metadata": {
    "collapsed": false,
    "pycharm": {
     "name": "#%%\n"
    }
   }
  },
  {
   "cell_type": "code",
   "execution_count": 53,
   "outputs": [
    {
     "data": {
      "text/plain": "0       1\n1       2\n2       0\n3       3\n4       4\n       ..\n9995    0\n9996    3\n9997    0\n9998    0\n9999    2\nName: Floor, Length: 10000, dtype: int64"
     },
     "execution_count": 53,
     "metadata": {},
     "output_type": "execute_result"
    }
   ],
   "source": [
    "bins = [0, 3, 5, 9, 15, train_df['Floor'].max()]\n",
    "pd.cut(train_df['Floor'], bins=bins, labels=False)"
   ],
   "metadata": {
    "collapsed": false,
    "pycharm": {
     "name": "#%%\n"
    }
   }
  },
  {
   "cell_type": "code",
   "execution_count": 54,
   "outputs": [
    {
     "data": {
      "text/plain": "0         (3, 5]\n1         (5, 9]\n2         (0, 3]\n3        (9, 15]\n4       (15, 42]\n          ...   \n9995      (0, 3]\n9996     (9, 15]\n9997      (0, 3]\n9998      (0, 3]\n9999      (5, 9]\nName: Floor, Length: 10000, dtype: category\nCategories (5, interval[int64]): [(0, 3] < (3, 5] < (5, 9] < (9, 15] < (15, 42]]"
     },
     "execution_count": 54,
     "metadata": {},
     "output_type": "execute_result"
    }
   ],
   "source": [
    "bins = [0, 3, 5, 9, 15, train_df['Floor'].max()]\n",
    "pd.cut(train_df['Floor'], bins=bins)\n"
   ],
   "metadata": {
    "collapsed": false,
    "pycharm": {
     "name": "#%%\n"
    }
   }
  },
  {
   "cell_type": "code",
   "execution_count": 55,
   "outputs": [
    {
     "data": {
      "text/plain": "      Id DistrictId  Rooms      Square  LifeSquare  KitchenSquare  Floor  \\\n0  11809         27    3.0  115.027311  102.027311           10.0      4   \n1   3013         22    1.0   39.832524   23.169223            8.0      7   \n2   8215          1    3.0   78.342215   47.671972           10.0      2   \n3   2352          1    1.0   40.409907   34.409907            3.0     10   \n4  13866         94    2.0   64.285067   38.562517            9.0     16   \n\n   HouseFloor  HouseYear  Ecology_1  ...  Shops_2          Price  \\\n0        10.0       2014   0.075424  ...        1  305018.871089   \n1         8.0       1966   0.118537  ...        1  177734.553407   \n2        17.0       1988   0.025609  ...        1  282078.720850   \n3        22.0       1977   0.007122  ...        1  168106.007630   \n4        16.0       1972   0.282798  ...        1  343995.102962   \n\n   Rooms_outlier  HouseFloor_outlier  LifeSquare_nan  DistrictSize  \\\n0              0                   0               1           851   \n1              0                   0               0            78   \n2              0                   0               0           652   \n3              0                   0               1           652   \n4              0                   0               0            89   \n\n   IsDistrictLarge  MedPriceByDistrict  year_cat  floor_cat  \n0                1       213530.788443         6          2  \n1                0       146032.829834         3          3  \n2                1       244005.272380         4          1  \n3                1       146735.671740         3          4  \n4                0       201584.441255         3          5  \n\n[5 rows x 28 columns]",
      "text/html": "<div>\n<style scoped>\n    .dataframe tbody tr th:only-of-type {\n        vertical-align: middle;\n    }\n\n    .dataframe tbody tr th {\n        vertical-align: top;\n    }\n\n    .dataframe thead th {\n        text-align: right;\n    }\n</style>\n<table border=\"1\" class=\"dataframe\">\n  <thead>\n    <tr style=\"text-align: right;\">\n      <th></th>\n      <th>Id</th>\n      <th>DistrictId</th>\n      <th>Rooms</th>\n      <th>Square</th>\n      <th>LifeSquare</th>\n      <th>KitchenSquare</th>\n      <th>Floor</th>\n      <th>HouseFloor</th>\n      <th>HouseYear</th>\n      <th>Ecology_1</th>\n      <th>...</th>\n      <th>Shops_2</th>\n      <th>Price</th>\n      <th>Rooms_outlier</th>\n      <th>HouseFloor_outlier</th>\n      <th>LifeSquare_nan</th>\n      <th>DistrictSize</th>\n      <th>IsDistrictLarge</th>\n      <th>MedPriceByDistrict</th>\n      <th>year_cat</th>\n      <th>floor_cat</th>\n    </tr>\n  </thead>\n  <tbody>\n    <tr>\n      <th>0</th>\n      <td>11809</td>\n      <td>27</td>\n      <td>3.0</td>\n      <td>115.027311</td>\n      <td>102.027311</td>\n      <td>10.0</td>\n      <td>4</td>\n      <td>10.0</td>\n      <td>2014</td>\n      <td>0.075424</td>\n      <td>...</td>\n      <td>1</td>\n      <td>305018.871089</td>\n      <td>0</td>\n      <td>0</td>\n      <td>1</td>\n      <td>851</td>\n      <td>1</td>\n      <td>213530.788443</td>\n      <td>6</td>\n      <td>2</td>\n    </tr>\n    <tr>\n      <th>1</th>\n      <td>3013</td>\n      <td>22</td>\n      <td>1.0</td>\n      <td>39.832524</td>\n      <td>23.169223</td>\n      <td>8.0</td>\n      <td>7</td>\n      <td>8.0</td>\n      <td>1966</td>\n      <td>0.118537</td>\n      <td>...</td>\n      <td>1</td>\n      <td>177734.553407</td>\n      <td>0</td>\n      <td>0</td>\n      <td>0</td>\n      <td>78</td>\n      <td>0</td>\n      <td>146032.829834</td>\n      <td>3</td>\n      <td>3</td>\n    </tr>\n    <tr>\n      <th>2</th>\n      <td>8215</td>\n      <td>1</td>\n      <td>3.0</td>\n      <td>78.342215</td>\n      <td>47.671972</td>\n      <td>10.0</td>\n      <td>2</td>\n      <td>17.0</td>\n      <td>1988</td>\n      <td>0.025609</td>\n      <td>...</td>\n      <td>1</td>\n      <td>282078.720850</td>\n      <td>0</td>\n      <td>0</td>\n      <td>0</td>\n      <td>652</td>\n      <td>1</td>\n      <td>244005.272380</td>\n      <td>4</td>\n      <td>1</td>\n    </tr>\n    <tr>\n      <th>3</th>\n      <td>2352</td>\n      <td>1</td>\n      <td>1.0</td>\n      <td>40.409907</td>\n      <td>34.409907</td>\n      <td>3.0</td>\n      <td>10</td>\n      <td>22.0</td>\n      <td>1977</td>\n      <td>0.007122</td>\n      <td>...</td>\n      <td>1</td>\n      <td>168106.007630</td>\n      <td>0</td>\n      <td>0</td>\n      <td>1</td>\n      <td>652</td>\n      <td>1</td>\n      <td>146735.671740</td>\n      <td>3</td>\n      <td>4</td>\n    </tr>\n    <tr>\n      <th>4</th>\n      <td>13866</td>\n      <td>94</td>\n      <td>2.0</td>\n      <td>64.285067</td>\n      <td>38.562517</td>\n      <td>9.0</td>\n      <td>16</td>\n      <td>16.0</td>\n      <td>1972</td>\n      <td>0.282798</td>\n      <td>...</td>\n      <td>1</td>\n      <td>343995.102962</td>\n      <td>0</td>\n      <td>0</td>\n      <td>0</td>\n      <td>89</td>\n      <td>0</td>\n      <td>201584.441255</td>\n      <td>3</td>\n      <td>5</td>\n    </tr>\n  </tbody>\n</table>\n<p>5 rows × 28 columns</p>\n</div>"
     },
     "execution_count": 55,
     "metadata": {},
     "output_type": "execute_result"
    }
   ],
   "source": [
    "train_df = year_to_cat(train_df)\n",
    "train_df = floor_to_cat(train_df)\n",
    "train_df.head()\n",
    "\n"
   ],
   "metadata": {
    "collapsed": false,
    "pycharm": {
     "name": "#%%\n"
    }
   }
  },
  {
   "cell_type": "code",
   "execution_count": 56,
   "outputs": [
    {
     "data": {
      "text/plain": "   year_cat  floor_cat  MedPriceByFloorYear\n0         1          1        362698.813373\n1         1          2        322905.044793\n2         1          3        429090.881284\n3         1          4        274992.472366\n4         2          1        467230.539057",
      "text/html": "<div>\n<style scoped>\n    .dataframe tbody tr th:only-of-type {\n        vertical-align: middle;\n    }\n\n    .dataframe tbody tr th {\n        vertical-align: top;\n    }\n\n    .dataframe thead th {\n        text-align: right;\n    }\n</style>\n<table border=\"1\" class=\"dataframe\">\n  <thead>\n    <tr style=\"text-align: right;\">\n      <th></th>\n      <th>year_cat</th>\n      <th>floor_cat</th>\n      <th>MedPriceByFloorYear</th>\n    </tr>\n  </thead>\n  <tbody>\n    <tr>\n      <th>0</th>\n      <td>1</td>\n      <td>1</td>\n      <td>362698.813373</td>\n    </tr>\n    <tr>\n      <th>1</th>\n      <td>1</td>\n      <td>2</td>\n      <td>322905.044793</td>\n    </tr>\n    <tr>\n      <th>2</th>\n      <td>1</td>\n      <td>3</td>\n      <td>429090.881284</td>\n    </tr>\n    <tr>\n      <th>3</th>\n      <td>1</td>\n      <td>4</td>\n      <td>274992.472366</td>\n    </tr>\n    <tr>\n      <th>4</th>\n      <td>2</td>\n      <td>1</td>\n      <td>467230.539057</td>\n    </tr>\n  </tbody>\n</table>\n</div>"
     },
     "execution_count": 56,
     "metadata": {},
     "output_type": "execute_result"
    }
   ],
   "source": [
    "med_price_by_floor_year = train_df.groupby(['year_cat', 'floor_cat'], as_index=False).agg({'Price':'median'}).\\\n",
    "                                            rename(columns={'Price':'MedPriceByFloorYear'})\n",
    "med_price_by_floor_year.head()\n"
   ],
   "metadata": {
    "collapsed": false,
    "pycharm": {
     "name": "#%%\n"
    }
   }
  },
  {
   "cell_type": "code",
   "execution_count": 57,
   "outputs": [
    {
     "data": {
      "text/plain": "      Id DistrictId  Rooms      Square  LifeSquare  KitchenSquare  Floor  \\\n0  11809         27    3.0  115.027311  102.027311           10.0      4   \n1   3013         22    1.0   39.832524   23.169223            8.0      7   \n2   8215          1    3.0   78.342215   47.671972           10.0      2   \n3   2352          1    1.0   40.409907   34.409907            3.0     10   \n4  13866         94    2.0   64.285067   38.562517            9.0     16   \n\n   HouseFloor  HouseYear  Ecology_1  ...          Price  Rooms_outlier  \\\n0        10.0       2014   0.075424  ...  305018.871089              0   \n1         8.0       1966   0.118537  ...  177734.553407              0   \n2        17.0       1988   0.025609  ...  282078.720850              0   \n3        22.0       1977   0.007122  ...  168106.007630              0   \n4        16.0       1972   0.282798  ...  343995.102962              0   \n\n   HouseFloor_outlier  LifeSquare_nan  DistrictSize  IsDistrictLarge  \\\n0                   0               1           851                1   \n1                   0               0            78                0   \n2                   0               0           652                1   \n3                   0               1           652                1   \n4                   0               0            89                0   \n\n   MedPriceByDistrict  year_cat  floor_cat  MedPriceByFloorYear  \n0       213530.788443         6          2        163969.984699  \n1       146032.829834         3          3        190950.131689  \n2       244005.272380         4          1        201995.028013  \n3       146735.671740         3          4        183494.399043  \n4       201584.441255         3          5        174256.265798  \n\n[5 rows x 29 columns]",
      "text/html": "<div>\n<style scoped>\n    .dataframe tbody tr th:only-of-type {\n        vertical-align: middle;\n    }\n\n    .dataframe tbody tr th {\n        vertical-align: top;\n    }\n\n    .dataframe thead th {\n        text-align: right;\n    }\n</style>\n<table border=\"1\" class=\"dataframe\">\n  <thead>\n    <tr style=\"text-align: right;\">\n      <th></th>\n      <th>Id</th>\n      <th>DistrictId</th>\n      <th>Rooms</th>\n      <th>Square</th>\n      <th>LifeSquare</th>\n      <th>KitchenSquare</th>\n      <th>Floor</th>\n      <th>HouseFloor</th>\n      <th>HouseYear</th>\n      <th>Ecology_1</th>\n      <th>...</th>\n      <th>Price</th>\n      <th>Rooms_outlier</th>\n      <th>HouseFloor_outlier</th>\n      <th>LifeSquare_nan</th>\n      <th>DistrictSize</th>\n      <th>IsDistrictLarge</th>\n      <th>MedPriceByDistrict</th>\n      <th>year_cat</th>\n      <th>floor_cat</th>\n      <th>MedPriceByFloorYear</th>\n    </tr>\n  </thead>\n  <tbody>\n    <tr>\n      <th>0</th>\n      <td>11809</td>\n      <td>27</td>\n      <td>3.0</td>\n      <td>115.027311</td>\n      <td>102.027311</td>\n      <td>10.0</td>\n      <td>4</td>\n      <td>10.0</td>\n      <td>2014</td>\n      <td>0.075424</td>\n      <td>...</td>\n      <td>305018.871089</td>\n      <td>0</td>\n      <td>0</td>\n      <td>1</td>\n      <td>851</td>\n      <td>1</td>\n      <td>213530.788443</td>\n      <td>6</td>\n      <td>2</td>\n      <td>163969.984699</td>\n    </tr>\n    <tr>\n      <th>1</th>\n      <td>3013</td>\n      <td>22</td>\n      <td>1.0</td>\n      <td>39.832524</td>\n      <td>23.169223</td>\n      <td>8.0</td>\n      <td>7</td>\n      <td>8.0</td>\n      <td>1966</td>\n      <td>0.118537</td>\n      <td>...</td>\n      <td>177734.553407</td>\n      <td>0</td>\n      <td>0</td>\n      <td>0</td>\n      <td>78</td>\n      <td>0</td>\n      <td>146032.829834</td>\n      <td>3</td>\n      <td>3</td>\n      <td>190950.131689</td>\n    </tr>\n    <tr>\n      <th>2</th>\n      <td>8215</td>\n      <td>1</td>\n      <td>3.0</td>\n      <td>78.342215</td>\n      <td>47.671972</td>\n      <td>10.0</td>\n      <td>2</td>\n      <td>17.0</td>\n      <td>1988</td>\n      <td>0.025609</td>\n      <td>...</td>\n      <td>282078.720850</td>\n      <td>0</td>\n      <td>0</td>\n      <td>0</td>\n      <td>652</td>\n      <td>1</td>\n      <td>244005.272380</td>\n      <td>4</td>\n      <td>1</td>\n      <td>201995.028013</td>\n    </tr>\n    <tr>\n      <th>3</th>\n      <td>2352</td>\n      <td>1</td>\n      <td>1.0</td>\n      <td>40.409907</td>\n      <td>34.409907</td>\n      <td>3.0</td>\n      <td>10</td>\n      <td>22.0</td>\n      <td>1977</td>\n      <td>0.007122</td>\n      <td>...</td>\n      <td>168106.007630</td>\n      <td>0</td>\n      <td>0</td>\n      <td>1</td>\n      <td>652</td>\n      <td>1</td>\n      <td>146735.671740</td>\n      <td>3</td>\n      <td>4</td>\n      <td>183494.399043</td>\n    </tr>\n    <tr>\n      <th>4</th>\n      <td>13866</td>\n      <td>94</td>\n      <td>2.0</td>\n      <td>64.285067</td>\n      <td>38.562517</td>\n      <td>9.0</td>\n      <td>16</td>\n      <td>16.0</td>\n      <td>1972</td>\n      <td>0.282798</td>\n      <td>...</td>\n      <td>343995.102962</td>\n      <td>0</td>\n      <td>0</td>\n      <td>0</td>\n      <td>89</td>\n      <td>0</td>\n      <td>201584.441255</td>\n      <td>3</td>\n      <td>5</td>\n      <td>174256.265798</td>\n    </tr>\n  </tbody>\n</table>\n<p>5 rows × 29 columns</p>\n</div>"
     },
     "execution_count": 57,
     "metadata": {},
     "output_type": "execute_result"
    }
   ],
   "source": [
    "train_df = train_df.merge(med_price_by_floor_year, on=['year_cat', 'floor_cat'], how='left')\n",
    "train_df.head()"
   ],
   "metadata": {
    "collapsed": false,
    "pycharm": {
     "name": "#%%\n"
    }
   }
  },
  {
   "cell_type": "code",
   "execution_count": 58,
   "outputs": [],
   "source": [
    "# *** first and last floor\n",
    "train_df['IsFirstFloor'] = 0\n",
    "train_df.loc[train_df['Floor'] == 1, 'IsFirstFloor'] = 1\n",
    "\n",
    "train_df['IsLastFloor'] = 0\n",
    "train_df.loc[(train_df['Floor'] == train_df['HouseFloor']), 'IsLastFloor'] = 1"
   ],
   "metadata": {
    "collapsed": false,
    "pycharm": {
     "name": "#%%\n"
    }
   }
  },
  {
   "cell_type": "code",
   "execution_count": 59,
   "outputs": [],
   "source": [
    "class FeatureGenetator():\n",
    "    \"\"\"Генерация новых фич\"\"\"\n",
    "\n",
    "    def __init__(self):\n",
    "        self.DistrictId_counts = None\n",
    "        self.binary_to_numbers = None\n",
    "        self.med_price_by_district = None\n",
    "        self.med_price_by_floor_year = None\n",
    "        self.house_year_max = None\n",
    "        self.floor_max = None\n",
    "        self.district_size = None\n",
    "\n",
    "    def fit(self, X, y=None):\n",
    "\n",
    "        X = X.copy()\n",
    "\n",
    "        # Binary features\n",
    "        self.binary_to_numbers = {'A': 0, 'B': 1}\n",
    "\n",
    "        # DistrictID\n",
    "        self.district_size = X['DistrictId'].value_counts().reset_index() \\\n",
    "                               .rename(columns={'index':'DistrictId', 'DistrictId':'DistrictSize'})\n",
    "\n",
    "        # Target encoding\n",
    "        ## District, Rooms\n",
    "        df = X.copy()\n",
    "\n",
    "        if y is not None:\n",
    "            df['Price'] = y.values\n",
    "\n",
    "            self.med_price_by_district = df.groupby(['DistrictId', 'Rooms'], as_index=False).agg({'Price':'median'})\\\n",
    "                                            .rename(columns={'Price':'MedPriceByDistrict'})\n",
    "\n",
    "            self.med_price_by_district_median = self.med_price_by_district['MedPriceByDistrict'].median()\n",
    "\n",
    "        ## floor, year\n",
    "        if y is not None:\n",
    "            self.floor_max = df['Floor'].max()\n",
    "            self.house_year_max = df['HouseYear'].max()\n",
    "            df['Price'] = y.values\n",
    "            df = self.floor_to_cat(df)\n",
    "            df = self.year_to_cat(df)\n",
    "            self.med_price_by_floor_year = df.groupby(['year_cat', 'floor_cat'], as_index=False).agg({'Price':'median'}).\\\n",
    "                                            rename(columns={'Price':'MedPriceByFloorYear'})\n",
    "            self.med_price_by_floor_year_median = self.med_price_by_floor_year['MedPriceByFloorYear'].median()\n",
    "\n",
    "            self.districts_median_year = df.groupby(['DistrictId'])['HouseYear'].agg('median').to_dict()  # median house year in each district\n",
    "            self.districts_density = df.groupby(['DistrictId'])['Square'].agg('median').to_dict()  # median square in each district\n",
    "            self.district_price_per_square = df.groupby(['DistrictId'])['Price'].agg('median') \\\n",
    "            / df.groupby(['DistrictId'])['Square'].agg('median')\n",
    "\n",
    "    def transform(self, X):\n",
    "\n",
    "        # Binary features\n",
    "        X['Ecology_2'] = X['Ecology_2'].map(self.binary_to_numbers)  # self.binary_to_numbers = {'A': 0, 'B': 1}\n",
    "        X['Ecology_3'] = X['Ecology_3'].map(self.binary_to_numbers)\n",
    "        X['Shops_2'] = X['Shops_2'].map(self.binary_to_numbers)\n",
    "\n",
    "        # DistrictId, IsDistrictLarge\n",
    "        X = X.merge(self.district_size, on='DistrictId', how='left')\n",
    "\n",
    "        X['new_district'] = 0\n",
    "        X.loc[X['DistrictSize'].isna(), 'new_district'] = 1\n",
    "\n",
    "        X['DistrictSize'].fillna(5, inplace=True)\n",
    "\n",
    "        X['IsDistrictLarge'] = (X['DistrictSize'] > 100).astype(int)\n",
    "\n",
    "        # IsLastFloor, IsFirstFloor\n",
    "        X['IsFirstFloor'] = 0\n",
    "        X.loc[X['Floor'] == 1, 'IsFirst_Floor'] = 1\n",
    "\n",
    "        X['IsLastFloor'] = 0\n",
    "        X.loc[(X['Floor'] == X['HouseFloor']), 'IsLastFloor'] = 1\n",
    "\n",
    "        # More categorical features\n",
    "        X = self.floor_to_cat(X)  # + столбец floor_cat\n",
    "        X = self.year_to_cat(X)   # + столбец year_cat\n",
    "\n",
    "        # Target encoding\n",
    "        if self.med_price_by_district is not None:\n",
    "            X = X.merge(self.med_price_by_district, on=['DistrictId', 'Rooms'], how='left')\n",
    "            X['MedPriceByDistrict'].fillna(self.med_price_by_district_median, inplace=True)\n",
    "\n",
    "        if self.med_price_by_floor_year is not None:\n",
    "            X = X.merge(self.med_price_by_floor_year, on=['year_cat', 'floor_cat'], how='left')\n",
    "            X['MedPriceByFloorYear'].fillna(self.med_price_by_floor_year_median, inplace=True)\n",
    "\n",
    "        if self.district_price_per_square is not None:\n",
    "            self.district_price_per_square.to_dict()\n",
    "            X['DistrictPrice'] = X['DistrictId'].map(self.district_price_per_square)\n",
    "\n",
    "            self.median_district_price_per_square = X['DistrictPrice'].median()\n",
    "            X['DistrictPrice'].fillna(self.median_district_price_per_square, inplace=True)\n",
    "\n",
    "        return X\n",
    "\n",
    "    def floor_to_cat(self, X):\n",
    "        bins = [0, 3, 5, 9, 15, self.floor_max]\n",
    "        X['floor_cat'] = pd.cut(X['Floor'], bins=bins, labels=False)\n",
    "\n",
    "        X['floor_cat'].fillna(-1, inplace=True)\n",
    "        return X\n",
    "\n",
    "    def year_to_cat(self, X):\n",
    "        bins = [0, 1941, 1945, 1980, 2000, 2010, self.house_year_max]\n",
    "        X['year_cat'] = pd.cut(X['HouseYear'], bins=bins, labels=False)\n",
    "\n",
    "        X['year_cat'].fillna(-1, inplace=True)\n",
    "        return X"
   ],
   "metadata": {
    "collapsed": false,
    "pycharm": {
     "name": "#%%\n"
    }
   }
  },
  {
   "cell_type": "code",
   "execution_count": 60,
   "outputs": [
    {
     "data": {
      "text/plain": "['Id',\n 'DistrictId',\n 'Rooms',\n 'Square',\n 'LifeSquare',\n 'KitchenSquare',\n 'Floor',\n 'HouseFloor',\n 'HouseYear',\n 'Ecology_1',\n 'Ecology_2',\n 'Ecology_3',\n 'Social_1',\n 'Social_2',\n 'Social_3',\n 'Healthcare_1',\n 'Helthcare_2',\n 'Shops_1',\n 'Shops_2',\n 'Price',\n 'Rooms_outlier',\n 'HouseFloor_outlier',\n 'LifeSquare_nan',\n 'DistrictSize',\n 'IsDistrictLarge',\n 'MedPriceByDistrict',\n 'year_cat',\n 'floor_cat',\n 'MedPriceByFloorYear',\n 'IsFirstFloor',\n 'IsLastFloor']"
     },
     "execution_count": 60,
     "metadata": {},
     "output_type": "execute_result"
    }
   ],
   "source": [
    "train_df.columns.tolist()\n"
   ],
   "metadata": {
    "collapsed": false,
    "pycharm": {
     "name": "#%%\n"
    }
   }
  },
  {
   "cell_type": "code",
   "execution_count": 61,
   "outputs": [],
   "source": [
    "feature_names = ['Rooms', 'Square', 'LifeSquare', 'KitchenSquare', 'Floor', 'HouseFloor', 'HouseYear',\n",
    "                 'Ecology_1', 'Ecology_2', 'Ecology_3', 'Social_1', 'Social_2', 'Social_3',\n",
    "                 'Helthcare_2', 'Shops_1', 'Shops_2']\n",
    "\n",
    "new_feature_names = ['Rooms_outlier', 'HouseFloor_outlier', 'HouseYear_outlier', 'LifeSquare_nan', 'DistrictSize',\n",
    "                     'new_district', 'IsDistrictLarge', 'MedPriceByFloorYear', 'year_cat',\n",
    "                     'floor_cat', 'IsFirstFloor', 'IsLastFloor', 'DistrictPrice']\n",
    "\n",
    "target_name = 'Price'"
   ],
   "metadata": {
    "collapsed": false,
    "pycharm": {
     "name": "#%%\n"
    }
   }
  },
  {
   "cell_type": "code",
   "execution_count": 62,
   "outputs": [],
   "source": [
    "train_df = pd.read_csv(TRAIN_DATASET_PATH)\n",
    "test_df = pd.read_csv(TEST_DATASET_PATH)\n",
    "\n",
    "X = train_df.drop(columns=target_name)\n",
    "y = train_df[target_name]\n",
    "\n"
   ],
   "metadata": {
    "collapsed": false,
    "pycharm": {
     "name": "#%%\n"
    }
   }
  },
  {
   "cell_type": "markdown",
   "source": [
    "## 4. Построение модели\n",
    "<a name =\"Model\"></a>"
   ],
   "metadata": {
    "collapsed": false
   }
  },
  {
   "cell_type": "code",
   "execution_count": 63,
   "outputs": [],
   "source": [
    "def evaluate_preds(train_true_values, train_pred_values, test_true_values, test_pred_values):\n",
    "    print(\"Train R2:\\t\" + str(round(r2(train_true_values, train_pred_values), 3)))\n",
    "    print(\"Test R2:\\t\" + str(round(r2(test_true_values, test_pred_values), 3)))\n",
    "\n",
    "    plt.figure(figsize=(18,10))\n",
    "\n",
    "    plt.subplot(121)\n",
    "    sns.scatterplot(x=train_pred_values, y=train_true_values)\n",
    "    plt.xlabel('Predicted values')\n",
    "    plt.ylabel('True values')\n",
    "    plt.title('Train sample prediction')\n",
    "\n",
    "    plt.subplot(122)\n",
    "    sns.scatterplot(x=test_pred_values, y=test_true_values)\n",
    "    plt.xlabel('Predicted values')\n",
    "    plt.ylabel('True values')\n",
    "    plt.title('Test sample prediction')\n",
    "\n",
    "    plt.show()\n",
    "\n"
   ],
   "metadata": {
    "collapsed": false,
    "pycharm": {
     "name": "#%%\n"
    }
   }
  },
  {
   "cell_type": "code",
   "execution_count": 64,
   "outputs": [],
   "source": [
    "X_train, X_valid, y_train, y_valid = train_test_split(X, y, test_size=0.15, shuffle=True, random_state=42)"
   ],
   "metadata": {
    "collapsed": false,
    "pycharm": {
     "name": "#%%\n"
    }
   }
  },
  {
   "cell_type": "code",
   "execution_count": 65,
   "outputs": [
    {
     "data": {
      "text/plain": "((8500, 23), (1500, 23), (5000, 23))"
     },
     "execution_count": 65,
     "metadata": {},
     "output_type": "execute_result"
    }
   ],
   "source": [
    "preprocessor = DataPreprocessing()\n",
    "preprocessor.fit(X_train)\n",
    "\n",
    "X_train = preprocessor.transform(X_train)\n",
    "X_valid = preprocessor.transform(X_valid)\n",
    "test_df = preprocessor.transform(test_df)\n",
    "\n",
    "X_train.shape, X_valid.shape, test_df.shape"
   ],
   "metadata": {
    "collapsed": false,
    "pycharm": {
     "name": "#%%\n"
    }
   }
  },
  {
   "cell_type": "code",
   "execution_count": 66,
   "outputs": [
    {
     "data": {
      "text/plain": "((8500, 34), (1500, 34), (5000, 34))"
     },
     "execution_count": 66,
     "metadata": {},
     "output_type": "execute_result"
    }
   ],
   "source": [
    "features_gen = FeatureGenetator()\n",
    "features_gen.fit(X_train, y_train)\n",
    "\n",
    "X_train = features_gen.transform(X_train)\n",
    "X_valid = features_gen.transform(X_valid)\n",
    "test_df = features_gen.transform(test_df)\n",
    "\n",
    "X_train.shape, X_valid.shape, test_df.shape"
   ],
   "metadata": {
    "collapsed": false,
    "pycharm": {
     "name": "#%%\n"
    }
   }
  },
  {
   "cell_type": "code",
   "execution_count": 67,
   "outputs": [],
   "source": [
    "X_train = X_train[feature_names + new_feature_names]\n",
    "X_valid = X_valid[feature_names + new_feature_names]\n",
    "test_df = test_df[feature_names + new_feature_names]"
   ],
   "metadata": {
    "collapsed": false,
    "pycharm": {
     "name": "#%%\n"
    }
   }
  },
  {
   "cell_type": "code",
   "execution_count": 68,
   "outputs": [
    {
     "data": {
      "text/plain": "(0, 0, 0)"
     },
     "execution_count": 68,
     "metadata": {},
     "output_type": "execute_result"
    }
   ],
   "source": [
    "X_train.isna().sum().sum(), X_valid.isna().sum().sum(), test_df.isna().sum().sum()\n"
   ],
   "metadata": {
    "collapsed": false,
    "pycharm": {
     "name": "#%%\n"
    }
   }
  },
  {
   "cell_type": "code",
   "execution_count": 69,
   "outputs": [],
   "source": [
    "gb_model = GradientBoostingRegressor(criterion='mse',\n",
    "                                     max_depth=5,\n",
    "                                     min_samples_leaf=50,\n",
    "                                     random_state=42,\n",
    "                                     n_estimators=1800,\n",
    "                                     max_features='sqrt',\n",
    "                                     learning_rate=0.025,\n",
    "                                     loss='huber')\n",
    "\n",
    "gb_model.fit(X_train, y_train)\n",
    "\n",
    "y_train_preds = gb_model.predict(X_train)\n",
    "y_test_preds = gb_model.predict(X_valid)"
   ],
   "metadata": {
    "collapsed": false,
    "pycharm": {
     "name": "#%%\n"
    }
   }
  },
  {
   "cell_type": "code",
   "execution_count": 70,
   "outputs": [
    {
     "name": "stdout",
     "output_type": "stream",
     "text": [
      "Train R2:\t0.835\n",
      "Test R2:\t0.787\n"
     ]
    },
    {
     "data": {
      "text/plain": "<Figure size 1296x720 with 2 Axes>",
      "image/png": "[encoded data removed]"
     },
     "metadata": {
      "needs_background": "light"
     },
     "output_type": "display_data"
    }
   ],
   "source": [
    "evaluate_preds(y_train, y_train_preds, y_valid, y_test_preds)"
   ],
   "metadata": {
    "collapsed": false,
    "pycharm": {
     "name": "#%%\n"
    }
   }
  },
  {
   "cell_type": "code",
   "execution_count": 71,
   "outputs": [
    {
     "data": {
      "text/plain": "array([0.74303728, 0.76745771, 0.7558559 ])"
     },
     "execution_count": 71,
     "metadata": {},
     "output_type": "execute_result"
    }
   ],
   "source": [
    "cv_score = cross_val_score(gb_model, X_train, y_train, scoring='r2', cv=KFold(n_splits=3, shuffle=True, random_state=42))\n",
    "cv_score"
   ],
   "metadata": {
    "collapsed": false,
    "pycharm": {
     "name": "#%%\n"
    }
   }
  },
  {
   "cell_type": "code",
   "execution_count": 72,
   "outputs": [
    {
     "data": {
      "text/plain": "0.7554502969683061"
     },
     "execution_count": 72,
     "metadata": {},
     "output_type": "execute_result"
    }
   ],
   "source": [
    "cv_score.mean()"
   ],
   "metadata": {
    "collapsed": false,
    "pycharm": {
     "name": "#%%\n"
    }
   }
  },
  {
   "cell_type": "code",
   "execution_count": 73,
   "outputs": [
    {
     "data": {
      "text/plain": "<Figure size 576x1296 with 1 Axes>",
      "image/png": "[encoded data removed]"
     },
     "metadata": {
      "needs_background": "light"
     },
     "output_type": "display_data"
    }
   ],
   "source": [
    "feature_importance = gb_model.feature_importances_\n",
    "feature_importance = 100.0 * (feature_importance / feature_importance.max())\n",
    "sorted_idx = np.argsort(feature_importance)\n",
    "pos = np.arange(sorted_idx.shape[0]) + .5\n",
    "\n",
    "plt.figure(figsize=(8, 18))\n",
    "plt.barh(pos, feature_importance[sorted_idx], align='center')\n",
    "plt.yticks(pos, X_train.keys()[sorted_idx])\n",
    "plt.xlabel('Relative Importance')\n",
    "plt.title('Variable Importance')\n",
    "plt.show()"
   ],
   "metadata": {
    "collapsed": false,
    "pycharm": {
     "name": "#%%\n"
    }
   }
  },
  {
   "cell_type": "markdown",
   "source": [
    "#### Вариант с RandomForestRegressor, имеет большую склонность к переобучению.\n",
    " ##### Train R2: **0.963**\n",
    " ##### Test R2:\t**0.743**"
   ],
   "metadata": {
    "collapsed": false,
    "pycharm": {
     "name": "#%% md\n"
    }
   }
  },
  {
   "cell_type": "code",
   "execution_count": 74,
   "outputs": [],
   "source": [
    "# rf_model = RandomForestRegressor(random_state=42, criterion='mse')\n",
    "# rf_model.fit(X_train, y_train)\n",
    "#\n",
    "# y_train_preds = rf_model.predict(X_train)\n",
    "# y_test_preds = rf_model.predict(X_valid)\n",
    "#\n",
    "# evaluate_preds(y_train, y_train_preds, y_valid, y_test_preds)"
   ],
   "metadata": {
    "collapsed": false,
    "pycharm": {
     "name": "#%%\n"
    }
   }
  },
  {
   "cell_type": "markdown",
   "source": [
    "## 5. Прогнозирование на тестовом датасете\n",
    "<a name =\"Finish\"></a>"
   ],
   "metadata": {
    "collapsed": false,
    "pycharm": {
     "name": "#%% md\n"
    }
   }
  },
  {
   "cell_type": "code",
   "execution_count": 75,
   "outputs": [
    {
     "data": {
      "text/plain": "     Id     Price\n0  4567  200000.0\n1  5925  200000.0\n2   960  200000.0\n3  3848  200000.0\n4   746  200000.0",
      "text/html": "<div>\n<style scoped>\n    .dataframe tbody tr th:only-of-type {\n        vertical-align: middle;\n    }\n\n    .dataframe tbody tr th {\n        vertical-align: top;\n    }\n\n    .dataframe thead th {\n        text-align: right;\n    }\n</style>\n<table border=\"1\" class=\"dataframe\">\n  <thead>\n    <tr style=\"text-align: right;\">\n      <th></th>\n      <th>Id</th>\n      <th>Price</th>\n    </tr>\n  </thead>\n  <tbody>\n    <tr>\n      <th>0</th>\n      <td>4567</td>\n      <td>200000.0</td>\n    </tr>\n    <tr>\n      <th>1</th>\n      <td>5925</td>\n      <td>200000.0</td>\n    </tr>\n    <tr>\n      <th>2</th>\n      <td>960</td>\n      <td>200000.0</td>\n    </tr>\n    <tr>\n      <th>3</th>\n      <td>3848</td>\n      <td>200000.0</td>\n    </tr>\n    <tr>\n      <th>4</th>\n      <td>746</td>\n      <td>200000.0</td>\n    </tr>\n  </tbody>\n</table>\n</div>"
     },
     "execution_count": 75,
     "metadata": {},
     "output_type": "execute_result"
    }
   ],
   "source": [
    "submit = pd.read_csv(SUBMIT_FILE_PATH)\n",
    "submit.head()\n"
   ],
   "metadata": {
    "collapsed": false,
    "pycharm": {
     "name": "#%%\n"
    }
   }
  },
  {
   "cell_type": "code",
   "execution_count": 76,
   "outputs": [
    {
     "data": {
      "text/plain": "array([167241.2860753 , 119068.13137842, 138996.82160425, ...,\n       151364.04201988, 190702.34526057, 295967.92591773])"
     },
     "execution_count": 76,
     "metadata": {},
     "output_type": "execute_result"
    }
   ],
   "source": [
    "predictions = gb_model.predict(test_df)\n",
    "predictions\n"
   ],
   "metadata": {
    "collapsed": false,
    "pycharm": {
     "name": "#%%\n"
    }
   }
  },
  {
   "cell_type": "code",
   "execution_count": 77,
   "outputs": [],
   "source": [
    "submit['Price'] = predictions\n",
    "\n",
    "submit.to_csv(OUTPUT_FILE, index=False)"
   ],
   "metadata": {
    "collapsed": false,
    "pycharm": {
     "name": "#%%\n"
    }
   }
  }
 ],
 "metadata": {
  "kernelspec": {
   "display_name": "Python 3",
   "language": "python",
   "name": "python3"
  },
  "language_info": {
   "codemirror_mode": {
    "name": "ipython",
    "version": 3
   },
   "file_extension": ".py",
   "mimetype": "text/x-python",
   "name": "python",
   "nbconvert_exporter": "python",
   "pygments_lexer": "ipython3",
   "version": "3.9.5"
  }
 },
 "nbformat": 4,
 "nbformat_minor": 1
}