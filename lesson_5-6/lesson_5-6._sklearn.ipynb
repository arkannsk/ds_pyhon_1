{
 "cells": [
  {
   "cell_type": "code",
   "execution_count": 1,
   "metadata": {
    "pycharm": {
     "name": "#%%\n"
    }
   },
   "outputs": [],
   "source": [
    "import numpy as np\n",
    "import pandas as pd"
   ]
  },
  {
   "cell_type": "markdown",
   "metadata": {},
   "source": [
    "### Задание 1\n",
    "#### Загрузите \"Boston House Prices dataset\" из встроенных наборов данных библиотеки sklearn. Создайте датафреймы X и y из этих данных.\n",
    "#### Разбейте эти датафреймы на тренировочные (X_train, y_train) и тестовые (X_test, y_test) с помощью функции train_test_split так, чтобы размер тестовой выборки составлял 30% от всех данных, при этом аргумент random_state должен быть равен 42."
   ]
  },
  {
   "cell_type": "code",
   "execution_count": 2,
   "metadata": {
    "pycharm": {
     "name": "#%%\n"
    }
   },
   "outputs": [
    {
     "data": {
      "text/plain": "(      CRIM    ZN  INDUS  CHAS    NOX     RM   AGE     DIS  RAD    TAX  \\\n 0  0.00632  18.0   2.31   0.0  0.538  6.575  65.2  4.0900  1.0  296.0   \n 1  0.02731   0.0   7.07   0.0  0.469  6.421  78.9  4.9671  2.0  242.0   \n 2  0.02729   0.0   7.07   0.0  0.469  7.185  61.1  4.9671  2.0  242.0   \n 3  0.03237   0.0   2.18   0.0  0.458  6.998  45.8  6.0622  3.0  222.0   \n 4  0.06905   0.0   2.18   0.0  0.458  7.147  54.2  6.0622  3.0  222.0   \n \n    PTRATIO       B  LSTAT  \n 0     15.3  396.90   4.98  \n 1     17.8  396.90   9.14  \n 2     17.8  392.83   4.03  \n 3     18.7  394.63   2.94  \n 4     18.7  396.90   5.33  ,\n    price\n 0   24.0\n 1   21.6\n 2   34.7\n 3   33.4\n 4   36.2)"
     },
     "execution_count": 2,
     "metadata": {},
     "output_type": "execute_result"
    }
   ],
   "source": [
    "from sklearn.datasets import load_boston\n",
    "boston = load_boston()\n",
    "X = pd.DataFrame(boston[\"data\"], columns=boston[\"feature_names\"])\n",
    "y = pd.DataFrame(boston[\"target\"], columns=[\"price\"])\n",
    "X.head(5), y.head(5)"
   ]
  },
  {
   "cell_type": "code",
   "execution_count": 3,
   "metadata": {
    "pycharm": {
     "name": "#%%\n"
    }
   },
   "outputs": [],
   "source": [
    "from sklearn.model_selection import train_test_split\n",
    "X_train, X_test, y_train, y_test = train_test_split(X, y, test_size=0.30, random_state=42)"
   ]
  },
  {
   "cell_type": "markdown",
   "metadata": {},
   "source": [
    "#### Создайте модель линейной регрессии под названием lr с помощью класса LinearRegression из модуля sklearn.linear_model.\n",
    "#### Обучите модель на тренировочных данных (используйте все признаки) и сделайте предсказание на тестовых."
   ]
  },
  {
   "cell_type": "code",
   "execution_count": 4,
   "metadata": {
    "pycharm": {
     "name": "#%%\n"
    }
   },
   "outputs": [
    {
     "data": {
      "text/plain": "     y_test     y_pred\n173    23.6  28.648960\n274    32.4  36.495014\n491    13.6  15.411193\n72     22.8  25.403213\n452    16.1  18.855280\n76     20.0  23.146689\n316    17.8  17.392124\n140    14.0  14.078599\n471    19.6  23.036927\n500    16.8  20.599433",
      "text/html": "<div>\n<style scoped>\n    .dataframe tbody tr th:only-of-type {\n        vertical-align: middle;\n    }\n\n    .dataframe tbody tr th {\n        vertical-align: top;\n    }\n\n    .dataframe thead th {\n        text-align: right;\n    }\n</style>\n<table border=\"1\" class=\"dataframe\">\n  <thead>\n    <tr style=\"text-align: right;\">\n      <th></th>\n      <th>y_test</th>\n      <th>y_pred</th>\n    </tr>\n  </thead>\n  <tbody>\n    <tr>\n      <th>173</th>\n      <td>23.6</td>\n      <td>28.648960</td>\n    </tr>\n    <tr>\n      <th>274</th>\n      <td>32.4</td>\n      <td>36.495014</td>\n    </tr>\n    <tr>\n      <th>491</th>\n      <td>13.6</td>\n      <td>15.411193</td>\n    </tr>\n    <tr>\n      <th>72</th>\n      <td>22.8</td>\n      <td>25.403213</td>\n    </tr>\n    <tr>\n      <th>452</th>\n      <td>16.1</td>\n      <td>18.855280</td>\n    </tr>\n    <tr>\n      <th>76</th>\n      <td>20.0</td>\n      <td>23.146689</td>\n    </tr>\n    <tr>\n      <th>316</th>\n      <td>17.8</td>\n      <td>17.392124</td>\n    </tr>\n    <tr>\n      <th>140</th>\n      <td>14.0</td>\n      <td>14.078599</td>\n    </tr>\n    <tr>\n      <th>471</th>\n      <td>19.6</td>\n      <td>23.036927</td>\n    </tr>\n    <tr>\n      <th>500</th>\n      <td>16.8</td>\n      <td>20.599433</td>\n    </tr>\n  </tbody>\n</table>\n</div>"
     },
     "execution_count": 4,
     "metadata": {},
     "output_type": "execute_result"
    }
   ],
   "source": [
    "from sklearn.linear_model import LinearRegression\n",
    "lr = LinearRegression()\n",
    "lr.fit(X_train, y_train)\n",
    "y_pred = lr.predict(X_test)\n",
    "\n",
    "check_test = pd.DataFrame({\n",
    "    \"y_test\": y_test[\"price\"],\n",
    "    \"y_pred\": y_pred.flatten(),\n",
    "})\n",
    "check_test.head(10)"
   ]
  },
  {
   "cell_type": "markdown",
   "metadata": {},
   "source": [
    "#### Вычислите R2 полученных предказаний с помощью r2_score из модуля sklearn.metrics."
   ]
  },
  {
   "cell_type": "code",
   "execution_count": 5,
   "metadata": {
    "pycharm": {
     "name": "#%%\n"
    }
   },
   "outputs": [
    {
     "data": {
      "text/plain": "0.7112260057484974"
     },
     "execution_count": 5,
     "metadata": {},
     "output_type": "execute_result"
    }
   ],
   "source": [
    "from sklearn.metrics import r2_score\n",
    "r2_score(y_test, y_pred)"
   ]
  },
  {
   "cell_type": "markdown",
   "metadata": {},
   "source": [
    "### Задание 2\n",
    "#### Создайте модель под названием model с помощью RandomForestRegressor из модуля sklearn.ensemble.\n",
    "#### Сделайте агрумент n_estimators равным 1000,\n",
    "#### max_depth должен быть равен 12 и random_state сделайте равным 42."
   ]
  },
  {
   "cell_type": "code",
   "execution_count": 6,
   "metadata": {
    "pycharm": {
     "name": "#%%\n"
    }
   },
   "outputs": [],
   "source": [
    "from sklearn.ensemble import RandomForestRegressor\n",
    "\n",
    "model = RandomForestRegressor(n_estimators=1000, max_depth=12, random_state=42)"
   ]
  },
  {
   "cell_type": "markdown",
   "metadata": {},
   "source": [
    "#### Обучите модель на тренировочных данных аналогично тому, как вы обучали модель LinearRegression, но при этом в метод fit вместо датафрейма y_train поставьте y_train.values[:, 0], чтобы получить из датафрейма одномерный массив Numpy,так как для класса RandomForestRegressor в данном методе для аргумента y предпочтительно применение массивов вместо датафрейма."
   ]
  },
  {
   "cell_type": "code",
   "execution_count": 7,
   "metadata": {
    "pycharm": {
     "name": "#%%\n"
    }
   },
   "outputs": [],
   "source": [
    "model.fit(X_train, y_train.values[:, 0])\n",
    "y_pred = model.predict(X_test)"
   ]
  },
  {
   "cell_type": "markdown",
   "metadata": {},
   "source": [
    "#### Сделайте предсказание на тестовых данных и посчитайте R2. Сравните с результатом из предыдущего задания. Напишите в комментариях к коду, какая модель в данном случае работает лучше."
   ]
  },
  {
   "cell_type": "code",
   "execution_count": 8,
   "metadata": {
    "pycharm": {
     "name": "#%%\n"
    }
   },
   "outputs": [
    {
     "data": {
      "text/plain": "     y_test     y_pred\n173    23.6  22.806412\n274    32.4  31.131464\n491    13.6  16.339125\n72     22.8  23.810726\n452    16.1  17.139521\n76     20.0  21.832284\n316    17.8  19.895747\n140    14.0  14.754118\n471    19.6  21.240835\n500    16.8  20.898658",
      "text/html": "<div>\n<style scoped>\n    .dataframe tbody tr th:only-of-type {\n        vertical-align: middle;\n    }\n\n    .dataframe tbody tr th {\n        vertical-align: top;\n    }\n\n    .dataframe thead th {\n        text-align: right;\n    }\n</style>\n<table border=\"1\" class=\"dataframe\">\n  <thead>\n    <tr style=\"text-align: right;\">\n      <th></th>\n      <th>y_test</th>\n      <th>y_pred</th>\n    </tr>\n  </thead>\n  <tbody>\n    <tr>\n      <th>173</th>\n      <td>23.6</td>\n      <td>22.806412</td>\n    </tr>\n    <tr>\n      <th>274</th>\n      <td>32.4</td>\n      <td>31.131464</td>\n    </tr>\n    <tr>\n      <th>491</th>\n      <td>13.6</td>\n      <td>16.339125</td>\n    </tr>\n    <tr>\n      <th>72</th>\n      <td>22.8</td>\n      <td>23.810726</td>\n    </tr>\n    <tr>\n      <th>452</th>\n      <td>16.1</td>\n      <td>17.139521</td>\n    </tr>\n    <tr>\n      <th>76</th>\n      <td>20.0</td>\n      <td>21.832284</td>\n    </tr>\n    <tr>\n      <th>316</th>\n      <td>17.8</td>\n      <td>19.895747</td>\n    </tr>\n    <tr>\n      <th>140</th>\n      <td>14.0</td>\n      <td>14.754118</td>\n    </tr>\n    <tr>\n      <th>471</th>\n      <td>19.6</td>\n      <td>21.240835</td>\n    </tr>\n    <tr>\n      <th>500</th>\n      <td>16.8</td>\n      <td>20.898658</td>\n    </tr>\n  </tbody>\n</table>\n</div>"
     },
     "execution_count": 8,
     "metadata": {},
     "output_type": "execute_result"
    }
   ],
   "source": [
    "check_test = pd.DataFrame({\n",
    "    \"y_test\": y_test[\"price\"],\n",
    "    \"y_pred\": y_pred.flatten(),\n",
    "})\n",
    "check_test.head(10)\n"
   ]
  },
  {
   "cell_type": "code",
   "execution_count": 9,
   "metadata": {
    "pycharm": {
     "name": "#%%\n"
    }
   },
   "outputs": [
    {
     "data": {
      "text/plain": "0.87472606157312"
     },
     "execution_count": 9,
     "metadata": {},
     "output_type": "execute_result"
    }
   ],
   "source": [
    "r2_score(y_test, y_pred)\n",
    "# Варинт с Random Forest лучше, т.к. ближе к макс. значению R2 = 1.0"
   ]
  },
  {
   "cell_type": "markdown",
   "metadata": {},
   "source": [
    "### Задание 3\n",
    "#### Вызовите документацию для класса RandomForestRegressor, найдите информацию об атрибуте feature_importances_. С помощью этого атрибута найдите сумму всех показателей важности, установите, какие два признака показывают наибольшую важность."
   ]
  },
  {
   "cell_type": "code",
   "execution_count": 10,
   "metadata": {
    "pycharm": {
     "name": "#%%\n"
    }
   },
   "outputs": [
    {
     "data": {
      "text/plain": "array([0.03167574, 0.00154252, 0.00713813, 0.00123624, 0.01426897,\n       0.40268179, 0.01429864, 0.06397257, 0.00528122, 0.01152493,\n       0.01808108, 0.01245085, 0.41584732])"
     },
     "execution_count": 10,
     "metadata": {},
     "output_type": "execute_result"
    }
   ],
   "source": [
    "importances = model.feature_importances_\n",
    "importances"
   ]
  },
  {
   "cell_type": "code",
   "execution_count": 11,
   "metadata": {
    "pycharm": {
     "name": "#%%\n"
    }
   },
   "outputs": [
    {
     "data": {
      "text/plain": "1.0"
     },
     "execution_count": 11,
     "metadata": {},
     "output_type": "execute_result"
    }
   ],
   "source": [
    "importances.sum()"
   ]
  },
  {
   "cell_type": "code",
   "execution_count": 12,
   "metadata": {
    "pycharm": {
     "name": "#%%\n"
    }
   },
   "outputs": [
    {
     "data": {
      "text/plain": "['LSTAT', 'RM']"
     },
     "execution_count": 12,
     "metadata": {},
     "output_type": "execute_result"
    }
   ],
   "source": [
    "indices = np.argsort(importances)[::-1]\n",
    "\n",
    "names = [X.columns[i] for i in indices]\n",
    "names[:2]"
   ]
  },
  {
   "cell_type": "markdown",
   "metadata": {},
   "source": [
    "### Задание 4\n",
    "#### Импортируйте из соответствующих модулей RandomForestClassifier, GridSearchCV и train_test_split.\n",
    "#### Загрузите датасет creditcard.csv и создайте датафрейм df."
   ]
  },
  {
   "cell_type": "code",
   "execution_count": 13,
   "metadata": {
    "pycharm": {
     "name": "#%%\n"
    }
   },
   "outputs": [],
   "source": [
    "from sklearn.ensemble import RandomForestClassifier\n",
    "from sklearn.model_selection import GridSearchCV\n"
   ]
  },
  {
   "cell_type": "code",
   "execution_count": 14,
   "metadata": {
    "pycharm": {
     "name": "#%%\n"
    }
   },
   "outputs": [],
   "source": [
    "df = pd.read_csv('creditcard.csv', sep=\",\")\n"
   ]
  },
  {
   "cell_type": "markdown",
   "metadata": {},
   "source": [
    "#### С помощью метода value_counts с аргументом normalize=True убедитесь в том, что выборка несбалансирована."
   ]
  },
  {
   "cell_type": "code",
   "execution_count": 15,
   "metadata": {
    "pycharm": {
     "name": "#%%\n"
    }
   },
   "outputs": [
    {
     "data": {
      "text/plain": "Time      V1          V2          V3         V4         V5         V6         V7          V8          V9         V10        V11        V12        V13        V14        V15        V16        V17        V18        V19        V20        V21         V22        V23        V24        V25        V26        V27        V28        Amount  Class\n163152.0  -1.196037    1.585949    2.883976   3.378471   1.511706   3.717077   0.585362   -0.156001    0.122648   4.217934   1.385525  -0.709405  -0.256168  -1.564352   1.693218  -0.785210  -0.228008  -0.412833   0.234834   1.375790  -0.370294    0.524395  -0.355170  -0.869790  -0.133198   0.327804  -0.035702  -0.858197  7.56    0        0.000063\n          -1.203617    1.574009    2.889277   3.381404   1.538663   3.698747   0.560211   -0.150911    0.124136   4.220998   1.384569  -0.706897  -0.256274  -1.562583   1.692915  -0.787338  -0.226776  -0.412354   0.234322   1.385597  -0.366727    0.522223  -0.357329  -0.870174  -0.134166   0.327019  -0.042648  -0.855262  1.51    0        0.000063\n43153.0   -2.086016    2.203265    1.654339   2.941050  -1.683045   0.529728  -1.352162    1.793449   -0.723686   0.600365  -0.982212  -0.551636  -1.337000   0.834403   1.251862   0.033455   1.067978   0.160510   0.213087   0.079002   0.216444    0.567241  -0.035345   0.370201   0.157378   0.440341   0.210230   0.090558  0.76    0        0.000032\n170731.0   2.033492    0.766969   -2.107555   3.631952   1.348594  -0.499907   0.945159   -0.286392   -1.370581   1.653073  -1.600434  -1.510901  -2.143280   1.189850  -0.875588   0.175808  -0.419433  -0.464717  -1.414528  -0.430560   0.241894    0.658545  -0.102644   0.580535   0.643637   0.347240  -0.116618  -0.078601  0.76    0        0.000032\n68207.0   -13.192671   12.785971  -9.906650   3.320337  -4.801176   5.760059  -18.750889  -37.353443  -0.391540  -5.052502   4.406806  -4.610756  -1.909488  -9.072711  -0.226074  -6.211557  -6.248145  -3.149247   0.051576  -3.493050   27.202839  -8.887017   5.303607  -0.639435   0.263203  -0.108877   1.269566   0.939407  1.00    1        0.000021\n                                                                                                                                                                                                                                                                                                                                                      ...   \n65149.0   -0.608037    0.277482    2.333740   0.713876  -0.686327   0.424502   0.158410    0.277078    0.005665  -0.574444  -0.383596   0.063757   0.435809  -0.294166   1.561564   0.430549  -0.512260   0.321857  -1.089111   0.192164   0.425425    1.077523   0.095700   0.080007  -0.087784  -0.253436   0.077868   0.055774  115.98  0        0.000004\n           0.890428   -0.914533    0.916273   0.533497  -1.417793  -0.283902  -0.520284    0.002223   -1.050330   0.827726   1.336306   0.961705   0.778165   0.101997   0.352339  -0.892199  -0.538873   1.792922  -1.092627  -0.119284  -0.239564   -0.634749  -0.018377   0.482486   0.102384  -0.559266   0.040121   0.067240  192.05  0        0.000004\n65150.0   -0.819167    1.289630    1.155617  -0.356589   0.742668  -1.179886   1.114827   -0.105033   -1.169136  -1.218791   1.841286   0.558376   0.081792  -1.028918  -0.400824   0.722658   0.402985   0.613975  -0.605494  -0.014715  -0.011025   -0.125263  -0.385443   0.449483   0.536560   0.252429  -0.020876   0.072608  0.76    0        0.000004\n          -0.283939    1.355339    0.553398   0.255501   0.561040  -1.338352   1.056880   -0.229176   -0.738105  -1.157676   0.000759  -0.543236  -0.313497  -1.370815   0.770587   0.452886   1.064176   0.458320  -0.199074  -0.019922  -0.076192   -0.211969  -0.256209   0.259185   0.096589   0.327896   0.021232   0.083294  0.76    0        0.000004\n172792.0  -0.533413   -0.189733    0.703337  -0.506271  -0.012546  -0.649617   1.577006   -0.414650    0.486180  -0.915427  -1.040458  -0.031513  -0.188093  -0.084316   0.041333  -0.302620  -0.660377   0.167430  -0.256117   0.382948   0.261057    0.643078   0.376777   0.008797  -0.473649  -0.818267  -0.002415   0.013649  217.00  0        0.000004\nLength: 283726, dtype: float64"
     },
     "execution_count": 15,
     "metadata": {},
     "output_type": "execute_result"
    }
   ],
   "source": [
    "df.value_counts(normalize=True)"
   ]
  },
  {
   "cell_type": "markdown",
   "metadata": {
    "pycharm": {
     "name": "#%% md\n"
    }
   },
   "source": [
    "#### Используя метод info, проверьте, все ли столбцы содержат числовые данные и нет ли в них пропусков"
   ]
  },
  {
   "cell_type": "code",
   "execution_count": 16,
   "metadata": {
    "pycharm": {
     "name": "#%%\n"
    }
   },
   "outputs": [
    {
     "name": "stdout",
     "output_type": "stream",
     "text": [
      "<class 'pandas.core.frame.DataFrame'>\n",
      "RangeIndex: 284807 entries, 0 to 284806\n",
      "Data columns (total 31 columns):\n",
      " #   Column  Non-Null Count   Dtype  \n",
      "---  ------  --------------   -----  \n",
      " 0   Time    284807 non-null  float64\n",
      " 1   V1      284807 non-null  float64\n",
      " 2   V2      284807 non-null  float64\n",
      " 3   V3      284807 non-null  float64\n",
      " 4   V4      284807 non-null  float64\n",
      " 5   V5      284807 non-null  float64\n",
      " 6   V6      284807 non-null  float64\n",
      " 7   V7      284807 non-null  float64\n",
      " 8   V8      284807 non-null  float64\n",
      " 9   V9      284807 non-null  float64\n",
      " 10  V10     284807 non-null  float64\n",
      " 11  V11     284807 non-null  float64\n",
      " 12  V12     284807 non-null  float64\n",
      " 13  V13     284807 non-null  float64\n",
      " 14  V14     284807 non-null  float64\n",
      " 15  V15     284807 non-null  float64\n",
      " 16  V16     284807 non-null  float64\n",
      " 17  V17     284807 non-null  float64\n",
      " 18  V18     284807 non-null  float64\n",
      " 19  V19     284807 non-null  float64\n",
      " 20  V20     284807 non-null  float64\n",
      " 21  V21     284807 non-null  float64\n",
      " 22  V22     284807 non-null  float64\n",
      " 23  V23     284807 non-null  float64\n",
      " 24  V24     284807 non-null  float64\n",
      " 25  V25     284807 non-null  float64\n",
      " 26  V26     284807 non-null  float64\n",
      " 27  V27     284807 non-null  float64\n",
      " 28  V28     284807 non-null  float64\n",
      " 29  Amount  284807 non-null  float64\n",
      " 30  Class   284807 non-null  int64  \n",
      "dtypes: float64(30), int64(1)\n",
      "memory usage: 67.4 MB\n"
     ]
    }
   ],
   "source": [
    "df.info()\n",
    "# Данные числовые, пропусков нет"
   ]
  },
  {
   "cell_type": "markdown",
   "metadata": {
    "pycharm": {
     "name": "#%% md\n"
    }
   },
   "source": [
    "### Примените следующую настройку, чтобы можно было просматривать все столбцы датафрейма:\n",
    "#### pd.options.display.max_columns = 100.\n",
    "#### Просмотрите первые 10 строк датафрейма df.\n"
   ]
  },
  {
   "cell_type": "code",
   "execution_count": 17,
   "metadata": {
    "pycharm": {
     "name": "#%%\n"
    }
   },
   "outputs": [
    {
     "data": {
      "text/plain": "   Time        V1        V2        V3        V4        V5        V6        V7  \\\n0   0.0 -1.359807 -0.072781  2.536347  1.378155 -0.338321  0.462388  0.239599   \n1   0.0  1.191857  0.266151  0.166480  0.448154  0.060018 -0.082361 -0.078803   \n2   1.0 -1.358354 -1.340163  1.773209  0.379780 -0.503198  1.800499  0.791461   \n3   1.0 -0.966272 -0.185226  1.792993 -0.863291 -0.010309  1.247203  0.237609   \n4   2.0 -1.158233  0.877737  1.548718  0.403034 -0.407193  0.095921  0.592941   \n5   2.0 -0.425966  0.960523  1.141109 -0.168252  0.420987 -0.029728  0.476201   \n6   4.0  1.229658  0.141004  0.045371  1.202613  0.191881  0.272708 -0.005159   \n7   7.0 -0.644269  1.417964  1.074380 -0.492199  0.948934  0.428118  1.120631   \n8   7.0 -0.894286  0.286157 -0.113192 -0.271526  2.669599  3.721818  0.370145   \n9   9.0 -0.338262  1.119593  1.044367 -0.222187  0.499361 -0.246761  0.651583   \n\n         V8        V9       V10       V11       V12       V13       V14  \\\n0  0.098698  0.363787  0.090794 -0.551600 -0.617801 -0.991390 -0.311169   \n1  0.085102 -0.255425 -0.166974  1.612727  1.065235  0.489095 -0.143772   \n2  0.247676 -1.514654  0.207643  0.624501  0.066084  0.717293 -0.165946   \n3  0.377436 -1.387024 -0.054952 -0.226487  0.178228  0.507757 -0.287924   \n4 -0.270533  0.817739  0.753074 -0.822843  0.538196  1.345852 -1.119670   \n5  0.260314 -0.568671 -0.371407  1.341262  0.359894 -0.358091 -0.137134   \n6  0.081213  0.464960 -0.099254 -1.416907 -0.153826 -0.751063  0.167372   \n7 -3.807864  0.615375  1.249376 -0.619468  0.291474  1.757964 -1.323865   \n8  0.851084 -0.392048 -0.410430 -0.705117 -0.110452 -0.286254  0.074355   \n9  0.069539 -0.736727 -0.366846  1.017614  0.836390  1.006844 -0.443523   \n\n        V15       V16       V17       V18       V19       V20       V21  \\\n0  1.468177 -0.470401  0.207971  0.025791  0.403993  0.251412 -0.018307   \n1  0.635558  0.463917 -0.114805 -0.183361 -0.145783 -0.069083 -0.225775   \n2  2.345865 -2.890083  1.109969 -0.121359 -2.261857  0.524980  0.247998   \n3 -0.631418 -1.059647 -0.684093  1.965775 -1.232622 -0.208038 -0.108300   \n4  0.175121 -0.451449 -0.237033 -0.038195  0.803487  0.408542 -0.009431   \n5  0.517617  0.401726 -0.058133  0.068653 -0.033194  0.084968 -0.208254   \n6  0.050144 -0.443587  0.002821 -0.611987 -0.045575 -0.219633 -0.167716   \n7  0.686133 -0.076127 -1.222127 -0.358222  0.324505 -0.156742  1.943465   \n8 -0.328783 -0.210077 -0.499768  0.118765  0.570328  0.052736 -0.073425   \n9  0.150219  0.739453 -0.540980  0.476677  0.451773  0.203711 -0.246914   \n\n        V22       V23       V24       V25       V26       V27       V28  \\\n0  0.277838 -0.110474  0.066928  0.128539 -0.189115  0.133558 -0.021053   \n1 -0.638672  0.101288 -0.339846  0.167170  0.125895 -0.008983  0.014724   \n2  0.771679  0.909412 -0.689281 -0.327642 -0.139097 -0.055353 -0.059752   \n3  0.005274 -0.190321 -1.175575  0.647376 -0.221929  0.062723  0.061458   \n4  0.798278 -0.137458  0.141267 -0.206010  0.502292  0.219422  0.215153   \n5 -0.559825 -0.026398 -0.371427 -0.232794  0.105915  0.253844  0.081080   \n6 -0.270710 -0.154104 -0.780055  0.750137 -0.257237  0.034507  0.005168   \n7 -1.015455  0.057504 -0.649709 -0.415267 -0.051634 -1.206921 -1.085339   \n8 -0.268092 -0.204233  1.011592  0.373205 -0.384157  0.011747  0.142404   \n9 -0.633753 -0.120794 -0.385050 -0.069733  0.094199  0.246219  0.083076   \n\n   Amount  Class  \n0  149.62      0  \n1    2.69      0  \n2  378.66      0  \n3  123.50      0  \n4   69.99      0  \n5    3.67      0  \n6    4.99      0  \n7   40.80      0  \n8   93.20      0  \n9    3.68      0  ",
      "text/html": "<div>\n<style scoped>\n    .dataframe tbody tr th:only-of-type {\n        vertical-align: middle;\n    }\n\n    .dataframe tbody tr th {\n        vertical-align: top;\n    }\n\n    .dataframe thead th {\n        text-align: right;\n    }\n</style>\n<table border=\"1\" class=\"dataframe\">\n  <thead>\n    <tr style=\"text-align: right;\">\n      <th></th>\n      <th>Time</th>\n      <th>V1</th>\n      <th>V2</th>\n      <th>V3</th>\n      <th>V4</th>\n      <th>V5</th>\n      <th>V6</th>\n      <th>V7</th>\n      <th>V8</th>\n      <th>V9</th>\n      <th>V10</th>\n      <th>V11</th>\n      <th>V12</th>\n      <th>V13</th>\n      <th>V14</th>\n      <th>V15</th>\n      <th>V16</th>\n      <th>V17</th>\n      <th>V18</th>\n      <th>V19</th>\n      <th>V20</th>\n      <th>V21</th>\n      <th>V22</th>\n      <th>V23</th>\n      <th>V24</th>\n      <th>V25</th>\n      <th>V26</th>\n      <th>V27</th>\n      <th>V28</th>\n      <th>Amount</th>\n      <th>Class</th>\n    </tr>\n  </thead>\n  <tbody>\n    <tr>\n      <th>0</th>\n      <td>0.0</td>\n      <td>-1.359807</td>\n      <td>-0.072781</td>\n      <td>2.536347</td>\n      <td>1.378155</td>\n      <td>-0.338321</td>\n      <td>0.462388</td>\n      <td>0.239599</td>\n      <td>0.098698</td>\n      <td>0.363787</td>\n      <td>0.090794</td>\n      <td>-0.551600</td>\n      <td>-0.617801</td>\n      <td>-0.991390</td>\n      <td>-0.311169</td>\n      <td>1.468177</td>\n      <td>-0.470401</td>\n      <td>0.207971</td>\n      <td>0.025791</td>\n      <td>0.403993</td>\n      <td>0.251412</td>\n      <td>-0.018307</td>\n      <td>0.277838</td>\n      <td>-0.110474</td>\n      <td>0.066928</td>\n      <td>0.128539</td>\n      <td>-0.189115</td>\n      <td>0.133558</td>\n      <td>-0.021053</td>\n      <td>149.62</td>\n      <td>0</td>\n    </tr>\n    <tr>\n      <th>1</th>\n      <td>0.0</td>\n      <td>1.191857</td>\n      <td>0.266151</td>\n      <td>0.166480</td>\n      <td>0.448154</td>\n      <td>0.060018</td>\n      <td>-0.082361</td>\n      <td>-0.078803</td>\n      <td>0.085102</td>\n      <td>-0.255425</td>\n      <td>-0.166974</td>\n      <td>1.612727</td>\n      <td>1.065235</td>\n      <td>0.489095</td>\n      <td>-0.143772</td>\n      <td>0.635558</td>\n      <td>0.463917</td>\n      <td>-0.114805</td>\n      <td>-0.183361</td>\n      <td>-0.145783</td>\n      <td>-0.069083</td>\n      <td>-0.225775</td>\n      <td>-0.638672</td>\n      <td>0.101288</td>\n      <td>-0.339846</td>\n      <td>0.167170</td>\n      <td>0.125895</td>\n      <td>-0.008983</td>\n      <td>0.014724</td>\n      <td>2.69</td>\n      <td>0</td>\n    </tr>\n    <tr>\n      <th>2</th>\n      <td>1.0</td>\n      <td>-1.358354</td>\n      <td>-1.340163</td>\n      <td>1.773209</td>\n      <td>0.379780</td>\n      <td>-0.503198</td>\n      <td>1.800499</td>\n      <td>0.791461</td>\n      <td>0.247676</td>\n      <td>-1.514654</td>\n      <td>0.207643</td>\n      <td>0.624501</td>\n      <td>0.066084</td>\n      <td>0.717293</td>\n      <td>-0.165946</td>\n      <td>2.345865</td>\n      <td>-2.890083</td>\n      <td>1.109969</td>\n      <td>-0.121359</td>\n      <td>-2.261857</td>\n      <td>0.524980</td>\n      <td>0.247998</td>\n      <td>0.771679</td>\n      <td>0.909412</td>\n      <td>-0.689281</td>\n      <td>-0.327642</td>\n      <td>-0.139097</td>\n      <td>-0.055353</td>\n      <td>-0.059752</td>\n      <td>378.66</td>\n      <td>0</td>\n    </tr>\n    <tr>\n      <th>3</th>\n      <td>1.0</td>\n      <td>-0.966272</td>\n      <td>-0.185226</td>\n      <td>1.792993</td>\n      <td>-0.863291</td>\n      <td>-0.010309</td>\n      <td>1.247203</td>\n      <td>0.237609</td>\n      <td>0.377436</td>\n      <td>-1.387024</td>\n      <td>-0.054952</td>\n      <td>-0.226487</td>\n      <td>0.178228</td>\n      <td>0.507757</td>\n      <td>-0.287924</td>\n      <td>-0.631418</td>\n      <td>-1.059647</td>\n      <td>-0.684093</td>\n      <td>1.965775</td>\n      <td>-1.232622</td>\n      <td>-0.208038</td>\n      <td>-0.108300</td>\n      <td>0.005274</td>\n      <td>-0.190321</td>\n      <td>-1.175575</td>\n      <td>0.647376</td>\n      <td>-0.221929</td>\n      <td>0.062723</td>\n      <td>0.061458</td>\n      <td>123.50</td>\n      <td>0</td>\n    </tr>\n    <tr>\n      <th>4</th>\n      <td>2.0</td>\n      <td>-1.158233</td>\n      <td>0.877737</td>\n      <td>1.548718</td>\n      <td>0.403034</td>\n      <td>-0.407193</td>\n      <td>0.095921</td>\n      <td>0.592941</td>\n      <td>-0.270533</td>\n      <td>0.817739</td>\n      <td>0.753074</td>\n      <td>-0.822843</td>\n      <td>0.538196</td>\n      <td>1.345852</td>\n      <td>-1.119670</td>\n      <td>0.175121</td>\n      <td>-0.451449</td>\n      <td>-0.237033</td>\n      <td>-0.038195</td>\n      <td>0.803487</td>\n      <td>0.408542</td>\n      <td>-0.009431</td>\n      <td>0.798278</td>\n      <td>-0.137458</td>\n      <td>0.141267</td>\n      <td>-0.206010</td>\n      <td>0.502292</td>\n      <td>0.219422</td>\n      <td>0.215153</td>\n      <td>69.99</td>\n      <td>0</td>\n    </tr>\n    <tr>\n      <th>5</th>\n      <td>2.0</td>\n      <td>-0.425966</td>\n      <td>0.960523</td>\n      <td>1.141109</td>\n      <td>-0.168252</td>\n      <td>0.420987</td>\n      <td>-0.029728</td>\n      <td>0.476201</td>\n      <td>0.260314</td>\n      <td>-0.568671</td>\n      <td>-0.371407</td>\n      <td>1.341262</td>\n      <td>0.359894</td>\n      <td>-0.358091</td>\n      <td>-0.137134</td>\n      <td>0.517617</td>\n      <td>0.401726</td>\n      <td>-0.058133</td>\n      <td>0.068653</td>\n      <td>-0.033194</td>\n      <td>0.084968</td>\n      <td>-0.208254</td>\n      <td>-0.559825</td>\n      <td>-0.026398</td>\n      <td>-0.371427</td>\n      <td>-0.232794</td>\n      <td>0.105915</td>\n      <td>0.253844</td>\n      <td>0.081080</td>\n      <td>3.67</td>\n      <td>0</td>\n    </tr>\n    <tr>\n      <th>6</th>\n      <td>4.0</td>\n      <td>1.229658</td>\n      <td>0.141004</td>\n      <td>0.045371</td>\n      <td>1.202613</td>\n      <td>0.191881</td>\n      <td>0.272708</td>\n      <td>-0.005159</td>\n      <td>0.081213</td>\n      <td>0.464960</td>\n      <td>-0.099254</td>\n      <td>-1.416907</td>\n      <td>-0.153826</td>\n      <td>-0.751063</td>\n      <td>0.167372</td>\n      <td>0.050144</td>\n      <td>-0.443587</td>\n      <td>0.002821</td>\n      <td>-0.611987</td>\n      <td>-0.045575</td>\n      <td>-0.219633</td>\n      <td>-0.167716</td>\n      <td>-0.270710</td>\n      <td>-0.154104</td>\n      <td>-0.780055</td>\n      <td>0.750137</td>\n      <td>-0.257237</td>\n      <td>0.034507</td>\n      <td>0.005168</td>\n      <td>4.99</td>\n      <td>0</td>\n    </tr>\n    <tr>\n      <th>7</th>\n      <td>7.0</td>\n      <td>-0.644269</td>\n      <td>1.417964</td>\n      <td>1.074380</td>\n      <td>-0.492199</td>\n      <td>0.948934</td>\n      <td>0.428118</td>\n      <td>1.120631</td>\n      <td>-3.807864</td>\n      <td>0.615375</td>\n      <td>1.249376</td>\n      <td>-0.619468</td>\n      <td>0.291474</td>\n      <td>1.757964</td>\n      <td>-1.323865</td>\n      <td>0.686133</td>\n      <td>-0.076127</td>\n      <td>-1.222127</td>\n      <td>-0.358222</td>\n      <td>0.324505</td>\n      <td>-0.156742</td>\n      <td>1.943465</td>\n      <td>-1.015455</td>\n      <td>0.057504</td>\n      <td>-0.649709</td>\n      <td>-0.415267</td>\n      <td>-0.051634</td>\n      <td>-1.206921</td>\n      <td>-1.085339</td>\n      <td>40.80</td>\n      <td>0</td>\n    </tr>\n    <tr>\n      <th>8</th>\n      <td>7.0</td>\n      <td>-0.894286</td>\n      <td>0.286157</td>\n      <td>-0.113192</td>\n      <td>-0.271526</td>\n      <td>2.669599</td>\n      <td>3.721818</td>\n      <td>0.370145</td>\n      <td>0.851084</td>\n      <td>-0.392048</td>\n      <td>-0.410430</td>\n      <td>-0.705117</td>\n      <td>-0.110452</td>\n      <td>-0.286254</td>\n      <td>0.074355</td>\n      <td>-0.328783</td>\n      <td>-0.210077</td>\n      <td>-0.499768</td>\n      <td>0.118765</td>\n      <td>0.570328</td>\n      <td>0.052736</td>\n      <td>-0.073425</td>\n      <td>-0.268092</td>\n      <td>-0.204233</td>\n      <td>1.011592</td>\n      <td>0.373205</td>\n      <td>-0.384157</td>\n      <td>0.011747</td>\n      <td>0.142404</td>\n      <td>93.20</td>\n      <td>0</td>\n    </tr>\n    <tr>\n      <th>9</th>\n      <td>9.0</td>\n      <td>-0.338262</td>\n      <td>1.119593</td>\n      <td>1.044367</td>\n      <td>-0.222187</td>\n      <td>0.499361</td>\n      <td>-0.246761</td>\n      <td>0.651583</td>\n      <td>0.069539</td>\n      <td>-0.736727</td>\n      <td>-0.366846</td>\n      <td>1.017614</td>\n      <td>0.836390</td>\n      <td>1.006844</td>\n      <td>-0.443523</td>\n      <td>0.150219</td>\n      <td>0.739453</td>\n      <td>-0.540980</td>\n      <td>0.476677</td>\n      <td>0.451773</td>\n      <td>0.203711</td>\n      <td>-0.246914</td>\n      <td>-0.633753</td>\n      <td>-0.120794</td>\n      <td>-0.385050</td>\n      <td>-0.069733</td>\n      <td>0.094199</td>\n      <td>0.246219</td>\n      <td>0.083076</td>\n      <td>3.68</td>\n      <td>0</td>\n    </tr>\n  </tbody>\n</table>\n</div>"
     },
     "execution_count": 17,
     "metadata": {},
     "output_type": "execute_result"
    }
   ],
   "source": [
    "pd.options.display.max_columns = 100\n",
    "df.head(10)"
   ]
  },
  {
   "cell_type": "markdown",
   "metadata": {
    "pycharm": {
     "name": "#%% md\n"
    }
   },
   "source": [
    "#### Создайте датафрейм X из датафрейма df, исключив столбец Class."
   ]
  },
  {
   "cell_type": "code",
   "execution_count": 18,
   "metadata": {
    "pycharm": {
     "name": "#%%\n"
    }
   },
   "outputs": [],
   "source": [
    "X = df.loc[:, df.columns != 'Class']"
   ]
  },
  {
   "cell_type": "markdown",
   "metadata": {},
   "source": [
    "#### Создайте объект Series под названием y из столбца Class."
   ]
  },
  {
   "cell_type": "code",
   "execution_count": 19,
   "metadata": {
    "pycharm": {
     "name": "#%%\n"
    }
   },
   "outputs": [],
   "source": [
    "y = df.loc[:, df.columns == 'Class']\n",
    "y = y.stack()"
   ]
  },
  {
   "cell_type": "markdown",
   "metadata": {},
   "source": [
    "#### Разбейте X и y на тренировочный и тестовый наборы данных при помощи функции train_test_split, используя аргументы: test_size=0.3, random_state=100, stratify=y. У вас должны получиться объекты X_train, X_test, y_train и y_test.\n",
    "#### Просмотрите информацию об их форме."
   ]
  },
  {
   "cell_type": "code",
   "execution_count": 20,
   "metadata": {
    "pycharm": {
     "name": "#%%\n"
    }
   },
   "outputs": [
    {
     "data": {
      "text/plain": "((199364, 30), (85443, 30), (199364,), (85443,))"
     },
     "execution_count": 20,
     "metadata": {},
     "output_type": "execute_result"
    }
   ],
   "source": [
    "X_train, X_test, y_train, y_test = train_test_split(X, y, test_size=0.3, random_state=100, stratify=y)\n",
    "X_train.shape, X_test.shape, y_train.shape, y_test.shape"
   ]
  },
  {
   "cell_type": "markdown",
   "metadata": {},
   "source": [
    "#### Для поиска по сетке параметров задайте такие параметры:\n",
    "#### parameters = *[{'n_estimators': [10, 15], 'max_features': np.arange(3, 5),  'max_depth': np.arange(4, 7)}]*\n",
    "#### Создайте модель GridSearchCV со следующими аргументами:\n",
    "#### *estimator=RandomForestClassifier(random_state=100), param_grid=parameters, scoring='roc_auc',cv=3.*\n",
    "#### Обучите модель на тренировочном наборе данных.\n",
    "#### Просмотрите параметры лучшей модели с помощью атрибута best_params_"
   ]
  },
  {
   "cell_type": "code",
   "execution_count": 21,
   "metadata": {
    "pycharm": {
     "name": "#%%\n"
    }
   },
   "outputs": [
    {
     "data": {
      "text/plain": "GridSearchCV(cv=3, estimator=RandomForestClassifier(),\n             param_grid={'max_depth': array([4, 5, 6]),\n                         'max_features': array([3, 4]),\n                         'n_estimators': [10, 15]},\n             scoring='roc_auc')"
     },
     "execution_count": 21,
     "metadata": {},
     "output_type": "execute_result"
    }
   ],
   "source": [
    "parameters = {\n",
    "    'n_estimators': [10, 15],\n",
    "    'max_features': np.arange(3, 5),\n",
    "    'max_depth': np.arange(4, 7),\n",
    "}\n",
    "\n",
    "clf = GridSearchCV(\n",
    "    estimator=RandomForestClassifier(),\n",
    "    param_grid=parameters,\n",
    "    scoring='roc_auc',\n",
    "    cv=3,\n",
    ")\n",
    "clf.fit(X_train, y_train)"
   ]
  },
  {
   "cell_type": "code",
   "execution_count": 22,
   "outputs": [
    {
     "data": {
      "text/plain": "{'max_depth': 6, 'max_features': 4, 'n_estimators': 15}"
     },
     "execution_count": 22,
     "metadata": {},
     "output_type": "execute_result"
    }
   ],
   "source": [
    "train_pred_proba = clf.predict_proba(X_train)\n",
    "clf.best_params_"
   ],
   "metadata": {
    "collapsed": false,
    "pycharm": {
     "name": "#%%\n"
    }
   }
  },
  {
   "cell_type": "markdown",
   "metadata": {},
   "source": [
    "#### Предскажите вероятности классов с помощью полученнной модели и метода predict_proba.\n",
    "#### Из полученного результата (массив Numpy) выберите столбец с индексом 1 (вероятность класса 1) и запишите в массив y_pred_proba. Из модуля sklearn.metrics импортируйте метрику roc_auc_score.\n",
    "#### Вычислите AUC на тестовых данных и сравните с результатом,полученным на тренировочных данных, используя в качестве аргументов массивы y_test и y_pred_proba."
   ]
  },
  {
   "cell_type": "code",
   "execution_count": 23,
   "metadata": {
    "pycharm": {
     "name": "#%%\n"
    }
   },
   "outputs": [
    {
     "data": {
      "text/plain": "array([0.00039189, 0.0002586 , 0.0002586 , ..., 0.0002586 , 0.00033616,\n       0.00144315])"
     },
     "execution_count": 23,
     "metadata": {},
     "output_type": "execute_result"
    }
   ],
   "source": [
    "y_pred_proba = clf.predict_proba(X_test)\n",
    "y_pred_proba = y_pred_proba[:, 1]\n",
    "\n",
    "y_pred_proba"
   ]
  },
  {
   "cell_type": "code",
   "execution_count": 24,
   "metadata": {
    "pycharm": {
     "name": "#%%\n"
    }
   },
   "outputs": [
    {
     "data": {
      "text/plain": "(0.9413460121707968, 0.973967309000147)"
     },
     "execution_count": 24,
     "metadata": {},
     "output_type": "execute_result"
    }
   ],
   "source": [
    "from sklearn.metrics import roc_auc_score\n",
    "y_pred_score = roc_auc_score(y_test, y_pred_proba)\n",
    "train_pred_score = roc_auc_score(y_train, train_pred_proba[:, 1])\n",
    "y_pred_score, train_pred_score"
   ]
  },
  {
   "cell_type": "markdown",
   "source": [
    "### Дополнительные задания\n",
    "#### Загрузите датасет Wine из встроенных датасетов sklearn.datasets с помощью функции load_wine в переменную data"
   ],
   "metadata": {
    "collapsed": false
   }
  },
  {
   "cell_type": "code",
   "execution_count": 25,
   "outputs": [],
   "source": [
    "from sklearn.datasets import load_wine\n",
    "data = load_wine()"
   ],
   "metadata": {
    "collapsed": false,
    "pycharm": {
     "name": "#%%\n"
    }
   }
  },
  {
   "cell_type": "markdown",
   "source": [
    "#### Это структура данных, имеющая ключи аналогично словарю. Просмотрите тип данных этой структуры данных и создайте список data_keys, содержащий ее ключи\n"
   ],
   "metadata": {
    "collapsed": false
   }
  },
  {
   "cell_type": "code",
   "execution_count": 26,
   "outputs": [
    {
     "data": {
      "text/plain": "dict_keys(['data', 'target', 'frame', 'target_names', 'DESCR', 'feature_names'])"
     },
     "execution_count": 26,
     "metadata": {},
     "output_type": "execute_result"
    }
   ],
   "source": [
    "data_keys = data.keys()\n",
    "data_keys"
   ],
   "metadata": {
    "collapsed": false,
    "pycharm": {
     "name": "#%%\n"
    }
   }
  },
  {
   "cell_type": "markdown",
   "source": [
    "#### Просмотрите данные, описание и названия признаков в датасете. Описание нужно вывести в виде привычного, аккуратно оформленного текста, без обозначений переноса строки, но с самими переносами и т.д.4). Сколько классов содержит целевая переменная датасета? Выведите названия классов."
   ],
   "metadata": {
    "collapsed": false
   }
  },
  {
   "cell_type": "code",
   "execution_count": 27,
   "outputs": [
    {
     "name": "stdout",
     "output_type": "stream",
     "text": [
      ".. _wine_dataset:\n",
      "\n",
      "Wine recognition dataset\n",
      "------------------------\n",
      "\n",
      "**Data Set Characteristics:**\n",
      "\n",
      "    :Number of Instances: 178 (50 in each of three classes)\n",
      "    :Number of Attributes: 13 numeric, predictive attributes and the class\n",
      "    :Attribute Information:\n",
      " \t\t- Alcohol\n",
      " \t\t- Malic acid\n",
      " \t\t- Ash\n",
      "\t\t- Alcalinity of ash  \n",
      " \t\t- Magnesium\n",
      "\t\t- Total phenols\n",
      " \t\t- Flavanoids\n",
      " \t\t- Nonflavanoid phenols\n",
      " \t\t- Proanthocyanins\n",
      "\t\t- Color intensity\n",
      " \t\t- Hue\n",
      " \t\t- OD280/OD315 of diluted wines\n",
      " \t\t- Proline\n",
      "\n",
      "    - class:\n",
      "            - class_0\n",
      "            - class_1\n",
      "            - class_2\n",
      "\t\t\n",
      "    :Summary Statistics:\n",
      "    \n",
      "    ============================= ==== ===== ======= =====\n",
      "                                   Min   Max   Mean     SD\n",
      "    ============================= ==== ===== ======= =====\n",
      "    Alcohol:                      11.0  14.8    13.0   0.8\n",
      "    Malic Acid:                   0.74  5.80    2.34  1.12\n",
      "    Ash:                          1.36  3.23    2.36  0.27\n",
      "    Alcalinity of Ash:            10.6  30.0    19.5   3.3\n",
      "    Magnesium:                    70.0 162.0    99.7  14.3\n",
      "    Total Phenols:                0.98  3.88    2.29  0.63\n",
      "    Flavanoids:                   0.34  5.08    2.03  1.00\n",
      "    Nonflavanoid Phenols:         0.13  0.66    0.36  0.12\n",
      "    Proanthocyanins:              0.41  3.58    1.59  0.57\n",
      "    Colour Intensity:              1.3  13.0     5.1   2.3\n",
      "    Hue:                          0.48  1.71    0.96  0.23\n",
      "    OD280/OD315 of diluted wines: 1.27  4.00    2.61  0.71\n",
      "    Proline:                       278  1680     746   315\n",
      "    ============================= ==== ===== ======= =====\n",
      "\n",
      "    :Missing Attribute Values: None\n",
      "    :Class Distribution: class_0 (59), class_1 (71), class_2 (48)\n",
      "    :Creator: R.A. Fisher\n",
      "    :Donor: Michael Marshall (MARSHALL%PLU@io.arc.nasa.gov)\n",
      "    :Date: July, 1988\n",
      "\n",
      "This is a copy of UCI ML Wine recognition datasets.\n",
      "https://archive.ics.uci.edu/ml/machine-learning-databases/wine/wine.data\n",
      "\n",
      "The data is the results of a chemical analysis of wines grown in the same\n",
      "region in Italy by three different cultivators. There are thirteen different\n",
      "measurements taken for different constituents found in the three types of\n",
      "wine.\n",
      "\n",
      "Original Owners: \n",
      "\n",
      "Forina, M. et al, PARVUS - \n",
      "An Extendible Package for Data Exploration, Classification and Correlation. \n",
      "Institute of Pharmaceutical and Food Analysis and Technologies,\n",
      "Via Brigata Salerno, 16147 Genoa, Italy.\n",
      "\n",
      "Citation:\n",
      "\n",
      "Lichman, M. (2013). UCI Machine Learning Repository\n",
      "[https://archive.ics.uci.edu/ml]. Irvine, CA: University of California,\n",
      "School of Information and Computer Science. \n",
      "\n",
      ".. topic:: References\n",
      "\n",
      "  (1) S. Aeberhard, D. Coomans and O. de Vel, \n",
      "  Comparison of Classifiers in High Dimensional Settings, \n",
      "  Tech. Rep. no. 92-02, (1992), Dept. of Computer Science and Dept. of  \n",
      "  Mathematics and Statistics, James Cook University of North Queensland. \n",
      "  (Also submitted to Technometrics). \n",
      "\n",
      "  The data was used with many others for comparing various \n",
      "  classifiers. The classes are separable, though only RDA \n",
      "  has achieved 100% correct classification. \n",
      "  (RDA : 100%, QDA 99.4%, LDA 98.9%, 1NN 96.1% (z-transformed data)) \n",
      "  (All results using the leave-one-out technique) \n",
      "\n",
      "  (2) S. Aeberhard, D. Coomans and O. de Vel, \n",
      "  \"THE CLASSIFICATION PERFORMANCE OF RDA\" \n",
      "  Tech. Rep. no. 92-01, (1992), Dept. of Computer Science and Dept. of \n",
      "  Mathematics and Statistics, James Cook University of North Queensland. \n",
      "  (Also submitted to Journal of Chemometrics).\n",
      "\n"
     ]
    }
   ],
   "source": [
    "print(data['DESCR'])"
   ],
   "metadata": {
    "collapsed": false,
    "pycharm": {
     "name": "#%%\n"
    }
   }
  },
  {
   "cell_type": "markdown",
   "source": [
    "#### На основе данных датасета (они содержатся в двумерном массиве Numpy) и названий признаков создайте датафрейм под названием X.\n"
   ],
   "metadata": {
    "collapsed": false
   }
  },
  {
   "cell_type": "code",
   "execution_count": 28,
   "outputs": [
    {
     "data": {
      "text/plain": "     alcohol  malic_acid   ash  alcalinity_of_ash  magnesium  total_phenols  \\\n0      14.23        1.71  2.43               15.6      127.0           2.80   \n1      13.20        1.78  2.14               11.2      100.0           2.65   \n2      13.16        2.36  2.67               18.6      101.0           2.80   \n3      14.37        1.95  2.50               16.8      113.0           3.85   \n4      13.24        2.59  2.87               21.0      118.0           2.80   \n..       ...         ...   ...                ...        ...            ...   \n173    13.71        5.65  2.45               20.5       95.0           1.68   \n174    13.40        3.91  2.48               23.0      102.0           1.80   \n175    13.27        4.28  2.26               20.0      120.0           1.59   \n176    13.17        2.59  2.37               20.0      120.0           1.65   \n177    14.13        4.10  2.74               24.5       96.0           2.05   \n\n     flavanoids  nonflavanoid_phenols  proanthocyanins  color_intensity   hue  \\\n0          3.06                  0.28             2.29             5.64  1.04   \n1          2.76                  0.26             1.28             4.38  1.05   \n2          3.24                  0.30             2.81             5.68  1.03   \n3          3.49                  0.24             2.18             7.80  0.86   \n4          2.69                  0.39             1.82             4.32  1.04   \n..          ...                   ...              ...              ...   ...   \n173        0.61                  0.52             1.06             7.70  0.64   \n174        0.75                  0.43             1.41             7.30  0.70   \n175        0.69                  0.43             1.35            10.20  0.59   \n176        0.68                  0.53             1.46             9.30  0.60   \n177        0.76                  0.56             1.35             9.20  0.61   \n\n     od280/od315_of_diluted_wines  proline  \n0                            3.92   1065.0  \n1                            3.40   1050.0  \n2                            3.17   1185.0  \n3                            3.45   1480.0  \n4                            2.93    735.0  \n..                            ...      ...  \n173                          1.74    740.0  \n174                          1.56    750.0  \n175                          1.56    835.0  \n176                          1.62    840.0  \n177                          1.60    560.0  \n\n[178 rows x 13 columns]",
      "text/html": "<div>\n<style scoped>\n    .dataframe tbody tr th:only-of-type {\n        vertical-align: middle;\n    }\n\n    .dataframe tbody tr th {\n        vertical-align: top;\n    }\n\n    .dataframe thead th {\n        text-align: right;\n    }\n</style>\n<table border=\"1\" class=\"dataframe\">\n  <thead>\n    <tr style=\"text-align: right;\">\n      <th></th>\n      <th>alcohol</th>\n      <th>malic_acid</th>\n      <th>ash</th>\n      <th>alcalinity_of_ash</th>\n      <th>magnesium</th>\n      <th>total_phenols</th>\n      <th>flavanoids</th>\n      <th>nonflavanoid_phenols</th>\n      <th>proanthocyanins</th>\n      <th>color_intensity</th>\n      <th>hue</th>\n      <th>od280/od315_of_diluted_wines</th>\n      <th>proline</th>\n    </tr>\n  </thead>\n  <tbody>\n    <tr>\n      <th>0</th>\n      <td>14.23</td>\n      <td>1.71</td>\n      <td>2.43</td>\n      <td>15.6</td>\n      <td>127.0</td>\n      <td>2.80</td>\n      <td>3.06</td>\n      <td>0.28</td>\n      <td>2.29</td>\n      <td>5.64</td>\n      <td>1.04</td>\n      <td>3.92</td>\n      <td>1065.0</td>\n    </tr>\n    <tr>\n      <th>1</th>\n      <td>13.20</td>\n      <td>1.78</td>\n      <td>2.14</td>\n      <td>11.2</td>\n      <td>100.0</td>\n      <td>2.65</td>\n      <td>2.76</td>\n      <td>0.26</td>\n      <td>1.28</td>\n      <td>4.38</td>\n      <td>1.05</td>\n      <td>3.40</td>\n      <td>1050.0</td>\n    </tr>\n    <tr>\n      <th>2</th>\n      <td>13.16</td>\n      <td>2.36</td>\n      <td>2.67</td>\n      <td>18.6</td>\n      <td>101.0</td>\n      <td>2.80</td>\n      <td>3.24</td>\n      <td>0.30</td>\n      <td>2.81</td>\n      <td>5.68</td>\n      <td>1.03</td>\n      <td>3.17</td>\n      <td>1185.0</td>\n    </tr>\n    <tr>\n      <th>3</th>\n      <td>14.37</td>\n      <td>1.95</td>\n      <td>2.50</td>\n      <td>16.8</td>\n      <td>113.0</td>\n      <td>3.85</td>\n      <td>3.49</td>\n      <td>0.24</td>\n      <td>2.18</td>\n      <td>7.80</td>\n      <td>0.86</td>\n      <td>3.45</td>\n      <td>1480.0</td>\n    </tr>\n    <tr>\n      <th>4</th>\n      <td>13.24</td>\n      <td>2.59</td>\n      <td>2.87</td>\n      <td>21.0</td>\n      <td>118.0</td>\n      <td>2.80</td>\n      <td>2.69</td>\n      <td>0.39</td>\n      <td>1.82</td>\n      <td>4.32</td>\n      <td>1.04</td>\n      <td>2.93</td>\n      <td>735.0</td>\n    </tr>\n    <tr>\n      <th>...</th>\n      <td>...</td>\n      <td>...</td>\n      <td>...</td>\n      <td>...</td>\n      <td>...</td>\n      <td>...</td>\n      <td>...</td>\n      <td>...</td>\n      <td>...</td>\n      <td>...</td>\n      <td>...</td>\n      <td>...</td>\n      <td>...</td>\n    </tr>\n    <tr>\n      <th>173</th>\n      <td>13.71</td>\n      <td>5.65</td>\n      <td>2.45</td>\n      <td>20.5</td>\n      <td>95.0</td>\n      <td>1.68</td>\n      <td>0.61</td>\n      <td>0.52</td>\n      <td>1.06</td>\n      <td>7.70</td>\n      <td>0.64</td>\n      <td>1.74</td>\n      <td>740.0</td>\n    </tr>\n    <tr>\n      <th>174</th>\n      <td>13.40</td>\n      <td>3.91</td>\n      <td>2.48</td>\n      <td>23.0</td>\n      <td>102.0</td>\n      <td>1.80</td>\n      <td>0.75</td>\n      <td>0.43</td>\n      <td>1.41</td>\n      <td>7.30</td>\n      <td>0.70</td>\n      <td>1.56</td>\n      <td>750.0</td>\n    </tr>\n    <tr>\n      <th>175</th>\n      <td>13.27</td>\n      <td>4.28</td>\n      <td>2.26</td>\n      <td>20.0</td>\n      <td>120.0</td>\n      <td>1.59</td>\n      <td>0.69</td>\n      <td>0.43</td>\n      <td>1.35</td>\n      <td>10.20</td>\n      <td>0.59</td>\n      <td>1.56</td>\n      <td>835.0</td>\n    </tr>\n    <tr>\n      <th>176</th>\n      <td>13.17</td>\n      <td>2.59</td>\n      <td>2.37</td>\n      <td>20.0</td>\n      <td>120.0</td>\n      <td>1.65</td>\n      <td>0.68</td>\n      <td>0.53</td>\n      <td>1.46</td>\n      <td>9.30</td>\n      <td>0.60</td>\n      <td>1.62</td>\n      <td>840.0</td>\n    </tr>\n    <tr>\n      <th>177</th>\n      <td>14.13</td>\n      <td>4.10</td>\n      <td>2.74</td>\n      <td>24.5</td>\n      <td>96.0</td>\n      <td>2.05</td>\n      <td>0.76</td>\n      <td>0.56</td>\n      <td>1.35</td>\n      <td>9.20</td>\n      <td>0.61</td>\n      <td>1.60</td>\n      <td>560.0</td>\n    </tr>\n  </tbody>\n</table>\n<p>178 rows × 13 columns</p>\n</div>"
     },
     "execution_count": 28,
     "metadata": {},
     "output_type": "execute_result"
    }
   ],
   "source": [
    "X = pd.DataFrame(data['data'], columns=data['feature_names'])\n",
    "X"
   ],
   "metadata": {
    "collapsed": false,
    "pycharm": {
     "name": "#%%\n"
    }
   }
  },
  {
   "cell_type": "markdown",
   "source": [
    "#### Выясните размер датафрейма X и установите, имеются ли в нем пропущенные значения."
   ],
   "metadata": {
    "collapsed": false
   }
  },
  {
   "cell_type": "code",
   "execution_count": 29,
   "outputs": [
    {
     "name": "stdout",
     "output_type": "stream",
     "text": [
      "<class 'pandas.core.frame.DataFrame'>\n",
      "RangeIndex: 178 entries, 0 to 177\n",
      "Data columns (total 13 columns):\n",
      " #   Column                        Non-Null Count  Dtype  \n",
      "---  ------                        --------------  -----  \n",
      " 0   alcohol                       178 non-null    float64\n",
      " 1   malic_acid                    178 non-null    float64\n",
      " 2   ash                           178 non-null    float64\n",
      " 3   alcalinity_of_ash             178 non-null    float64\n",
      " 4   magnesium                     178 non-null    float64\n",
      " 5   total_phenols                 178 non-null    float64\n",
      " 6   flavanoids                    178 non-null    float64\n",
      " 7   nonflavanoid_phenols          178 non-null    float64\n",
      " 8   proanthocyanins               178 non-null    float64\n",
      " 9   color_intensity               178 non-null    float64\n",
      " 10  hue                           178 non-null    float64\n",
      " 11  od280/od315_of_diluted_wines  178 non-null    float64\n",
      " 12  proline                       178 non-null    float64\n",
      "dtypes: float64(13)\n",
      "memory usage: 18.2 KB\n"
     ]
    },
    {
     "data": {
      "text/plain": "(None, (178, 13))"
     },
     "execution_count": 29,
     "metadata": {},
     "output_type": "execute_result"
    }
   ],
   "source": [
    "X.info(), X.shape"
   ],
   "metadata": {
    "collapsed": false,
    "pycharm": {
     "name": "#%%\n"
    }
   }
  },
  {
   "cell_type": "markdown",
   "source": [
    "#### Добавьте в датафрейм поле с классами вин в виде чисел, имеющих тип данных numpy.int64. Название поля - 'target'"
   ],
   "metadata": {
    "collapsed": false
   }
  },
  {
   "cell_type": "code",
   "execution_count": 30,
   "outputs": [
    {
     "data": {
      "text/plain": "     alcohol  malic_acid   ash  alcalinity_of_ash  magnesium  total_phenols  \\\n0      14.23        1.71  2.43               15.6      127.0           2.80   \n1      13.20        1.78  2.14               11.2      100.0           2.65   \n2      13.16        2.36  2.67               18.6      101.0           2.80   \n3      14.37        1.95  2.50               16.8      113.0           3.85   \n4      13.24        2.59  2.87               21.0      118.0           2.80   \n..       ...         ...   ...                ...        ...            ...   \n173    13.71        5.65  2.45               20.5       95.0           1.68   \n174    13.40        3.91  2.48               23.0      102.0           1.80   \n175    13.27        4.28  2.26               20.0      120.0           1.59   \n176    13.17        2.59  2.37               20.0      120.0           1.65   \n177    14.13        4.10  2.74               24.5       96.0           2.05   \n\n     flavanoids  nonflavanoid_phenols  proanthocyanins  color_intensity   hue  \\\n0          3.06                  0.28             2.29             5.64  1.04   \n1          2.76                  0.26             1.28             4.38  1.05   \n2          3.24                  0.30             2.81             5.68  1.03   \n3          3.49                  0.24             2.18             7.80  0.86   \n4          2.69                  0.39             1.82             4.32  1.04   \n..          ...                   ...              ...              ...   ...   \n173        0.61                  0.52             1.06             7.70  0.64   \n174        0.75                  0.43             1.41             7.30  0.70   \n175        0.69                  0.43             1.35            10.20  0.59   \n176        0.68                  0.53             1.46             9.30  0.60   \n177        0.76                  0.56             1.35             9.20  0.61   \n\n     od280/od315_of_diluted_wines  proline  target  \n0                            3.92   1065.0       0  \n1                            3.40   1050.0       0  \n2                            3.17   1185.0       0  \n3                            3.45   1480.0       0  \n4                            2.93    735.0       0  \n..                            ...      ...     ...  \n173                          1.74    740.0       2  \n174                          1.56    750.0       2  \n175                          1.56    835.0       2  \n176                          1.62    840.0       2  \n177                          1.60    560.0       2  \n\n[178 rows x 14 columns]",
      "text/html": "<div>\n<style scoped>\n    .dataframe tbody tr th:only-of-type {\n        vertical-align: middle;\n    }\n\n    .dataframe tbody tr th {\n        vertical-align: top;\n    }\n\n    .dataframe thead th {\n        text-align: right;\n    }\n</style>\n<table border=\"1\" class=\"dataframe\">\n  <thead>\n    <tr style=\"text-align: right;\">\n      <th></th>\n      <th>alcohol</th>\n      <th>malic_acid</th>\n      <th>ash</th>\n      <th>alcalinity_of_ash</th>\n      <th>magnesium</th>\n      <th>total_phenols</th>\n      <th>flavanoids</th>\n      <th>nonflavanoid_phenols</th>\n      <th>proanthocyanins</th>\n      <th>color_intensity</th>\n      <th>hue</th>\n      <th>od280/od315_of_diluted_wines</th>\n      <th>proline</th>\n      <th>target</th>\n    </tr>\n  </thead>\n  <tbody>\n    <tr>\n      <th>0</th>\n      <td>14.23</td>\n      <td>1.71</td>\n      <td>2.43</td>\n      <td>15.6</td>\n      <td>127.0</td>\n      <td>2.80</td>\n      <td>3.06</td>\n      <td>0.28</td>\n      <td>2.29</td>\n      <td>5.64</td>\n      <td>1.04</td>\n      <td>3.92</td>\n      <td>1065.0</td>\n      <td>0</td>\n    </tr>\n    <tr>\n      <th>1</th>\n      <td>13.20</td>\n      <td>1.78</td>\n      <td>2.14</td>\n      <td>11.2</td>\n      <td>100.0</td>\n      <td>2.65</td>\n      <td>2.76</td>\n      <td>0.26</td>\n      <td>1.28</td>\n      <td>4.38</td>\n      <td>1.05</td>\n      <td>3.40</td>\n      <td>1050.0</td>\n      <td>0</td>\n    </tr>\n    <tr>\n      <th>2</th>\n      <td>13.16</td>\n      <td>2.36</td>\n      <td>2.67</td>\n      <td>18.6</td>\n      <td>101.0</td>\n      <td>2.80</td>\n      <td>3.24</td>\n      <td>0.30</td>\n      <td>2.81</td>\n      <td>5.68</td>\n      <td>1.03</td>\n      <td>3.17</td>\n      <td>1185.0</td>\n      <td>0</td>\n    </tr>\n    <tr>\n      <th>3</th>\n      <td>14.37</td>\n      <td>1.95</td>\n      <td>2.50</td>\n      <td>16.8</td>\n      <td>113.0</td>\n      <td>3.85</td>\n      <td>3.49</td>\n      <td>0.24</td>\n      <td>2.18</td>\n      <td>7.80</td>\n      <td>0.86</td>\n      <td>3.45</td>\n      <td>1480.0</td>\n      <td>0</td>\n    </tr>\n    <tr>\n      <th>4</th>\n      <td>13.24</td>\n      <td>2.59</td>\n      <td>2.87</td>\n      <td>21.0</td>\n      <td>118.0</td>\n      <td>2.80</td>\n      <td>2.69</td>\n      <td>0.39</td>\n      <td>1.82</td>\n      <td>4.32</td>\n      <td>1.04</td>\n      <td>2.93</td>\n      <td>735.0</td>\n      <td>0</td>\n    </tr>\n    <tr>\n      <th>...</th>\n      <td>...</td>\n      <td>...</td>\n      <td>...</td>\n      <td>...</td>\n      <td>...</td>\n      <td>...</td>\n      <td>...</td>\n      <td>...</td>\n      <td>...</td>\n      <td>...</td>\n      <td>...</td>\n      <td>...</td>\n      <td>...</td>\n      <td>...</td>\n    </tr>\n    <tr>\n      <th>173</th>\n      <td>13.71</td>\n      <td>5.65</td>\n      <td>2.45</td>\n      <td>20.5</td>\n      <td>95.0</td>\n      <td>1.68</td>\n      <td>0.61</td>\n      <td>0.52</td>\n      <td>1.06</td>\n      <td>7.70</td>\n      <td>0.64</td>\n      <td>1.74</td>\n      <td>740.0</td>\n      <td>2</td>\n    </tr>\n    <tr>\n      <th>174</th>\n      <td>13.40</td>\n      <td>3.91</td>\n      <td>2.48</td>\n      <td>23.0</td>\n      <td>102.0</td>\n      <td>1.80</td>\n      <td>0.75</td>\n      <td>0.43</td>\n      <td>1.41</td>\n      <td>7.30</td>\n      <td>0.70</td>\n      <td>1.56</td>\n      <td>750.0</td>\n      <td>2</td>\n    </tr>\n    <tr>\n      <th>175</th>\n      <td>13.27</td>\n      <td>4.28</td>\n      <td>2.26</td>\n      <td>20.0</td>\n      <td>120.0</td>\n      <td>1.59</td>\n      <td>0.69</td>\n      <td>0.43</td>\n      <td>1.35</td>\n      <td>10.20</td>\n      <td>0.59</td>\n      <td>1.56</td>\n      <td>835.0</td>\n      <td>2</td>\n    </tr>\n    <tr>\n      <th>176</th>\n      <td>13.17</td>\n      <td>2.59</td>\n      <td>2.37</td>\n      <td>20.0</td>\n      <td>120.0</td>\n      <td>1.65</td>\n      <td>0.68</td>\n      <td>0.53</td>\n      <td>1.46</td>\n      <td>9.30</td>\n      <td>0.60</td>\n      <td>1.62</td>\n      <td>840.0</td>\n      <td>2</td>\n    </tr>\n    <tr>\n      <th>177</th>\n      <td>14.13</td>\n      <td>4.10</td>\n      <td>2.74</td>\n      <td>24.5</td>\n      <td>96.0</td>\n      <td>2.05</td>\n      <td>0.76</td>\n      <td>0.56</td>\n      <td>1.35</td>\n      <td>9.20</td>\n      <td>0.61</td>\n      <td>1.60</td>\n      <td>560.0</td>\n      <td>2</td>\n    </tr>\n  </tbody>\n</table>\n<p>178 rows × 14 columns</p>\n</div>"
     },
     "execution_count": 30,
     "metadata": {},
     "output_type": "execute_result"
    }
   ],
   "source": [
    "X['target'] = data['target']\n",
    "X"
   ],
   "metadata": {
    "collapsed": false,
    "pycharm": {
     "name": "#%%\n"
    }
   }
  },
  {
   "cell_type": "markdown",
   "source": [
    "#### Постройте матрицу корреляций для всех полей X. Дайте полученному датафрейму название X_corr.\n"
   ],
   "metadata": {
    "collapsed": false
   }
  },
  {
   "cell_type": "code",
   "execution_count": 31,
   "outputs": [
    {
     "data": {
      "text/plain": "<pandas.io.formats.style.Styler at 0x7f7c1984c790>",
      "text/html": "<style  type=\"text/css\" >\n#T_fe20c_row0_col0,#T_fe20c_row1_col1,#T_fe20c_row2_col2,#T_fe20c_row3_col3,#T_fe20c_row4_col4,#T_fe20c_row5_col5,#T_fe20c_row6_col6,#T_fe20c_row7_col7,#T_fe20c_row8_col8,#T_fe20c_row9_col9,#T_fe20c_row10_col10,#T_fe20c_row11_col11,#T_fe20c_row12_col12,#T_fe20c_row13_col13{\n            background-color:  #b40426;\n            color:  #f1f1f1;\n        }#T_fe20c_row0_col1,#T_fe20c_row0_col4{\n            background-color:  #c6d6f1;\n            color:  #000000;\n        }#T_fe20c_row0_col2,#T_fe20c_row3_col6{\n            background-color:  #93b5fe;\n            color:  #000000;\n        }#T_fe20c_row0_col3{\n            background-color:  #5673e0;\n            color:  #000000;\n        }#T_fe20c_row0_col5,#T_fe20c_row0_col6{\n            background-color:  #f0cdbb;\n            color:  #000000;\n        }#T_fe20c_row0_col7,#T_fe20c_row4_col3,#T_fe20c_row10_col4{\n            background-color:  #8caffe;\n            color:  #000000;\n        }#T_fe20c_row0_col8,#T_fe20c_row6_col0{\n            background-color:  #c7d7f0;\n            color:  #000000;\n        }#T_fe20c_row0_col9{\n            background-color:  #f7ac8e;\n            color:  #000000;\n        }#T_fe20c_row0_col10,#T_fe20c_row2_col8,#T_fe20c_row4_col2{\n            background-color:  #abc8fd;\n            color:  #000000;\n        }#T_fe20c_row0_col11,#T_fe20c_row3_col2{\n            background-color:  #d8dce2;\n            color:  #000000;\n        }#T_fe20c_row0_col12{\n            background-color:  #f08b6e;\n            color:  #000000;\n        }#T_fe20c_row0_col13,#T_fe20c_row12_col2{\n            background-color:  #97b8ff;\n            color:  #000000;\n        }#T_fe20c_row1_col0,#T_fe20c_row9_col3{\n            background-color:  #a5c3fe;\n            color:  #000000;\n        }#T_fe20c_row1_col2,#T_fe20c_row7_col10{\n            background-color:  #82a6fb;\n            color:  #000000;\n        }#T_fe20c_row1_col3,#T_fe20c_row1_col9{\n            background-color:  #dedcdb;\n            color:  #000000;\n        }#T_fe20c_row1_col4{\n            background-color:  #6e90f2;\n            color:  #000000;\n        }#T_fe20c_row1_col5{\n            background-color:  #84a7fc;\n            color:  #000000;\n        }#T_fe20c_row1_col6,#T_fe20c_row1_col11,#T_fe20c_row12_col1{\n            background-color:  #88abfd;\n            color:  #000000;\n        }#T_fe20c_row1_col7{\n            background-color:  #e7d7ce;\n            color:  #000000;\n        }#T_fe20c_row1_col8{\n            background-color:  #7699f6;\n            color:  #000000;\n        }#T_fe20c_row1_col10,#T_fe20c_row11_col13{\n            background-color:  #445acc;\n            color:  #f1f1f1;\n        }#T_fe20c_row1_col12{\n            background-color:  #94b6ff;\n            color:  #000000;\n        }#T_fe20c_row1_col13{\n            background-color:  #f7ad90;\n            color:  #000000;\n        }#T_fe20c_row2_col0{\n            background-color:  #c3d5f4;\n            color:  #000000;\n        }#T_fe20c_row2_col1,#T_fe20c_row5_col0{\n            background-color:  #d3dbe7;\n            color:  #000000;\n        }#T_fe20c_row2_col3,#T_fe20c_row12_col11{\n            background-color:  #f3c7b1;\n            color:  #000000;\n        }#T_fe20c_row2_col4,#T_fe20c_row2_col13{\n            background-color:  #cad8ef;\n            color:  #000000;\n        }#T_fe20c_row2_col5{\n            background-color:  #dbdcde;\n            color:  #000000;\n        }#T_fe20c_row2_col6{\n            background-color:  #e2dad5;\n            color:  #000000;\n        }#T_fe20c_row2_col7{\n            background-color:  #d5dbe5;\n            color:  #000000;\n        }#T_fe20c_row2_col9{\n            background-color:  #e0dbd8;\n            color:  #000000;\n        }#T_fe20c_row2_col10{\n            background-color:  #aac7fd;\n            color:  #000000;\n        }#T_fe20c_row2_col11{\n            background-color:  #cdd9ec;\n            color:  #000000;\n        }#T_fe20c_row2_col12{\n            background-color:  #e3d9d3;\n            color:  #000000;\n        }#T_fe20c_row3_col0{\n            background-color:  #3e51c5;\n            color:  #f1f1f1;\n        }#T_fe20c_row3_col1,#T_fe20c_row4_col5{\n            background-color:  #e8d6cc;\n            color:  #000000;\n        }#T_fe20c_row3_col4{\n            background-color:  #6687ed;\n            color:  #000000;\n        }#T_fe20c_row3_col5{\n            background-color:  #86a9fc;\n            color:  #000000;\n        }#T_fe20c_row3_col7{\n            background-color:  #efcebd;\n            color:  #000000;\n        }#T_fe20c_row3_col8,#T_fe20c_row9_col11{\n            background-color:  #7b9ff9;\n            color:  #000000;\n        }#T_fe20c_row3_col9{\n            background-color:  #b1cbfc;\n            color:  #000000;\n        }#T_fe20c_row3_col10{\n            background-color:  #80a3fa;\n            color:  #000000;\n        }#T_fe20c_row3_col11{\n            background-color:  #9abbff;\n            color:  #000000;\n        }#T_fe20c_row3_col12{\n            background-color:  #5f7fe8;\n            color:  #000000;\n        }#T_fe20c_row3_col13,#T_fe20c_row5_col8{\n            background-color:  #f59d7e;\n            color:  #000000;\n        }#T_fe20c_row4_col0{\n            background-color:  #cfdaea;\n            color:  #000000;\n        }#T_fe20c_row4_col1,#T_fe20c_row8_col9{\n            background-color:  #a7c5fe;\n            color:  #000000;\n        }#T_fe20c_row4_col6,#T_fe20c_row8_col10{\n            background-color:  #ecd3c5;\n            color:  #000000;\n        }#T_fe20c_row4_col7{\n            background-color:  #7597f6;\n            color:  #000000;\n        }#T_fe20c_row4_col8{\n            background-color:  #dadce0;\n            color:  #000000;\n        }#T_fe20c_row4_col9{\n            background-color:  #d6dce4;\n            color:  #000000;\n        }#T_fe20c_row4_col10{\n            background-color:  #c5d6f2;\n            color:  #000000;\n        }#T_fe20c_row4_col11{\n            background-color:  #d7dce3;\n            color:  #000000;\n        }#T_fe20c_row4_col12{\n            background-color:  #f5c4ac;\n            color:  #000000;\n        }#T_fe20c_row4_col13{\n            background-color:  #aec9fc;\n            color:  #000000;\n        }#T_fe20c_row5_col1,#T_fe20c_row12_col7{\n            background-color:  #688aef;\n            color:  #000000;\n        }#T_fe20c_row5_col2,#T_fe20c_row8_col13{\n            background-color:  #779af7;\n            color:  #000000;\n        }#T_fe20c_row5_col3{\n            background-color:  #5470de;\n            color:  #000000;\n        }#T_fe20c_row5_col4{\n            background-color:  #b7cff9;\n            color:  #000000;\n        }#T_fe20c_row5_col6{\n            background-color:  #cd423b;\n            color:  #f1f1f1;\n        }#T_fe20c_row5_col7{\n            background-color:  #4b64d5;\n            color:  #f1f1f1;\n        }#T_fe20c_row5_col9{\n            background-color:  #a1c0ff;\n            color:  #000000;\n        }#T_fe20c_row5_col10{\n            background-color:  #f6bda2;\n            color:  #000000;\n        }#T_fe20c_row5_col11{\n            background-color:  #e7745b;\n            color:  #000000;\n        }#T_fe20c_row5_col12{\n            background-color:  #f7af91;\n            color:  #000000;\n        }#T_fe20c_row5_col13{\n            background-color:  #4f69d9;\n            color:  #000000;\n        }#T_fe20c_row6_col1{\n            background-color:  #5875e1;\n            color:  #000000;\n        }#T_fe20c_row6_col2,#T_fe20c_row10_col7{\n            background-color:  #7396f5;\n            color:  #000000;\n        }#T_fe20c_row6_col3,#T_fe20c_row9_col10,#T_fe20c_row11_col9{\n            background-color:  #4c66d6;\n            color:  #000000;\n        }#T_fe20c_row6_col4,#T_fe20c_row9_col4{\n            background-color:  #b3cdfb;\n            color:  #000000;\n        }#T_fe20c_row6_col5{\n            background-color:  #d0473d;\n            color:  #f1f1f1;\n        }#T_fe20c_row6_col7,#T_fe20c_row6_col13,#T_fe20c_row7_col4,#T_fe20c_row10_col1,#T_fe20c_row10_col2,#T_fe20c_row10_col9,#T_fe20c_row12_col3,#T_fe20c_row13_col0,#T_fe20c_row13_col5,#T_fe20c_row13_col6,#T_fe20c_row13_col8,#T_fe20c_row13_col10,#T_fe20c_row13_col11,#T_fe20c_row13_col12{\n            background-color:  #3b4cc0;\n            color:  #f1f1f1;\n        }#T_fe20c_row6_col8{\n            background-color:  #f29274;\n            color:  #000000;\n        }#T_fe20c_row6_col9{\n            background-color:  #85a8fc;\n            color:  #000000;\n        }#T_fe20c_row6_col10{\n            background-color:  #f7a688;\n            color:  #000000;\n        }#T_fe20c_row6_col11{\n            background-color:  #dc5d4a;\n            color:  #000000;\n        }#T_fe20c_row6_col12{\n            background-color:  #f7b093;\n            color:  #000000;\n        }#T_fe20c_row7_col0{\n            background-color:  #6384eb;\n            color:  #000000;\n        }#T_fe20c_row7_col1,#T_fe20c_row12_col9{\n            background-color:  #e9d5cb;\n            color:  #000000;\n        }#T_fe20c_row7_col2{\n            background-color:  #8badfd;\n            color:  #000000;\n        }#T_fe20c_row7_col3{\n            background-color:  #ead4c8;\n            color:  #000000;\n        }#T_fe20c_row7_col5,#T_fe20c_row7_col11{\n            background-color:  #6c8ff1;\n            color:  #000000;\n        }#T_fe20c_row7_col6{\n            background-color:  #6f92f3;\n            color:  #000000;\n        }#T_fe20c_row7_col8{\n            background-color:  #5572df;\n            color:  #000000;\n        }#T_fe20c_row7_col9{\n            background-color:  #cbd8ee;\n            color:  #000000;\n        }#T_fe20c_row7_col12{\n            background-color:  #7a9df8;\n            color:  #000000;\n        }#T_fe20c_row7_col13,#T_fe20c_row12_col6{\n            background-color:  #f6a385;\n            color:  #000000;\n        }#T_fe20c_row8_col0{\n            background-color:  #afcafc;\n            color:  #000000;\n        }#T_fe20c_row8_col1{\n            background-color:  #81a4fb;\n            color:  #000000;\n        }#T_fe20c_row8_col2{\n            background-color:  #536edd;\n            color:  #000000;\n        }#T_fe20c_row8_col3{\n            background-color:  #7093f3;\n            color:  #000000;\n        }#T_fe20c_row8_col4{\n            background-color:  #bed2f6;\n            color:  #000000;\n        }#T_fe20c_row8_col5{\n            background-color:  #f18f71;\n            color:  #000000;\n        }#T_fe20c_row8_col6{\n            background-color:  #ec7f63;\n            color:  #000000;\n        }#T_fe20c_row8_col7{\n            background-color:  #5d7ce6;\n            color:  #000000;\n        }#T_fe20c_row8_col11,#T_fe20c_row11_col10,#T_fe20c_row12_col0{\n            background-color:  #f5a081;\n            color:  #000000;\n        }#T_fe20c_row8_col12{\n            background-color:  #f1cdba;\n            color:  #000000;\n        }#T_fe20c_row9_col0{\n            background-color:  #f7ba9f;\n            color:  #000000;\n        }#T_fe20c_row9_col1,#T_fe20c_row12_col4,#T_fe20c_row13_col9{\n            background-color:  #e1dad6;\n            color:  #000000;\n        }#T_fe20c_row9_col2{\n            background-color:  #a2c1ff;\n            color:  #000000;\n        }#T_fe20c_row9_col5{\n            background-color:  #bbd1f8;\n            color:  #000000;\n        }#T_fe20c_row9_col6{\n            background-color:  #b5cdfa;\n            color:  #000000;\n        }#T_fe20c_row9_col7{\n            background-color:  #ccd9ed;\n            color:  #000000;\n        }#T_fe20c_row9_col8{\n            background-color:  #a3c2fe;\n            color:  #000000;\n        }#T_fe20c_row9_col12,#T_fe20c_row11_col12{\n            background-color:  #efcfbf;\n            color:  #000000;\n        }#T_fe20c_row9_col13{\n            background-color:  #f2cab5;\n            color:  #000000;\n        }#T_fe20c_row10_col0{\n            background-color:  #799cf8;\n            color:  #000000;\n        }#T_fe20c_row10_col3,#T_fe20c_row11_col3,#T_fe20c_row12_col13{\n            background-color:  #5e7de7;\n            color:  #000000;\n        }#T_fe20c_row10_col5{\n            background-color:  #f7b79b;\n            color:  #000000;\n        }#T_fe20c_row10_col6{\n            background-color:  #f4987a;\n            color:  #000000;\n        }#T_fe20c_row10_col8,#T_fe20c_row12_col10{\n            background-color:  #e4d9d2;\n            color:  #000000;\n        }#T_fe20c_row10_col11{\n            background-color:  #f39778;\n            color:  #000000;\n        }#T_fe20c_row10_col12{\n            background-color:  #e5d8d1;\n            color:  #000000;\n        }#T_fe20c_row10_col13,#T_fe20c_row11_col1{\n            background-color:  #6180e9;\n            color:  #000000;\n        }#T_fe20c_row11_col0{\n            background-color:  #9fbfff;\n            color:  #000000;\n        }#T_fe20c_row11_col2{\n            background-color:  #506bda;\n            color:  #000000;\n        }#T_fe20c_row11_col4{\n            background-color:  #8fb1fe;\n            color:  #000000;\n        }#T_fe20c_row11_col5{\n            background-color:  #e9785d;\n            color:  #000000;\n        }#T_fe20c_row11_col6{\n            background-color:  #da5a49;\n            color:  #000000;\n        }#T_fe20c_row11_col7,#T_fe20c_row13_col2{\n            background-color:  #4055c8;\n            color:  #f1f1f1;\n        }#T_fe20c_row11_col8{\n            background-color:  #f7b497;\n            color:  #000000;\n        }#T_fe20c_row12_col5{\n            background-color:  #f7a98b;\n            color:  #000000;\n        }#T_fe20c_row12_col8{\n            background-color:  #ead5c9;\n            color:  #000000;\n        }#T_fe20c_row13_col1{\n            background-color:  #f5c0a7;\n            color:  #000000;\n        }#T_fe20c_row13_col3,#T_fe20c_row13_col7{\n            background-color:  #f7b89c;\n            color:  #000000;\n        }#T_fe20c_row13_col4{\n            background-color:  #455cce;\n            color:  #f1f1f1;\n        }</style><table id=\"T_fe20c_\" ><thead>    <tr>        <th class=\"blank level0\" ></th>        <th class=\"col_heading level0 col0\" >alcohol</th>        <th class=\"col_heading level0 col1\" >malic_acid</th>        <th class=\"col_heading level0 col2\" >ash</th>        <th class=\"col_heading level0 col3\" >alcalinity_of_ash</th>        <th class=\"col_heading level0 col4\" >magnesium</th>        <th class=\"col_heading level0 col5\" >total_phenols</th>        <th class=\"col_heading level0 col6\" >flavanoids</th>        <th class=\"col_heading level0 col7\" >nonflavanoid_phenols</th>        <th class=\"col_heading level0 col8\" >proanthocyanins</th>        <th class=\"col_heading level0 col9\" >color_intensity</th>        <th class=\"col_heading level0 col10\" >hue</th>        <th class=\"col_heading level0 col11\" >od280/od315_of_diluted_wines</th>        <th class=\"col_heading level0 col12\" >proline</th>        <th class=\"col_heading level0 col13\" >target</th>    </tr></thead><tbody>\n                <tr>\n                        <th id=\"T_fe20c_level0_row0\" class=\"row_heading level0 row0\" >alcohol</th>\n                        <td id=\"T_fe20c_row0_col0\" class=\"data row0 col0\" >1.000000</td>\n                        <td id=\"T_fe20c_row0_col1\" class=\"data row0 col1\" >0.094397</td>\n                        <td id=\"T_fe20c_row0_col2\" class=\"data row0 col2\" >0.211545</td>\n                        <td id=\"T_fe20c_row0_col3\" class=\"data row0 col3\" >-0.310235</td>\n                        <td id=\"T_fe20c_row0_col4\" class=\"data row0 col4\" >0.270798</td>\n                        <td id=\"T_fe20c_row0_col5\" class=\"data row0 col5\" >0.289101</td>\n                        <td id=\"T_fe20c_row0_col6\" class=\"data row0 col6\" >0.236815</td>\n                        <td id=\"T_fe20c_row0_col7\" class=\"data row0 col7\" >-0.155929</td>\n                        <td id=\"T_fe20c_row0_col8\" class=\"data row0 col8\" >0.136698</td>\n                        <td id=\"T_fe20c_row0_col9\" class=\"data row0 col9\" >0.546364</td>\n                        <td id=\"T_fe20c_row0_col10\" class=\"data row0 col10\" >-0.071747</td>\n                        <td id=\"T_fe20c_row0_col11\" class=\"data row0 col11\" >0.072343</td>\n                        <td id=\"T_fe20c_row0_col12\" class=\"data row0 col12\" >0.643720</td>\n                        <td id=\"T_fe20c_row0_col13\" class=\"data row0 col13\" >-0.328222</td>\n            </tr>\n            <tr>\n                        <th id=\"T_fe20c_level0_row1\" class=\"row_heading level0 row1\" >malic_acid</th>\n                        <td id=\"T_fe20c_row1_col0\" class=\"data row1 col0\" >0.094397</td>\n                        <td id=\"T_fe20c_row1_col1\" class=\"data row1 col1\" >1.000000</td>\n                        <td id=\"T_fe20c_row1_col2\" class=\"data row1 col2\" >0.164045</td>\n                        <td id=\"T_fe20c_row1_col3\" class=\"data row1 col3\" >0.288500</td>\n                        <td id=\"T_fe20c_row1_col4\" class=\"data row1 col4\" >-0.054575</td>\n                        <td id=\"T_fe20c_row1_col5\" class=\"data row1 col5\" >-0.335167</td>\n                        <td id=\"T_fe20c_row1_col6\" class=\"data row1 col6\" >-0.411007</td>\n                        <td id=\"T_fe20c_row1_col7\" class=\"data row1 col7\" >0.292977</td>\n                        <td id=\"T_fe20c_row1_col8\" class=\"data row1 col8\" >-0.220746</td>\n                        <td id=\"T_fe20c_row1_col9\" class=\"data row1 col9\" >0.248985</td>\n                        <td id=\"T_fe20c_row1_col10\" class=\"data row1 col10\" >-0.561296</td>\n                        <td id=\"T_fe20c_row1_col11\" class=\"data row1 col11\" >-0.368710</td>\n                        <td id=\"T_fe20c_row1_col12\" class=\"data row1 col12\" >-0.192011</td>\n                        <td id=\"T_fe20c_row1_col13\" class=\"data row1 col13\" >0.437776</td>\n            </tr>\n            <tr>\n                        <th id=\"T_fe20c_level0_row2\" class=\"row_heading level0 row2\" >ash</th>\n                        <td id=\"T_fe20c_row2_col0\" class=\"data row2 col0\" >0.211545</td>\n                        <td id=\"T_fe20c_row2_col1\" class=\"data row2 col1\" >0.164045</td>\n                        <td id=\"T_fe20c_row2_col2\" class=\"data row2 col2\" >1.000000</td>\n                        <td id=\"T_fe20c_row2_col3\" class=\"data row2 col3\" >0.443367</td>\n                        <td id=\"T_fe20c_row2_col4\" class=\"data row2 col4\" >0.286587</td>\n                        <td id=\"T_fe20c_row2_col5\" class=\"data row2 col5\" >0.128980</td>\n                        <td id=\"T_fe20c_row2_col6\" class=\"data row2 col6\" >0.115077</td>\n                        <td id=\"T_fe20c_row2_col7\" class=\"data row2 col7\" >0.186230</td>\n                        <td id=\"T_fe20c_row2_col8\" class=\"data row2 col8\" >0.009652</td>\n                        <td id=\"T_fe20c_row2_col9\" class=\"data row2 col9\" >0.258887</td>\n                        <td id=\"T_fe20c_row2_col10\" class=\"data row2 col10\" >-0.074667</td>\n                        <td id=\"T_fe20c_row2_col11\" class=\"data row2 col11\" >0.003911</td>\n                        <td id=\"T_fe20c_row2_col12\" class=\"data row2 col12\" >0.223626</td>\n                        <td id=\"T_fe20c_row2_col13\" class=\"data row2 col13\" >-0.049643</td>\n            </tr>\n            <tr>\n                        <th id=\"T_fe20c_level0_row3\" class=\"row_heading level0 row3\" >alcalinity_of_ash</th>\n                        <td id=\"T_fe20c_row3_col0\" class=\"data row3 col0\" >-0.310235</td>\n                        <td id=\"T_fe20c_row3_col1\" class=\"data row3 col1\" >0.288500</td>\n                        <td id=\"T_fe20c_row3_col2\" class=\"data row3 col2\" >0.443367</td>\n                        <td id=\"T_fe20c_row3_col3\" class=\"data row3 col3\" >1.000000</td>\n                        <td id=\"T_fe20c_row3_col4\" class=\"data row3 col4\" >-0.083333</td>\n                        <td id=\"T_fe20c_row3_col5\" class=\"data row3 col5\" >-0.321113</td>\n                        <td id=\"T_fe20c_row3_col6\" class=\"data row3 col6\" >-0.351370</td>\n                        <td id=\"T_fe20c_row3_col7\" class=\"data row3 col7\" >0.361922</td>\n                        <td id=\"T_fe20c_row3_col8\" class=\"data row3 col8\" >-0.197327</td>\n                        <td id=\"T_fe20c_row3_col9\" class=\"data row3 col9\" >0.018732</td>\n                        <td id=\"T_fe20c_row3_col10\" class=\"data row3 col10\" >-0.273955</td>\n                        <td id=\"T_fe20c_row3_col11\" class=\"data row3 col11\" >-0.276769</td>\n                        <td id=\"T_fe20c_row3_col12\" class=\"data row3 col12\" >-0.440597</td>\n                        <td id=\"T_fe20c_row3_col13\" class=\"data row3 col13\" >0.517859</td>\n            </tr>\n            <tr>\n                        <th id=\"T_fe20c_level0_row4\" class=\"row_heading level0 row4\" >magnesium</th>\n                        <td id=\"T_fe20c_row4_col0\" class=\"data row4 col0\" >0.270798</td>\n                        <td id=\"T_fe20c_row4_col1\" class=\"data row4 col1\" >-0.054575</td>\n                        <td id=\"T_fe20c_row4_col2\" class=\"data row4 col2\" >0.286587</td>\n                        <td id=\"T_fe20c_row4_col3\" class=\"data row4 col3\" >-0.083333</td>\n                        <td id=\"T_fe20c_row4_col4\" class=\"data row4 col4\" >1.000000</td>\n                        <td id=\"T_fe20c_row4_col5\" class=\"data row4 col5\" >0.214401</td>\n                        <td id=\"T_fe20c_row4_col6\" class=\"data row4 col6\" >0.195784</td>\n                        <td id=\"T_fe20c_row4_col7\" class=\"data row4 col7\" >-0.256294</td>\n                        <td id=\"T_fe20c_row4_col8\" class=\"data row4 col8\" >0.236441</td>\n                        <td id=\"T_fe20c_row4_col9\" class=\"data row4 col9\" >0.199950</td>\n                        <td id=\"T_fe20c_row4_col10\" class=\"data row4 col10\" >0.055398</td>\n                        <td id=\"T_fe20c_row4_col11\" class=\"data row4 col11\" >0.066004</td>\n                        <td id=\"T_fe20c_row4_col12\" class=\"data row4 col12\" >0.393351</td>\n                        <td id=\"T_fe20c_row4_col13\" class=\"data row4 col13\" >-0.209179</td>\n            </tr>\n            <tr>\n                        <th id=\"T_fe20c_level0_row5\" class=\"row_heading level0 row5\" >total_phenols</th>\n                        <td id=\"T_fe20c_row5_col0\" class=\"data row5 col0\" >0.289101</td>\n                        <td id=\"T_fe20c_row5_col1\" class=\"data row5 col1\" >-0.335167</td>\n                        <td id=\"T_fe20c_row5_col2\" class=\"data row5 col2\" >0.128980</td>\n                        <td id=\"T_fe20c_row5_col3\" class=\"data row5 col3\" >-0.321113</td>\n                        <td id=\"T_fe20c_row5_col4\" class=\"data row5 col4\" >0.214401</td>\n                        <td id=\"T_fe20c_row5_col5\" class=\"data row5 col5\" >1.000000</td>\n                        <td id=\"T_fe20c_row5_col6\" class=\"data row5 col6\" >0.864564</td>\n                        <td id=\"T_fe20c_row5_col7\" class=\"data row5 col7\" >-0.449935</td>\n                        <td id=\"T_fe20c_row5_col8\" class=\"data row5 col8\" >0.612413</td>\n                        <td id=\"T_fe20c_row5_col9\" class=\"data row5 col9\" >-0.055136</td>\n                        <td id=\"T_fe20c_row5_col10\" class=\"data row5 col10\" >0.433681</td>\n                        <td id=\"T_fe20c_row5_col11\" class=\"data row5 col11\" >0.699949</td>\n                        <td id=\"T_fe20c_row5_col12\" class=\"data row5 col12\" >0.498115</td>\n                        <td id=\"T_fe20c_row5_col13\" class=\"data row5 col13\" >-0.719163</td>\n            </tr>\n            <tr>\n                        <th id=\"T_fe20c_level0_row6\" class=\"row_heading level0 row6\" >flavanoids</th>\n                        <td id=\"T_fe20c_row6_col0\" class=\"data row6 col0\" >0.236815</td>\n                        <td id=\"T_fe20c_row6_col1\" class=\"data row6 col1\" >-0.411007</td>\n                        <td id=\"T_fe20c_row6_col2\" class=\"data row6 col2\" >0.115077</td>\n                        <td id=\"T_fe20c_row6_col3\" class=\"data row6 col3\" >-0.351370</td>\n                        <td id=\"T_fe20c_row6_col4\" class=\"data row6 col4\" >0.195784</td>\n                        <td id=\"T_fe20c_row6_col5\" class=\"data row6 col5\" >0.864564</td>\n                        <td id=\"T_fe20c_row6_col6\" class=\"data row6 col6\" >1.000000</td>\n                        <td id=\"T_fe20c_row6_col7\" class=\"data row6 col7\" >-0.537900</td>\n                        <td id=\"T_fe20c_row6_col8\" class=\"data row6 col8\" >0.652692</td>\n                        <td id=\"T_fe20c_row6_col9\" class=\"data row6 col9\" >-0.172379</td>\n                        <td id=\"T_fe20c_row6_col10\" class=\"data row6 col10\" >0.543479</td>\n                        <td id=\"T_fe20c_row6_col11\" class=\"data row6 col11\" >0.787194</td>\n                        <td id=\"T_fe20c_row6_col12\" class=\"data row6 col12\" >0.494193</td>\n                        <td id=\"T_fe20c_row6_col13\" class=\"data row6 col13\" >-0.847498</td>\n            </tr>\n            <tr>\n                        <th id=\"T_fe20c_level0_row7\" class=\"row_heading level0 row7\" >nonflavanoid_phenols</th>\n                        <td id=\"T_fe20c_row7_col0\" class=\"data row7 col0\" >-0.155929</td>\n                        <td id=\"T_fe20c_row7_col1\" class=\"data row7 col1\" >0.292977</td>\n                        <td id=\"T_fe20c_row7_col2\" class=\"data row7 col2\" >0.186230</td>\n                        <td id=\"T_fe20c_row7_col3\" class=\"data row7 col3\" >0.361922</td>\n                        <td id=\"T_fe20c_row7_col4\" class=\"data row7 col4\" >-0.256294</td>\n                        <td id=\"T_fe20c_row7_col5\" class=\"data row7 col5\" >-0.449935</td>\n                        <td id=\"T_fe20c_row7_col6\" class=\"data row7 col6\" >-0.537900</td>\n                        <td id=\"T_fe20c_row7_col7\" class=\"data row7 col7\" >1.000000</td>\n                        <td id=\"T_fe20c_row7_col8\" class=\"data row7 col8\" >-0.365845</td>\n                        <td id=\"T_fe20c_row7_col9\" class=\"data row7 col9\" >0.139057</td>\n                        <td id=\"T_fe20c_row7_col10\" class=\"data row7 col10\" >-0.262640</td>\n                        <td id=\"T_fe20c_row7_col11\" class=\"data row7 col11\" >-0.503270</td>\n                        <td id=\"T_fe20c_row7_col12\" class=\"data row7 col12\" >-0.311385</td>\n                        <td id=\"T_fe20c_row7_col13\" class=\"data row7 col13\" >0.489109</td>\n            </tr>\n            <tr>\n                        <th id=\"T_fe20c_level0_row8\" class=\"row_heading level0 row8\" >proanthocyanins</th>\n                        <td id=\"T_fe20c_row8_col0\" class=\"data row8 col0\" >0.136698</td>\n                        <td id=\"T_fe20c_row8_col1\" class=\"data row8 col1\" >-0.220746</td>\n                        <td id=\"T_fe20c_row8_col2\" class=\"data row8 col2\" >0.009652</td>\n                        <td id=\"T_fe20c_row8_col3\" class=\"data row8 col3\" >-0.197327</td>\n                        <td id=\"T_fe20c_row8_col4\" class=\"data row8 col4\" >0.236441</td>\n                        <td id=\"T_fe20c_row8_col5\" class=\"data row8 col5\" >0.612413</td>\n                        <td id=\"T_fe20c_row8_col6\" class=\"data row8 col6\" >0.652692</td>\n                        <td id=\"T_fe20c_row8_col7\" class=\"data row8 col7\" >-0.365845</td>\n                        <td id=\"T_fe20c_row8_col8\" class=\"data row8 col8\" >1.000000</td>\n                        <td id=\"T_fe20c_row8_col9\" class=\"data row8 col9\" >-0.025250</td>\n                        <td id=\"T_fe20c_row8_col10\" class=\"data row8 col10\" >0.295544</td>\n                        <td id=\"T_fe20c_row8_col11\" class=\"data row8 col11\" >0.519067</td>\n                        <td id=\"T_fe20c_row8_col12\" class=\"data row8 col12\" >0.330417</td>\n                        <td id=\"T_fe20c_row8_col13\" class=\"data row8 col13\" >-0.499130</td>\n            </tr>\n            <tr>\n                        <th id=\"T_fe20c_level0_row9\" class=\"row_heading level0 row9\" >color_intensity</th>\n                        <td id=\"T_fe20c_row9_col0\" class=\"data row9 col0\" >0.546364</td>\n                        <td id=\"T_fe20c_row9_col1\" class=\"data row9 col1\" >0.248985</td>\n                        <td id=\"T_fe20c_row9_col2\" class=\"data row9 col2\" >0.258887</td>\n                        <td id=\"T_fe20c_row9_col3\" class=\"data row9 col3\" >0.018732</td>\n                        <td id=\"T_fe20c_row9_col4\" class=\"data row9 col4\" >0.199950</td>\n                        <td id=\"T_fe20c_row9_col5\" class=\"data row9 col5\" >-0.055136</td>\n                        <td id=\"T_fe20c_row9_col6\" class=\"data row9 col6\" >-0.172379</td>\n                        <td id=\"T_fe20c_row9_col7\" class=\"data row9 col7\" >0.139057</td>\n                        <td id=\"T_fe20c_row9_col8\" class=\"data row9 col8\" >-0.025250</td>\n                        <td id=\"T_fe20c_row9_col9\" class=\"data row9 col9\" >1.000000</td>\n                        <td id=\"T_fe20c_row9_col10\" class=\"data row9 col10\" >-0.521813</td>\n                        <td id=\"T_fe20c_row9_col11\" class=\"data row9 col11\" >-0.428815</td>\n                        <td id=\"T_fe20c_row9_col12\" class=\"data row9 col12\" >0.316100</td>\n                        <td id=\"T_fe20c_row9_col13\" class=\"data row9 col13\" >0.265668</td>\n            </tr>\n            <tr>\n                        <th id=\"T_fe20c_level0_row10\" class=\"row_heading level0 row10\" >hue</th>\n                        <td id=\"T_fe20c_row10_col0\" class=\"data row10 col0\" >-0.071747</td>\n                        <td id=\"T_fe20c_row10_col1\" class=\"data row10 col1\" >-0.561296</td>\n                        <td id=\"T_fe20c_row10_col2\" class=\"data row10 col2\" >-0.074667</td>\n                        <td id=\"T_fe20c_row10_col3\" class=\"data row10 col3\" >-0.273955</td>\n                        <td id=\"T_fe20c_row10_col4\" class=\"data row10 col4\" >0.055398</td>\n                        <td id=\"T_fe20c_row10_col5\" class=\"data row10 col5\" >0.433681</td>\n                        <td id=\"T_fe20c_row10_col6\" class=\"data row10 col6\" >0.543479</td>\n                        <td id=\"T_fe20c_row10_col7\" class=\"data row10 col7\" >-0.262640</td>\n                        <td id=\"T_fe20c_row10_col8\" class=\"data row10 col8\" >0.295544</td>\n                        <td id=\"T_fe20c_row10_col9\" class=\"data row10 col9\" >-0.521813</td>\n                        <td id=\"T_fe20c_row10_col10\" class=\"data row10 col10\" >1.000000</td>\n                        <td id=\"T_fe20c_row10_col11\" class=\"data row10 col11\" >0.565468</td>\n                        <td id=\"T_fe20c_row10_col12\" class=\"data row10 col12\" >0.236183</td>\n                        <td id=\"T_fe20c_row10_col13\" class=\"data row10 col13\" >-0.617369</td>\n            </tr>\n            <tr>\n                        <th id=\"T_fe20c_level0_row11\" class=\"row_heading level0 row11\" >od280/od315_of_diluted_wines</th>\n                        <td id=\"T_fe20c_row11_col0\" class=\"data row11 col0\" >0.072343</td>\n                        <td id=\"T_fe20c_row11_col1\" class=\"data row11 col1\" >-0.368710</td>\n                        <td id=\"T_fe20c_row11_col2\" class=\"data row11 col2\" >0.003911</td>\n                        <td id=\"T_fe20c_row11_col3\" class=\"data row11 col3\" >-0.276769</td>\n                        <td id=\"T_fe20c_row11_col4\" class=\"data row11 col4\" >0.066004</td>\n                        <td id=\"T_fe20c_row11_col5\" class=\"data row11 col5\" >0.699949</td>\n                        <td id=\"T_fe20c_row11_col6\" class=\"data row11 col6\" >0.787194</td>\n                        <td id=\"T_fe20c_row11_col7\" class=\"data row11 col7\" >-0.503270</td>\n                        <td id=\"T_fe20c_row11_col8\" class=\"data row11 col8\" >0.519067</td>\n                        <td id=\"T_fe20c_row11_col9\" class=\"data row11 col9\" >-0.428815</td>\n                        <td id=\"T_fe20c_row11_col10\" class=\"data row11 col10\" >0.565468</td>\n                        <td id=\"T_fe20c_row11_col11\" class=\"data row11 col11\" >1.000000</td>\n                        <td id=\"T_fe20c_row11_col12\" class=\"data row11 col12\" >0.312761</td>\n                        <td id=\"T_fe20c_row11_col13\" class=\"data row11 col13\" >-0.788230</td>\n            </tr>\n            <tr>\n                        <th id=\"T_fe20c_level0_row12\" class=\"row_heading level0 row12\" >proline</th>\n                        <td id=\"T_fe20c_row12_col0\" class=\"data row12 col0\" >0.643720</td>\n                        <td id=\"T_fe20c_row12_col1\" class=\"data row12 col1\" >-0.192011</td>\n                        <td id=\"T_fe20c_row12_col2\" class=\"data row12 col2\" >0.223626</td>\n                        <td id=\"T_fe20c_row12_col3\" class=\"data row12 col3\" >-0.440597</td>\n                        <td id=\"T_fe20c_row12_col4\" class=\"data row12 col4\" >0.393351</td>\n                        <td id=\"T_fe20c_row12_col5\" class=\"data row12 col5\" >0.498115</td>\n                        <td id=\"T_fe20c_row12_col6\" class=\"data row12 col6\" >0.494193</td>\n                        <td id=\"T_fe20c_row12_col7\" class=\"data row12 col7\" >-0.311385</td>\n                        <td id=\"T_fe20c_row12_col8\" class=\"data row12 col8\" >0.330417</td>\n                        <td id=\"T_fe20c_row12_col9\" class=\"data row12 col9\" >0.316100</td>\n                        <td id=\"T_fe20c_row12_col10\" class=\"data row12 col10\" >0.236183</td>\n                        <td id=\"T_fe20c_row12_col11\" class=\"data row12 col11\" >0.312761</td>\n                        <td id=\"T_fe20c_row12_col12\" class=\"data row12 col12\" >1.000000</td>\n                        <td id=\"T_fe20c_row12_col13\" class=\"data row12 col13\" >-0.633717</td>\n            </tr>\n            <tr>\n                        <th id=\"T_fe20c_level0_row13\" class=\"row_heading level0 row13\" >target</th>\n                        <td id=\"T_fe20c_row13_col0\" class=\"data row13 col0\" >-0.328222</td>\n                        <td id=\"T_fe20c_row13_col1\" class=\"data row13 col1\" >0.437776</td>\n                        <td id=\"T_fe20c_row13_col2\" class=\"data row13 col2\" >-0.049643</td>\n                        <td id=\"T_fe20c_row13_col3\" class=\"data row13 col3\" >0.517859</td>\n                        <td id=\"T_fe20c_row13_col4\" class=\"data row13 col4\" >-0.209179</td>\n                        <td id=\"T_fe20c_row13_col5\" class=\"data row13 col5\" >-0.719163</td>\n                        <td id=\"T_fe20c_row13_col6\" class=\"data row13 col6\" >-0.847498</td>\n                        <td id=\"T_fe20c_row13_col7\" class=\"data row13 col7\" >0.489109</td>\n                        <td id=\"T_fe20c_row13_col8\" class=\"data row13 col8\" >-0.499130</td>\n                        <td id=\"T_fe20c_row13_col9\" class=\"data row13 col9\" >0.265668</td>\n                        <td id=\"T_fe20c_row13_col10\" class=\"data row13 col10\" >-0.617369</td>\n                        <td id=\"T_fe20c_row13_col11\" class=\"data row13 col11\" >-0.788230</td>\n                        <td id=\"T_fe20c_row13_col12\" class=\"data row13 col12\" >-0.633717</td>\n                        <td id=\"T_fe20c_row13_col13\" class=\"data row13 col13\" >1.000000</td>\n            </tr>\n    </tbody></table>"
     },
     "execution_count": 31,
     "metadata": {},
     "output_type": "execute_result"
    }
   ],
   "source": [
    "# seaborn не подключал, думаю это не сильно принципиально\n",
    "X_corr = X.corr()\n",
    "X_corr.style.background_gradient(cmap='coolwarm')"
   ],
   "metadata": {
    "collapsed": false,
    "pycharm": {
     "name": "#%%\n"
    }
   }
  },
  {
   "cell_type": "markdown",
   "source": [
    "#### Создайте список high_corr из признаков, корреляция которых с полем target по абсолютному значению превышает 0.5 (причем, само поле target не должно входить в этот список)\n"
   ],
   "metadata": {
    "collapsed": false
   }
  },
  {
   "cell_type": "code",
   "execution_count": 32,
   "outputs": [
    {
     "data": {
      "text/plain": "                               alcohol  malic_acid  ash  alcalinity_of_ash  \\\nalcohol                       1.000000         NaN  NaN                NaN   \nmalic_acid                         NaN    1.000000  NaN                NaN   \nash                                NaN         NaN  1.0                NaN   \nalcalinity_of_ash                  NaN         NaN  NaN                1.0   \nmagnesium                          NaN         NaN  NaN                NaN   \ntotal_phenols                      NaN         NaN  NaN                NaN   \nflavanoids                         NaN         NaN  NaN                NaN   \nnonflavanoid_phenols               NaN         NaN  NaN                NaN   \nproanthocyanins                    NaN         NaN  NaN                NaN   \ncolor_intensity               0.546364         NaN  NaN                NaN   \nhue                                NaN   -0.561296  NaN                NaN   \nod280/od315_of_diluted_wines       NaN         NaN  NaN                NaN   \nproline                       0.643720         NaN  NaN                NaN   \n\n                              magnesium  total_phenols  flavanoids  \\\nalcohol                             NaN            NaN         NaN   \nmalic_acid                          NaN            NaN         NaN   \nash                                 NaN            NaN         NaN   \nalcalinity_of_ash                   NaN            NaN         NaN   \nmagnesium                           1.0            NaN         NaN   \ntotal_phenols                       NaN       1.000000    0.864564   \nflavanoids                          NaN       0.864564    1.000000   \nnonflavanoid_phenols                NaN            NaN   -0.537900   \nproanthocyanins                     NaN       0.612413    0.652692   \ncolor_intensity                     NaN            NaN         NaN   \nhue                                 NaN            NaN    0.543479   \nod280/od315_of_diluted_wines        NaN       0.699949    0.787194   \nproline                             NaN            NaN         NaN   \n\n                              nonflavanoid_phenols  proanthocyanins  \\\nalcohol                                        NaN              NaN   \nmalic_acid                                     NaN              NaN   \nash                                            NaN              NaN   \nalcalinity_of_ash                              NaN              NaN   \nmagnesium                                      NaN              NaN   \ntotal_phenols                                  NaN         0.612413   \nflavanoids                                -0.53790         0.652692   \nnonflavanoid_phenols                       1.00000              NaN   \nproanthocyanins                                NaN         1.000000   \ncolor_intensity                                NaN              NaN   \nhue                                            NaN              NaN   \nod280/od315_of_diluted_wines              -0.50327         0.519067   \nproline                                        NaN              NaN   \n\n                              color_intensity       hue  \\\nalcohol                              0.546364       NaN   \nmalic_acid                                NaN -0.561296   \nash                                       NaN       NaN   \nalcalinity_of_ash                         NaN       NaN   \nmagnesium                                 NaN       NaN   \ntotal_phenols                             NaN       NaN   \nflavanoids                                NaN  0.543479   \nnonflavanoid_phenols                      NaN       NaN   \nproanthocyanins                           NaN       NaN   \ncolor_intensity                      1.000000 -0.521813   \nhue                                 -0.521813  1.000000   \nod280/od315_of_diluted_wines              NaN  0.565468   \nproline                                   NaN       NaN   \n\n                              od280/od315_of_diluted_wines  proline  \nalcohol                                                NaN  0.64372  \nmalic_acid                                             NaN      NaN  \nash                                                    NaN      NaN  \nalcalinity_of_ash                                      NaN      NaN  \nmagnesium                                              NaN      NaN  \ntotal_phenols                                     0.699949      NaN  \nflavanoids                                        0.787194      NaN  \nnonflavanoid_phenols                             -0.503270      NaN  \nproanthocyanins                                   0.519067      NaN  \ncolor_intensity                                        NaN      NaN  \nhue                                               0.565468      NaN  \nod280/od315_of_diluted_wines                      1.000000      NaN  \nproline                                                NaN  1.00000  ",
      "text/html": "<div>\n<style scoped>\n    .dataframe tbody tr th:only-of-type {\n        vertical-align: middle;\n    }\n\n    .dataframe tbody tr th {\n        vertical-align: top;\n    }\n\n    .dataframe thead th {\n        text-align: right;\n    }\n</style>\n<table border=\"1\" class=\"dataframe\">\n  <thead>\n    <tr style=\"text-align: right;\">\n      <th></th>\n      <th>alcohol</th>\n      <th>malic_acid</th>\n      <th>ash</th>\n      <th>alcalinity_of_ash</th>\n      <th>magnesium</th>\n      <th>total_phenols</th>\n      <th>flavanoids</th>\n      <th>nonflavanoid_phenols</th>\n      <th>proanthocyanins</th>\n      <th>color_intensity</th>\n      <th>hue</th>\n      <th>od280/od315_of_diluted_wines</th>\n      <th>proline</th>\n    </tr>\n  </thead>\n  <tbody>\n    <tr>\n      <th>alcohol</th>\n      <td>1.000000</td>\n      <td>NaN</td>\n      <td>NaN</td>\n      <td>NaN</td>\n      <td>NaN</td>\n      <td>NaN</td>\n      <td>NaN</td>\n      <td>NaN</td>\n      <td>NaN</td>\n      <td>0.546364</td>\n      <td>NaN</td>\n      <td>NaN</td>\n      <td>0.64372</td>\n    </tr>\n    <tr>\n      <th>malic_acid</th>\n      <td>NaN</td>\n      <td>1.000000</td>\n      <td>NaN</td>\n      <td>NaN</td>\n      <td>NaN</td>\n      <td>NaN</td>\n      <td>NaN</td>\n      <td>NaN</td>\n      <td>NaN</td>\n      <td>NaN</td>\n      <td>-0.561296</td>\n      <td>NaN</td>\n      <td>NaN</td>\n    </tr>\n    <tr>\n      <th>ash</th>\n      <td>NaN</td>\n      <td>NaN</td>\n      <td>1.0</td>\n      <td>NaN</td>\n      <td>NaN</td>\n      <td>NaN</td>\n      <td>NaN</td>\n      <td>NaN</td>\n      <td>NaN</td>\n      <td>NaN</td>\n      <td>NaN</td>\n      <td>NaN</td>\n      <td>NaN</td>\n    </tr>\n    <tr>\n      <th>alcalinity_of_ash</th>\n      <td>NaN</td>\n      <td>NaN</td>\n      <td>NaN</td>\n      <td>1.0</td>\n      <td>NaN</td>\n      <td>NaN</td>\n      <td>NaN</td>\n      <td>NaN</td>\n      <td>NaN</td>\n      <td>NaN</td>\n      <td>NaN</td>\n      <td>NaN</td>\n      <td>NaN</td>\n    </tr>\n    <tr>\n      <th>magnesium</th>\n      <td>NaN</td>\n      <td>NaN</td>\n      <td>NaN</td>\n      <td>NaN</td>\n      <td>1.0</td>\n      <td>NaN</td>\n      <td>NaN</td>\n      <td>NaN</td>\n      <td>NaN</td>\n      <td>NaN</td>\n      <td>NaN</td>\n      <td>NaN</td>\n      <td>NaN</td>\n    </tr>\n    <tr>\n      <th>total_phenols</th>\n      <td>NaN</td>\n      <td>NaN</td>\n      <td>NaN</td>\n      <td>NaN</td>\n      <td>NaN</td>\n      <td>1.000000</td>\n      <td>0.864564</td>\n      <td>NaN</td>\n      <td>0.612413</td>\n      <td>NaN</td>\n      <td>NaN</td>\n      <td>0.699949</td>\n      <td>NaN</td>\n    </tr>\n    <tr>\n      <th>flavanoids</th>\n      <td>NaN</td>\n      <td>NaN</td>\n      <td>NaN</td>\n      <td>NaN</td>\n      <td>NaN</td>\n      <td>0.864564</td>\n      <td>1.000000</td>\n      <td>-0.53790</td>\n      <td>0.652692</td>\n      <td>NaN</td>\n      <td>0.543479</td>\n      <td>0.787194</td>\n      <td>NaN</td>\n    </tr>\n    <tr>\n      <th>nonflavanoid_phenols</th>\n      <td>NaN</td>\n      <td>NaN</td>\n      <td>NaN</td>\n      <td>NaN</td>\n      <td>NaN</td>\n      <td>NaN</td>\n      <td>-0.537900</td>\n      <td>1.00000</td>\n      <td>NaN</td>\n      <td>NaN</td>\n      <td>NaN</td>\n      <td>-0.503270</td>\n      <td>NaN</td>\n    </tr>\n    <tr>\n      <th>proanthocyanins</th>\n      <td>NaN</td>\n      <td>NaN</td>\n      <td>NaN</td>\n      <td>NaN</td>\n      <td>NaN</td>\n      <td>0.612413</td>\n      <td>0.652692</td>\n      <td>NaN</td>\n      <td>1.000000</td>\n      <td>NaN</td>\n      <td>NaN</td>\n      <td>0.519067</td>\n      <td>NaN</td>\n    </tr>\n    <tr>\n      <th>color_intensity</th>\n      <td>0.546364</td>\n      <td>NaN</td>\n      <td>NaN</td>\n      <td>NaN</td>\n      <td>NaN</td>\n      <td>NaN</td>\n      <td>NaN</td>\n      <td>NaN</td>\n      <td>NaN</td>\n      <td>1.000000</td>\n      <td>-0.521813</td>\n      <td>NaN</td>\n      <td>NaN</td>\n    </tr>\n    <tr>\n      <th>hue</th>\n      <td>NaN</td>\n      <td>-0.561296</td>\n      <td>NaN</td>\n      <td>NaN</td>\n      <td>NaN</td>\n      <td>NaN</td>\n      <td>0.543479</td>\n      <td>NaN</td>\n      <td>NaN</td>\n      <td>-0.521813</td>\n      <td>1.000000</td>\n      <td>0.565468</td>\n      <td>NaN</td>\n    </tr>\n    <tr>\n      <th>od280/od315_of_diluted_wines</th>\n      <td>NaN</td>\n      <td>NaN</td>\n      <td>NaN</td>\n      <td>NaN</td>\n      <td>NaN</td>\n      <td>0.699949</td>\n      <td>0.787194</td>\n      <td>-0.50327</td>\n      <td>0.519067</td>\n      <td>NaN</td>\n      <td>0.565468</td>\n      <td>1.000000</td>\n      <td>NaN</td>\n    </tr>\n    <tr>\n      <th>proline</th>\n      <td>0.643720</td>\n      <td>NaN</td>\n      <td>NaN</td>\n      <td>NaN</td>\n      <td>NaN</td>\n      <td>NaN</td>\n      <td>NaN</td>\n      <td>NaN</td>\n      <td>NaN</td>\n      <td>NaN</td>\n      <td>NaN</td>\n      <td>NaN</td>\n      <td>1.00000</td>\n    </tr>\n  </tbody>\n</table>\n</div>"
     },
     "execution_count": 32,
     "metadata": {},
     "output_type": "execute_result"
    }
   ],
   "source": [
    "high_coor = X_corr[np.abs(X_corr) > 0.5]\n",
    "high_coor = high_coor.drop(['target'], axis=1)\n",
    "high_coor = high_coor.drop(['target'], axis=0)\n",
    "high_coor"
   ],
   "metadata": {
    "collapsed": false,
    "pycharm": {
     "name": "#%%\n"
    }
   }
  },
  {
   "cell_type": "markdown",
   "source": [
    "#### Удалите из датафрейма X поле с целевой переменной. Для всех признаков, названия которых содержатся в списке high_corr, вычислите квадрат их значений и добавьте в датафрейм X соответствующие поля с суффиксом '_2', добавленного к первоначальному названию признака. Итоговый датафрейм должен содержать все поля, которые, были в нем изначально, а также поля с признаками из списка high_corr, возведенными в квадрат. Выведите описание полей датафрейма X с помощью метода describe."
   ],
   "metadata": {
    "collapsed": false
   }
  },
  {
   "cell_type": "code",
   "execution_count": 33,
   "outputs": [
    {
     "data": {
      "text/plain": "          alcohol  malic_acid         ash  alcalinity_of_ash   magnesium  \\\ncount  178.000000  178.000000  178.000000         178.000000  178.000000   \nmean    13.000618    2.336348    2.366517          19.494944   99.741573   \nstd      0.811827    1.117146    0.274344           3.339564   14.282484   \nmin     11.030000    0.740000    1.360000          10.600000   70.000000   \n25%     12.362500    1.602500    2.210000          17.200000   88.000000   \n50%     13.050000    1.865000    2.360000          19.500000   98.000000   \n75%     13.677500    3.082500    2.557500          21.500000  107.000000   \nmax     14.830000    5.800000    3.230000          30.000000  162.000000   \n\n       total_phenols  flavanoids  nonflavanoid_phenols  proanthocyanins  \\\ncount     178.000000  178.000000            178.000000       178.000000   \nmean        2.295112    2.029270              0.361854         1.590899   \nstd         0.625851    0.998859              0.124453         0.572359   \nmin         0.980000    0.340000              0.130000         0.410000   \n25%         1.742500    1.205000              0.270000         1.250000   \n50%         2.355000    2.135000              0.340000         1.555000   \n75%         2.800000    2.875000              0.437500         1.950000   \nmax         3.880000    5.080000              0.660000         3.580000   \n\n       color_intensity         hue  od280/od315_of_diluted_wines      proline  \\\ncount       178.000000  178.000000                    178.000000   178.000000   \nmean          5.058090    0.957449                      2.611685   746.893258   \nstd           2.318286    0.228572                      0.709990   314.907474   \nmin           1.280000    0.480000                      1.270000   278.000000   \n25%           3.220000    0.782500                      1.937500   500.500000   \n50%           4.690000    0.965000                      2.780000   673.500000   \n75%           6.200000    1.120000                      3.170000   985.000000   \nmax          13.000000    1.710000                      4.000000  1680.000000   \n\n       alcohol_2  malic_acid_2      ash_2  alcalinity_of_ash_2  magnesium_2  \\\ncount  13.000000     13.000000  13.000000            13.000000    13.000000   \nmean    0.131761      0.101158   0.076923             0.076923     0.076923   \nstd     0.293701      0.283759   0.277350             0.277350     0.277350   \nmin     0.000000      0.000000   0.000000             0.000000     0.000000   \n25%     0.000000      0.000000   0.000000             0.000000     0.000000   \n50%     0.000000      0.000000   0.000000             0.000000     0.000000   \n75%     0.000000      0.000000   0.000000             0.000000     0.000000   \nmax     1.000000      1.000000   1.000000             1.000000     1.000000   \n\n       total_phenols_2  flavanoids_2  nonflavanoid_phenols_2  \\\ncount        13.000000     13.000000               13.000000   \nmean          0.200958      0.259835                0.118663   \nstd           0.343319      0.343689                0.283551   \nmin           0.000000      0.000000                0.000000   \n25%           0.000000      0.000000                0.000000   \n50%           0.000000      0.000000                0.000000   \n75%           0.375050      0.426007                0.000000   \nmax           1.000000      1.000000                1.000000   \n\n       proanthocyanins_2  color_intensity_2      hue_2  \\\ncount          13.000000          13.000000  13.000000   \nmean            0.159268           0.120831   0.169420   \nstd             0.297906           0.284817   0.287191   \nmin             0.000000           0.000000   0.000000   \n25%             0.000000           0.000000   0.000000   \n50%             0.000000           0.000000   0.000000   \n75%             0.269431           0.000000   0.295369   \nmax             1.000000           1.000000   1.000000   \n\n       od280/od315_of_diluted_wines_2  proline_2  \ncount                       13.000000  13.000000  \nmean                         0.227082   0.108798  \nstd                          0.315258   0.291237  \nmin                          0.000000   0.000000  \n25%                          0.000000   0.000000  \n50%                          0.000000   0.000000  \n75%                          0.319754   0.000000  \nmax                          1.000000   1.000000  ",
      "text/html": "<div>\n<style scoped>\n    .dataframe tbody tr th:only-of-type {\n        vertical-align: middle;\n    }\n\n    .dataframe tbody tr th {\n        vertical-align: top;\n    }\n\n    .dataframe thead th {\n        text-align: right;\n    }\n</style>\n<table border=\"1\" class=\"dataframe\">\n  <thead>\n    <tr style=\"text-align: right;\">\n      <th></th>\n      <th>alcohol</th>\n      <th>malic_acid</th>\n      <th>ash</th>\n      <th>alcalinity_of_ash</th>\n      <th>magnesium</th>\n      <th>total_phenols</th>\n      <th>flavanoids</th>\n      <th>nonflavanoid_phenols</th>\n      <th>proanthocyanins</th>\n      <th>color_intensity</th>\n      <th>hue</th>\n      <th>od280/od315_of_diluted_wines</th>\n      <th>proline</th>\n      <th>alcohol_2</th>\n      <th>malic_acid_2</th>\n      <th>ash_2</th>\n      <th>alcalinity_of_ash_2</th>\n      <th>magnesium_2</th>\n      <th>total_phenols_2</th>\n      <th>flavanoids_2</th>\n      <th>nonflavanoid_phenols_2</th>\n      <th>proanthocyanins_2</th>\n      <th>color_intensity_2</th>\n      <th>hue_2</th>\n      <th>od280/od315_of_diluted_wines_2</th>\n      <th>proline_2</th>\n    </tr>\n  </thead>\n  <tbody>\n    <tr>\n      <th>count</th>\n      <td>178.000000</td>\n      <td>178.000000</td>\n      <td>178.000000</td>\n      <td>178.000000</td>\n      <td>178.000000</td>\n      <td>178.000000</td>\n      <td>178.000000</td>\n      <td>178.000000</td>\n      <td>178.000000</td>\n      <td>178.000000</td>\n      <td>178.000000</td>\n      <td>178.000000</td>\n      <td>178.000000</td>\n      <td>13.000000</td>\n      <td>13.000000</td>\n      <td>13.000000</td>\n      <td>13.000000</td>\n      <td>13.000000</td>\n      <td>13.000000</td>\n      <td>13.000000</td>\n      <td>13.000000</td>\n      <td>13.000000</td>\n      <td>13.000000</td>\n      <td>13.000000</td>\n      <td>13.000000</td>\n      <td>13.000000</td>\n    </tr>\n    <tr>\n      <th>mean</th>\n      <td>13.000618</td>\n      <td>2.336348</td>\n      <td>2.366517</td>\n      <td>19.494944</td>\n      <td>99.741573</td>\n      <td>2.295112</td>\n      <td>2.029270</td>\n      <td>0.361854</td>\n      <td>1.590899</td>\n      <td>5.058090</td>\n      <td>0.957449</td>\n      <td>2.611685</td>\n      <td>746.893258</td>\n      <td>0.131761</td>\n      <td>0.101158</td>\n      <td>0.076923</td>\n      <td>0.076923</td>\n      <td>0.076923</td>\n      <td>0.200958</td>\n      <td>0.259835</td>\n      <td>0.118663</td>\n      <td>0.159268</td>\n      <td>0.120831</td>\n      <td>0.169420</td>\n      <td>0.227082</td>\n      <td>0.108798</td>\n    </tr>\n    <tr>\n      <th>std</th>\n      <td>0.811827</td>\n      <td>1.117146</td>\n      <td>0.274344</td>\n      <td>3.339564</td>\n      <td>14.282484</td>\n      <td>0.625851</td>\n      <td>0.998859</td>\n      <td>0.124453</td>\n      <td>0.572359</td>\n      <td>2.318286</td>\n      <td>0.228572</td>\n      <td>0.709990</td>\n      <td>314.907474</td>\n      <td>0.293701</td>\n      <td>0.283759</td>\n      <td>0.277350</td>\n      <td>0.277350</td>\n      <td>0.277350</td>\n      <td>0.343319</td>\n      <td>0.343689</td>\n      <td>0.283551</td>\n      <td>0.297906</td>\n      <td>0.284817</td>\n      <td>0.287191</td>\n      <td>0.315258</td>\n      <td>0.291237</td>\n    </tr>\n    <tr>\n      <th>min</th>\n      <td>11.030000</td>\n      <td>0.740000</td>\n      <td>1.360000</td>\n      <td>10.600000</td>\n      <td>70.000000</td>\n      <td>0.980000</td>\n      <td>0.340000</td>\n      <td>0.130000</td>\n      <td>0.410000</td>\n      <td>1.280000</td>\n      <td>0.480000</td>\n      <td>1.270000</td>\n      <td>278.000000</td>\n      <td>0.000000</td>\n      <td>0.000000</td>\n      <td>0.000000</td>\n      <td>0.000000</td>\n      <td>0.000000</td>\n      <td>0.000000</td>\n      <td>0.000000</td>\n      <td>0.000000</td>\n      <td>0.000000</td>\n      <td>0.000000</td>\n      <td>0.000000</td>\n      <td>0.000000</td>\n      <td>0.000000</td>\n    </tr>\n    <tr>\n      <th>25%</th>\n      <td>12.362500</td>\n      <td>1.602500</td>\n      <td>2.210000</td>\n      <td>17.200000</td>\n      <td>88.000000</td>\n      <td>1.742500</td>\n      <td>1.205000</td>\n      <td>0.270000</td>\n      <td>1.250000</td>\n      <td>3.220000</td>\n      <td>0.782500</td>\n      <td>1.937500</td>\n      <td>500.500000</td>\n      <td>0.000000</td>\n      <td>0.000000</td>\n      <td>0.000000</td>\n      <td>0.000000</td>\n      <td>0.000000</td>\n      <td>0.000000</td>\n      <td>0.000000</td>\n      <td>0.000000</td>\n      <td>0.000000</td>\n      <td>0.000000</td>\n      <td>0.000000</td>\n      <td>0.000000</td>\n      <td>0.000000</td>\n    </tr>\n    <tr>\n      <th>50%</th>\n      <td>13.050000</td>\n      <td>1.865000</td>\n      <td>2.360000</td>\n      <td>19.500000</td>\n      <td>98.000000</td>\n      <td>2.355000</td>\n      <td>2.135000</td>\n      <td>0.340000</td>\n      <td>1.555000</td>\n      <td>4.690000</td>\n      <td>0.965000</td>\n      <td>2.780000</td>\n      <td>673.500000</td>\n      <td>0.000000</td>\n      <td>0.000000</td>\n      <td>0.000000</td>\n      <td>0.000000</td>\n      <td>0.000000</td>\n      <td>0.000000</td>\n      <td>0.000000</td>\n      <td>0.000000</td>\n      <td>0.000000</td>\n      <td>0.000000</td>\n      <td>0.000000</td>\n      <td>0.000000</td>\n      <td>0.000000</td>\n    </tr>\n    <tr>\n      <th>75%</th>\n      <td>13.677500</td>\n      <td>3.082500</td>\n      <td>2.557500</td>\n      <td>21.500000</td>\n      <td>107.000000</td>\n      <td>2.800000</td>\n      <td>2.875000</td>\n      <td>0.437500</td>\n      <td>1.950000</td>\n      <td>6.200000</td>\n      <td>1.120000</td>\n      <td>3.170000</td>\n      <td>985.000000</td>\n      <td>0.000000</td>\n      <td>0.000000</td>\n      <td>0.000000</td>\n      <td>0.000000</td>\n      <td>0.000000</td>\n      <td>0.375050</td>\n      <td>0.426007</td>\n      <td>0.000000</td>\n      <td>0.269431</td>\n      <td>0.000000</td>\n      <td>0.295369</td>\n      <td>0.319754</td>\n      <td>0.000000</td>\n    </tr>\n    <tr>\n      <th>max</th>\n      <td>14.830000</td>\n      <td>5.800000</td>\n      <td>3.230000</td>\n      <td>30.000000</td>\n      <td>162.000000</td>\n      <td>3.880000</td>\n      <td>5.080000</td>\n      <td>0.660000</td>\n      <td>3.580000</td>\n      <td>13.000000</td>\n      <td>1.710000</td>\n      <td>4.000000</td>\n      <td>1680.000000</td>\n      <td>1.000000</td>\n      <td>1.000000</td>\n      <td>1.000000</td>\n      <td>1.000000</td>\n      <td>1.000000</td>\n      <td>1.000000</td>\n      <td>1.000000</td>\n      <td>1.000000</td>\n      <td>1.000000</td>\n      <td>1.000000</td>\n      <td>1.000000</td>\n      <td>1.000000</td>\n      <td>1.000000</td>\n    </tr>\n  </tbody>\n</table>\n</div>"
     },
     "execution_count": 33,
     "metadata": {},
     "output_type": "execute_result"
    }
   ],
   "source": [
    "X = X.drop('target', axis=1)\n",
    "\n",
    "high_coor = pow(high_coor, 2)\n",
    "high_coor[high_coor.isna()] = 0\n",
    "high_coor = high_coor.add_suffix('_2')\n",
    "\n",
    "X = pd.concat([X, high_coor], axis=1)\n",
    "X.describe()"
   ],
   "metadata": {
    "collapsed": false,
    "pycharm": {
     "name": "#%%\n"
    }
   }
  }
 ],
 "metadata": {
  "kernelspec": {
   "display_name": "Python 3",
   "language": "python",
   "name": "python3"
  },
  "language_info": {
   "codemirror_mode": {
    "name": "ipython",
    "version": 3
   },
   "file_extension": ".py",
   "mimetype": "text/x-python",
   "name": "python",
   "nbconvert_exporter": "python",
   "pygments_lexer": "ipython3",
   "version": "3.9.5"
  }
 },
 "nbformat": 4,
 "nbformat_minor": 1
}